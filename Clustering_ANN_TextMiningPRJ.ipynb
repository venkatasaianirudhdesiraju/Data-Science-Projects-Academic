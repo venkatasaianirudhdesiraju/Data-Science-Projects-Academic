{
 "cells": [
  {
   "cell_type": "markdown",
   "metadata": {},
   "source": [
    "## Clustering,ANN and Text Mining "
   ]
  },
  {
   "cell_type": "code",
   "execution_count": 1,
   "metadata": {},
   "outputs": [],
   "source": [
    "import pandas as pd\n",
    "import numpy as np\n",
    "import matplotlib.pyplot as plt\n",
    "import seaborn as sns\n",
    "\n",
    "\n",
    "\n",
    "# to make this notebook's output stable across runs\n",
    "\n",
    "\n",
    "%matplotlib inline\n",
    "import matplotlib\n",
    "import matplotlib.pyplot as plt\n",
    "plt.rcParams['axes.labelsize'] = 14\n",
    "plt.rcParams['xtick.labelsize'] = 12\n",
    "plt.rcParams['ytick.labelsize'] = 12\n",
    "\n",
    "\n",
    "\n",
    "# Ignore useless warnings (see SciPy issue #5998)\n",
    "import warnings\n",
    "warnings.filterwarnings(\"ignore\")"
   ]
  },
  {
   "cell_type": "code",
   "execution_count": 2,
   "metadata": {},
   "outputs": [],
   "source": [
    "df = pd.read_csv('score_dataset.csv',sep=',')\n",
    "df.drop('Serial No.',axis = 1,inplace = True)\n",
    "df.columns = ['GRE', 'TOEFL', 'University Rating','SOP','LOR','CGPA','Research','Chance of Admit']\n",
    "np.random.seed(0)\n",
    "df_explore = df.copy()"
   ]
  },
  {
   "cell_type": "code",
   "execution_count": 3,
   "metadata": {},
   "outputs": [
    {
     "data": {
      "text/plain": [
       "(500, 8)"
      ]
     },
     "execution_count": 3,
     "metadata": {},
     "output_type": "execute_result"
    }
   ],
   "source": [
    "df_explore.shape"
   ]
  },
  {
   "cell_type": "code",
   "execution_count": 4,
   "metadata": {},
   "outputs": [
    {
     "data": {
      "text/plain": [
       "GRE                    int64\n",
       "TOEFL                  int64\n",
       "University Rating      int64\n",
       "SOP                  float64\n",
       "LOR                  float64\n",
       "CGPA                 float64\n",
       "Research               int64\n",
       "Chance of Admit      float64\n",
       "dtype: object"
      ]
     },
     "execution_count": 4,
     "metadata": {},
     "output_type": "execute_result"
    }
   ],
   "source": [
    "df_explore.dtypes"
   ]
  },
  {
   "cell_type": "code",
   "execution_count": 5,
   "metadata": {},
   "outputs": [
    {
     "data": {
      "text/html": [
       "<div>\n",
       "<style scoped>\n",
       "    .dataframe tbody tr th:only-of-type {\n",
       "        vertical-align: middle;\n",
       "    }\n",
       "\n",
       "    .dataframe tbody tr th {\n",
       "        vertical-align: top;\n",
       "    }\n",
       "\n",
       "    .dataframe thead th {\n",
       "        text-align: right;\n",
       "    }\n",
       "</style>\n",
       "<table border=\"1\" class=\"dataframe\">\n",
       "  <thead>\n",
       "    <tr style=\"text-align: right;\">\n",
       "      <th></th>\n",
       "      <th>GRE</th>\n",
       "      <th>TOEFL</th>\n",
       "      <th>University Rating</th>\n",
       "      <th>SOP</th>\n",
       "      <th>LOR</th>\n",
       "      <th>CGPA</th>\n",
       "      <th>Research</th>\n",
       "      <th>Chance of Admit</th>\n",
       "    </tr>\n",
       "  </thead>\n",
       "  <tbody>\n",
       "    <tr>\n",
       "      <td>90</td>\n",
       "      <td>318</td>\n",
       "      <td>106</td>\n",
       "      <td>2</td>\n",
       "      <td>4.0</td>\n",
       "      <td>4.0</td>\n",
       "      <td>7.92</td>\n",
       "      <td>1</td>\n",
       "      <td>0.64</td>\n",
       "    </tr>\n",
       "    <tr>\n",
       "      <td>254</td>\n",
       "      <td>321</td>\n",
       "      <td>114</td>\n",
       "      <td>4</td>\n",
       "      <td>4.0</td>\n",
       "      <td>5.0</td>\n",
       "      <td>9.12</td>\n",
       "      <td>0</td>\n",
       "      <td>0.85</td>\n",
       "    </tr>\n",
       "    <tr>\n",
       "      <td>283</td>\n",
       "      <td>321</td>\n",
       "      <td>111</td>\n",
       "      <td>3</td>\n",
       "      <td>2.5</td>\n",
       "      <td>3.0</td>\n",
       "      <td>8.90</td>\n",
       "      <td>1</td>\n",
       "      <td>0.80</td>\n",
       "    </tr>\n",
       "    <tr>\n",
       "      <td>445</td>\n",
       "      <td>328</td>\n",
       "      <td>116</td>\n",
       "      <td>5</td>\n",
       "      <td>4.5</td>\n",
       "      <td>5.0</td>\n",
       "      <td>9.08</td>\n",
       "      <td>1</td>\n",
       "      <td>0.91</td>\n",
       "    </tr>\n",
       "    <tr>\n",
       "      <td>461</td>\n",
       "      <td>301</td>\n",
       "      <td>102</td>\n",
       "      <td>3</td>\n",
       "      <td>2.5</td>\n",
       "      <td>2.0</td>\n",
       "      <td>8.13</td>\n",
       "      <td>1</td>\n",
       "      <td>0.68</td>\n",
       "    </tr>\n",
       "    <tr>\n",
       "      <td>15</td>\n",
       "      <td>314</td>\n",
       "      <td>105</td>\n",
       "      <td>3</td>\n",
       "      <td>3.5</td>\n",
       "      <td>2.5</td>\n",
       "      <td>8.30</td>\n",
       "      <td>0</td>\n",
       "      <td>0.54</td>\n",
       "    </tr>\n",
       "    <tr>\n",
       "      <td>316</td>\n",
       "      <td>298</td>\n",
       "      <td>101</td>\n",
       "      <td>2</td>\n",
       "      <td>1.5</td>\n",
       "      <td>2.0</td>\n",
       "      <td>7.86</td>\n",
       "      <td>0</td>\n",
       "      <td>0.54</td>\n",
       "    </tr>\n",
       "    <tr>\n",
       "      <td>489</td>\n",
       "      <td>302</td>\n",
       "      <td>110</td>\n",
       "      <td>3</td>\n",
       "      <td>4.0</td>\n",
       "      <td>4.5</td>\n",
       "      <td>8.50</td>\n",
       "      <td>0</td>\n",
       "      <td>0.65</td>\n",
       "    </tr>\n",
       "    <tr>\n",
       "      <td>159</td>\n",
       "      <td>297</td>\n",
       "      <td>100</td>\n",
       "      <td>1</td>\n",
       "      <td>1.5</td>\n",
       "      <td>2.0</td>\n",
       "      <td>7.90</td>\n",
       "      <td>0</td>\n",
       "      <td>0.52</td>\n",
       "    </tr>\n",
       "    <tr>\n",
       "      <td>153</td>\n",
       "      <td>324</td>\n",
       "      <td>105</td>\n",
       "      <td>3</td>\n",
       "      <td>3.0</td>\n",
       "      <td>4.0</td>\n",
       "      <td>8.75</td>\n",
       "      <td>0</td>\n",
       "      <td>0.79</td>\n",
       "    </tr>\n",
       "  </tbody>\n",
       "</table>\n",
       "</div>"
      ],
      "text/plain": [
       "     GRE  TOEFL  University Rating  SOP  LOR  CGPA  Research  Chance of Admit\n",
       "90   318    106                  2  4.0  4.0  7.92         1             0.64\n",
       "254  321    114                  4  4.0  5.0  9.12         0             0.85\n",
       "283  321    111                  3  2.5  3.0  8.90         1             0.80\n",
       "445  328    116                  5  4.5  5.0  9.08         1             0.91\n",
       "461  301    102                  3  2.5  2.0  8.13         1             0.68\n",
       "15   314    105                  3  3.5  2.5  8.30         0             0.54\n",
       "316  298    101                  2  1.5  2.0  7.86         0             0.54\n",
       "489  302    110                  3  4.0  4.5  8.50         0             0.65\n",
       "159  297    100                  1  1.5  2.0  7.90         0             0.52\n",
       "153  324    105                  3  3.0  4.0  8.75         0             0.79"
      ]
     },
     "execution_count": 5,
     "metadata": {},
     "output_type": "execute_result"
    }
   ],
   "source": [
    "df_explore.sample(10, random_state=0)"
   ]
  },
  {
   "cell_type": "markdown",
   "metadata": {},
   "source": [
    "### Missing Values "
   ]
  },
  {
   "cell_type": "code",
   "execution_count": 6,
   "metadata": {},
   "outputs": [
    {
     "name": "stdout",
     "output_type": "stream",
     "text": [
      "Number of instances=500\n",
      "Number of attributes=8\n",
      "Number pf missing values:\n",
      "\tGRE: 0\n",
      "\tTOEFL: 0\n",
      "\tUniversity Rating: 0\n",
      "\tSOP: 0\n",
      "\tLOR: 0\n",
      "\tCGPA: 0\n",
      "\tResearch: 0\n",
      "\tChance of Admit: 0\n"
     ]
    }
   ],
   "source": [
    "\n",
    "df_explore=df_explore.replace('?',np.nan)\n",
    "print('Number of instances=%d'%(df_explore.shape[0]))\n",
    "print('Number of attributes=%d'%(df_explore.shape[1]))\n",
    "\n",
    "print('Number pf missing values:')\n",
    "for column in df_explore.columns:\n",
    "    print('\\t%s: %d'%(column,df_explore[column].isna().sum()))"
   ]
  },
  {
   "cell_type": "code",
   "execution_count": 7,
   "metadata": {},
   "outputs": [],
   "source": [
    "dep_var = ['Chance of Admit']\n",
    "\n",
    "categorical_vars = ['Research']\n",
    "\n",
    "discrete_vars = ['GRE','TOEFL','University Rating']\n",
    "\n",
    "continuous_vars = ['SOP','LOR','CGPA']"
   ]
  },
  {
   "cell_type": "markdown",
   "metadata": {},
   "source": [
    "### Categorical Values"
   ]
  },
  {
   "cell_type": "code",
   "execution_count": 9,
   "metadata": {},
   "outputs": [
    {
     "name": "stdout",
     "output_type": "stream",
     "text": [
      "1    280\n",
      "0    220\n",
      "Name: Research, dtype: int64\n",
      "\n"
     ]
    }
   ],
   "source": [
    "for i in categorical_vars:\n",
    "    print(df_explore[i].value_counts())\n",
    "    print()"
   ]
  },
  {
   "cell_type": "code",
   "execution_count": 10,
   "metadata": {},
   "outputs": [
    {
     "name": "stdout",
     "output_type": "stream",
     "text": [
      "<class 'pandas.core.frame.DataFrame'>\n",
      "RangeIndex: 500 entries, 0 to 499\n",
      "Data columns (total 8 columns):\n",
      "GRE                  500 non-null int64\n",
      "TOEFL                500 non-null int64\n",
      "University Rating    500 non-null int64\n",
      "SOP                  500 non-null float64\n",
      "LOR                  500 non-null float64\n",
      "CGPA                 500 non-null float64\n",
      "Research             500 non-null int64\n",
      "Chance of Admit      500 non-null float64\n",
      "dtypes: float64(4), int64(4)\n",
      "memory usage: 31.4 KB\n"
     ]
    }
   ],
   "source": [
    "df_explore.info()"
   ]
  },
  {
   "cell_type": "code",
   "execution_count": 11,
   "metadata": {},
   "outputs": [],
   "source": [
    "dataset=df.copy()"
   ]
  },
  {
   "cell_type": "code",
   "execution_count": 12,
   "metadata": {},
   "outputs": [
    {
     "name": "stdout",
     "output_type": "stream",
     "text": [
      "(500, 8)\n"
     ]
    },
    {
     "data": {
      "text/html": [
       "<div>\n",
       "<style scoped>\n",
       "    .dataframe tbody tr th:only-of-type {\n",
       "        vertical-align: middle;\n",
       "    }\n",
       "\n",
       "    .dataframe tbody tr th {\n",
       "        vertical-align: top;\n",
       "    }\n",
       "\n",
       "    .dataframe thead th {\n",
       "        text-align: right;\n",
       "    }\n",
       "</style>\n",
       "<table border=\"1\" class=\"dataframe\">\n",
       "  <thead>\n",
       "    <tr style=\"text-align: right;\">\n",
       "      <th></th>\n",
       "      <th>GRE</th>\n",
       "      <th>TOEFL</th>\n",
       "      <th>University Rating</th>\n",
       "      <th>SOP</th>\n",
       "      <th>LOR</th>\n",
       "      <th>CGPA</th>\n",
       "      <th>Research</th>\n",
       "      <th>Chance of Admit</th>\n",
       "    </tr>\n",
       "  </thead>\n",
       "  <tbody>\n",
       "    <tr>\n",
       "      <td>count</td>\n",
       "      <td>500.000000</td>\n",
       "      <td>500.000000</td>\n",
       "      <td>500.000000</td>\n",
       "      <td>500.000000</td>\n",
       "      <td>500.00000</td>\n",
       "      <td>500.000000</td>\n",
       "      <td>500.000000</td>\n",
       "      <td>500.00000</td>\n",
       "    </tr>\n",
       "    <tr>\n",
       "      <td>mean</td>\n",
       "      <td>316.472000</td>\n",
       "      <td>107.192000</td>\n",
       "      <td>3.114000</td>\n",
       "      <td>3.374000</td>\n",
       "      <td>3.48400</td>\n",
       "      <td>8.576440</td>\n",
       "      <td>0.560000</td>\n",
       "      <td>0.72174</td>\n",
       "    </tr>\n",
       "    <tr>\n",
       "      <td>std</td>\n",
       "      <td>11.295148</td>\n",
       "      <td>6.081868</td>\n",
       "      <td>1.143512</td>\n",
       "      <td>0.991004</td>\n",
       "      <td>0.92545</td>\n",
       "      <td>0.604813</td>\n",
       "      <td>0.496884</td>\n",
       "      <td>0.14114</td>\n",
       "    </tr>\n",
       "    <tr>\n",
       "      <td>min</td>\n",
       "      <td>290.000000</td>\n",
       "      <td>92.000000</td>\n",
       "      <td>1.000000</td>\n",
       "      <td>1.000000</td>\n",
       "      <td>1.00000</td>\n",
       "      <td>6.800000</td>\n",
       "      <td>0.000000</td>\n",
       "      <td>0.34000</td>\n",
       "    </tr>\n",
       "    <tr>\n",
       "      <td>25%</td>\n",
       "      <td>308.000000</td>\n",
       "      <td>103.000000</td>\n",
       "      <td>2.000000</td>\n",
       "      <td>2.500000</td>\n",
       "      <td>3.00000</td>\n",
       "      <td>8.127500</td>\n",
       "      <td>0.000000</td>\n",
       "      <td>0.63000</td>\n",
       "    </tr>\n",
       "    <tr>\n",
       "      <td>50%</td>\n",
       "      <td>317.000000</td>\n",
       "      <td>107.000000</td>\n",
       "      <td>3.000000</td>\n",
       "      <td>3.500000</td>\n",
       "      <td>3.50000</td>\n",
       "      <td>8.560000</td>\n",
       "      <td>1.000000</td>\n",
       "      <td>0.72000</td>\n",
       "    </tr>\n",
       "    <tr>\n",
       "      <td>75%</td>\n",
       "      <td>325.000000</td>\n",
       "      <td>112.000000</td>\n",
       "      <td>4.000000</td>\n",
       "      <td>4.000000</td>\n",
       "      <td>4.00000</td>\n",
       "      <td>9.040000</td>\n",
       "      <td>1.000000</td>\n",
       "      <td>0.82000</td>\n",
       "    </tr>\n",
       "    <tr>\n",
       "      <td>max</td>\n",
       "      <td>340.000000</td>\n",
       "      <td>120.000000</td>\n",
       "      <td>5.000000</td>\n",
       "      <td>5.000000</td>\n",
       "      <td>5.00000</td>\n",
       "      <td>9.920000</td>\n",
       "      <td>1.000000</td>\n",
       "      <td>0.97000</td>\n",
       "    </tr>\n",
       "  </tbody>\n",
       "</table>\n",
       "</div>"
      ],
      "text/plain": [
       "              GRE       TOEFL  University Rating         SOP        LOR  \\\n",
       "count  500.000000  500.000000         500.000000  500.000000  500.00000   \n",
       "mean   316.472000  107.192000           3.114000    3.374000    3.48400   \n",
       "std     11.295148    6.081868           1.143512    0.991004    0.92545   \n",
       "min    290.000000   92.000000           1.000000    1.000000    1.00000   \n",
       "25%    308.000000  103.000000           2.000000    2.500000    3.00000   \n",
       "50%    317.000000  107.000000           3.000000    3.500000    3.50000   \n",
       "75%    325.000000  112.000000           4.000000    4.000000    4.00000   \n",
       "max    340.000000  120.000000           5.000000    5.000000    5.00000   \n",
       "\n",
       "             CGPA    Research  Chance of Admit  \n",
       "count  500.000000  500.000000        500.00000  \n",
       "mean     8.576440    0.560000          0.72174  \n",
       "std      0.604813    0.496884          0.14114  \n",
       "min      6.800000    0.000000          0.34000  \n",
       "25%      8.127500    0.000000          0.63000  \n",
       "50%      8.560000    1.000000          0.72000  \n",
       "75%      9.040000    1.000000          0.82000  \n",
       "max      9.920000    1.000000          0.97000  "
      ]
     },
     "execution_count": 12,
     "metadata": {},
     "output_type": "execute_result"
    }
   ],
   "source": [
    "print(dataset.shape)\n",
    "dataset.describe()"
   ]
  },
  {
   "cell_type": "markdown",
   "metadata": {},
   "source": [
    "### Correlation Analysis "
   ]
  },
  {
   "cell_type": "code",
   "execution_count": 14,
   "metadata": {},
   "outputs": [
    {
     "data": {
      "text/html": [
       "<div>\n",
       "<style scoped>\n",
       "    .dataframe tbody tr th:only-of-type {\n",
       "        vertical-align: middle;\n",
       "    }\n",
       "\n",
       "    .dataframe tbody tr th {\n",
       "        vertical-align: top;\n",
       "    }\n",
       "\n",
       "    .dataframe thead th {\n",
       "        text-align: right;\n",
       "    }\n",
       "</style>\n",
       "<table border=\"1\" class=\"dataframe\">\n",
       "  <thead>\n",
       "    <tr style=\"text-align: right;\">\n",
       "      <th></th>\n",
       "      <th>GRE</th>\n",
       "      <th>TOEFL</th>\n",
       "      <th>University Rating</th>\n",
       "      <th>SOP</th>\n",
       "      <th>LOR</th>\n",
       "      <th>CGPA</th>\n",
       "      <th>Research</th>\n",
       "      <th>Chance of Admit</th>\n",
       "    </tr>\n",
       "  </thead>\n",
       "  <tbody>\n",
       "    <tr>\n",
       "      <td>GRE</td>\n",
       "      <td>1.000000</td>\n",
       "      <td>0.827200</td>\n",
       "      <td>0.635376</td>\n",
       "      <td>0.613498</td>\n",
       "      <td>0.524679</td>\n",
       "      <td>0.825878</td>\n",
       "      <td>0.563398</td>\n",
       "      <td>0.810351</td>\n",
       "    </tr>\n",
       "    <tr>\n",
       "      <td>TOEFL</td>\n",
       "      <td>0.827200</td>\n",
       "      <td>1.000000</td>\n",
       "      <td>0.649799</td>\n",
       "      <td>0.644410</td>\n",
       "      <td>0.541563</td>\n",
       "      <td>0.810574</td>\n",
       "      <td>0.467012</td>\n",
       "      <td>0.792228</td>\n",
       "    </tr>\n",
       "    <tr>\n",
       "      <td>University Rating</td>\n",
       "      <td>0.635376</td>\n",
       "      <td>0.649799</td>\n",
       "      <td>1.000000</td>\n",
       "      <td>0.728024</td>\n",
       "      <td>0.608651</td>\n",
       "      <td>0.705254</td>\n",
       "      <td>0.427047</td>\n",
       "      <td>0.690132</td>\n",
       "    </tr>\n",
       "    <tr>\n",
       "      <td>SOP</td>\n",
       "      <td>0.613498</td>\n",
       "      <td>0.644410</td>\n",
       "      <td>0.728024</td>\n",
       "      <td>1.000000</td>\n",
       "      <td>0.663707</td>\n",
       "      <td>0.712154</td>\n",
       "      <td>0.408116</td>\n",
       "      <td>0.684137</td>\n",
       "    </tr>\n",
       "    <tr>\n",
       "      <td>LOR</td>\n",
       "      <td>0.524679</td>\n",
       "      <td>0.541563</td>\n",
       "      <td>0.608651</td>\n",
       "      <td>0.663707</td>\n",
       "      <td>1.000000</td>\n",
       "      <td>0.637469</td>\n",
       "      <td>0.372526</td>\n",
       "      <td>0.645365</td>\n",
       "    </tr>\n",
       "    <tr>\n",
       "      <td>CGPA</td>\n",
       "      <td>0.825878</td>\n",
       "      <td>0.810574</td>\n",
       "      <td>0.705254</td>\n",
       "      <td>0.712154</td>\n",
       "      <td>0.637469</td>\n",
       "      <td>1.000000</td>\n",
       "      <td>0.501311</td>\n",
       "      <td>0.882413</td>\n",
       "    </tr>\n",
       "    <tr>\n",
       "      <td>Research</td>\n",
       "      <td>0.563398</td>\n",
       "      <td>0.467012</td>\n",
       "      <td>0.427047</td>\n",
       "      <td>0.408116</td>\n",
       "      <td>0.372526</td>\n",
       "      <td>0.501311</td>\n",
       "      <td>1.000000</td>\n",
       "      <td>0.545871</td>\n",
       "    </tr>\n",
       "    <tr>\n",
       "      <td>Chance of Admit</td>\n",
       "      <td>0.810351</td>\n",
       "      <td>0.792228</td>\n",
       "      <td>0.690132</td>\n",
       "      <td>0.684137</td>\n",
       "      <td>0.645365</td>\n",
       "      <td>0.882413</td>\n",
       "      <td>0.545871</td>\n",
       "      <td>1.000000</td>\n",
       "    </tr>\n",
       "  </tbody>\n",
       "</table>\n",
       "</div>"
      ],
      "text/plain": [
       "                        GRE     TOEFL  University Rating       SOP       LOR  \\\n",
       "GRE                1.000000  0.827200           0.635376  0.613498  0.524679   \n",
       "TOEFL              0.827200  1.000000           0.649799  0.644410  0.541563   \n",
       "University Rating  0.635376  0.649799           1.000000  0.728024  0.608651   \n",
       "SOP                0.613498  0.644410           0.728024  1.000000  0.663707   \n",
       "LOR                0.524679  0.541563           0.608651  0.663707  1.000000   \n",
       "CGPA               0.825878  0.810574           0.705254  0.712154  0.637469   \n",
       "Research           0.563398  0.467012           0.427047  0.408116  0.372526   \n",
       "Chance of Admit    0.810351  0.792228           0.690132  0.684137  0.645365   \n",
       "\n",
       "                       CGPA  Research  Chance of Admit  \n",
       "GRE                0.825878  0.563398         0.810351  \n",
       "TOEFL              0.810574  0.467012         0.792228  \n",
       "University Rating  0.705254  0.427047         0.690132  \n",
       "SOP                0.712154  0.408116         0.684137  \n",
       "LOR                0.637469  0.372526         0.645365  \n",
       "CGPA               1.000000  0.501311         0.882413  \n",
       "Research           0.501311  1.000000         0.545871  \n",
       "Chance of Admit    0.882413  0.545871         1.000000  "
      ]
     },
     "execution_count": 14,
     "metadata": {},
     "output_type": "execute_result"
    }
   ],
   "source": [
    "dataset.corr(method=\"pearson\")"
   ]
  },
  {
   "cell_type": "code",
   "execution_count": 15,
   "metadata": {},
   "outputs": [
    {
     "data": {
      "text/plain": [
       "Text(0.5, 1, 'Pearsons Correlation Factors Heat Map')"
      ]
     },
     "execution_count": 15,
     "metadata": {},
     "output_type": "execute_result"
    },
    {
     "data": {
      "image/png": "[encoded data removed]",
      "text/plain": [
       "<Figure size 1080x288 with 2 Axes>"
      ]
     },
     "metadata": {},
     "output_type": "display_data"
    }
   ],
   "source": [
    "corr = dataset.corr() #saving the correlation for later use\n",
    "ax = sns.set(rc={'figure.figsize':(15,4)})\n",
    "sns.heatmap(corr, annot=True).set_title('Pearsons Correlation Factors Heat Map', color='black', size='20')"
   ]
  },
  {
   "cell_type": "markdown",
   "metadata": {},
   "source": [
    "### Analysing the Chance of Admit if gre and toefl are greater that 85 percent"
   ]
  },
  {
   "cell_type": "code",
   "execution_count": 16,
   "metadata": {},
   "outputs": [
    {
     "data": {
      "image/png": "[encoded data removed]",
      "text/plain": [
       "<Figure size 1080x288 with 1 Axes>"
      ]
     },
     "metadata": {},
     "output_type": "display_data"
    },
    {
     "data": {
      "image/png": "[encoded data removed]",
      "text/plain": [
       "<Figure size 1080x288 with 1 Axes>"
      ]
     },
     "metadata": {},
     "output_type": "display_data"
    }
   ],
   "source": [
    "dataset[dataset['Chance of Admit'] > 0.85]['GRE'].plot(kind = 'hist',x = 'GRE',alpha = 0.25)\n",
    "plt.text(320, 15, 'Average Score %d' %(int(np.mean(dataset[dataset['Chance of Admit'] > 0.85]['GRE']))), fontsize=15)\n",
    "plt.xlabel('GRE Score',fontsize = 20)\n",
    "plt.ylabel('Frequency',fontsize = 20)\n",
    "plt.title('GRE Score with Chances higher than 85%',fontsize = 20)\n",
    "plt.show()\n",
    "\n",
    "dataset[dataset['Chance of Admit'] > 0.85]['TOEFL'].plot(kind = 'hist',x = 'TOEFL',alpha = 0.25)\n",
    "plt.text(110, 15, 'Average Score %d' %(int(np.mean(dataset[dataset['Chance of Admit'] > 0.85]['TOEFL']))), fontsize=15)\n",
    "plt.xlabel('TOEFL Score',fontsize = 20)\n",
    "plt.ylabel('Frequency',fontsize = 20)\n",
    "plt.title('TOEFL Score with chances higher than 85%',fontsize = 20)\n",
    "plt.show()"
   ]
  },
  {
   "cell_type": "markdown",
   "metadata": {},
   "source": [
    "#### University Ratings values"
   ]
  },
  {
   "cell_type": "code",
   "execution_count": 17,
   "metadata": {},
   "outputs": [
    {
     "data": {
      "text/plain": [
       "array([4, 3, 2, 5, 1], dtype=int64)"
      ]
     },
     "execution_count": 17,
     "metadata": {},
     "output_type": "execute_result"
    }
   ],
   "source": [
    "dataset['University Rating'].unique()"
   ]
  },
  {
   "cell_type": "markdown",
   "metadata": {},
   "source": [
    "### The chance of admit if university rating is 4 and have done research"
   ]
  },
  {
   "cell_type": "code",
   "execution_count": 18,
   "metadata": {},
   "outputs": [
    {
     "data": {
      "text/html": [
       "<div>\n",
       "<style scoped>\n",
       "    .dataframe tbody tr th:only-of-type {\n",
       "        vertical-align: middle;\n",
       "    }\n",
       "\n",
       "    .dataframe tbody tr th {\n",
       "        vertical-align: top;\n",
       "    }\n",
       "\n",
       "    .dataframe thead th {\n",
       "        text-align: right;\n",
       "    }\n",
       "</style>\n",
       "<table border=\"1\" class=\"dataframe\">\n",
       "  <thead>\n",
       "    <tr style=\"text-align: right;\">\n",
       "      <th></th>\n",
       "      <th>GRE</th>\n",
       "      <th>TOEFL</th>\n",
       "      <th>University Rating</th>\n",
       "      <th>SOP</th>\n",
       "      <th>LOR</th>\n",
       "      <th>CGPA</th>\n",
       "      <th>Research</th>\n",
       "      <th>Chance of Admit</th>\n",
       "    </tr>\n",
       "  </thead>\n",
       "  <tbody>\n",
       "    <tr>\n",
       "      <td>492</td>\n",
       "      <td>298</td>\n",
       "      <td>101</td>\n",
       "      <td>4</td>\n",
       "      <td>2.5</td>\n",
       "      <td>4.5</td>\n",
       "      <td>7.69</td>\n",
       "      <td>1</td>\n",
       "      <td>0.53</td>\n",
       "    </tr>\n",
       "    <tr>\n",
       "      <td>412</td>\n",
       "      <td>314</td>\n",
       "      <td>102</td>\n",
       "      <td>4</td>\n",
       "      <td>2.5</td>\n",
       "      <td>2.0</td>\n",
       "      <td>7.88</td>\n",
       "      <td>1</td>\n",
       "      <td>0.59</td>\n",
       "    </tr>\n",
       "    <tr>\n",
       "      <td>406</td>\n",
       "      <td>322</td>\n",
       "      <td>103</td>\n",
       "      <td>4</td>\n",
       "      <td>3.0</td>\n",
       "      <td>2.5</td>\n",
       "      <td>8.02</td>\n",
       "      <td>1</td>\n",
       "      <td>0.61</td>\n",
       "    </tr>\n",
       "    <tr>\n",
       "      <td>115</td>\n",
       "      <td>310</td>\n",
       "      <td>106</td>\n",
       "      <td>4</td>\n",
       "      <td>4.5</td>\n",
       "      <td>4.5</td>\n",
       "      <td>9.04</td>\n",
       "      <td>1</td>\n",
       "      <td>0.66</td>\n",
       "    </tr>\n",
       "    <tr>\n",
       "      <td>474</td>\n",
       "      <td>308</td>\n",
       "      <td>105</td>\n",
       "      <td>4</td>\n",
       "      <td>3.0</td>\n",
       "      <td>2.5</td>\n",
       "      <td>7.95</td>\n",
       "      <td>1</td>\n",
       "      <td>0.67</td>\n",
       "    </tr>\n",
       "  </tbody>\n",
       "</table>\n",
       "</div>"
      ],
      "text/plain": [
       "     GRE  TOEFL  University Rating  SOP  LOR  CGPA  Research  Chance of Admit\n",
       "492  298    101                  4  2.5  4.5  7.69         1             0.53\n",
       "412  314    102                  4  2.5  2.0  7.88         1             0.59\n",
       "406  322    103                  4  3.0  2.5  8.02         1             0.61\n",
       "115  310    106                  4  4.5  4.5  9.04         1             0.66\n",
       "474  308    105                  4  3.0  2.5  7.95         1             0.67"
      ]
     },
     "execution_count": 18,
     "metadata": {},
     "output_type": "execute_result"
    }
   ],
   "source": [
    "dataset[(dataset['University Rating'] >= 4) & (dataset['Research'] == 1)].sort_values(by = ['Chance of Admit']).head(5)"
   ]
  },
  {
   "cell_type": "markdown",
   "metadata": {},
   "source": [
    "#### Analysis on LOR and SOP - finding average value"
   ]
  },
  {
   "cell_type": "code",
   "execution_count": 23,
   "metadata": {},
   "outputs": [
    {
     "name": "stdout",
     "output_type": "stream",
     "text": [
      "<class 'pandas.core.frame.DataFrame'>\n",
      "RangeIndex: 500 entries, 0 to 499\n",
      "Data columns (total 8 columns):\n",
      "GRE                  500 non-null int64\n",
      "TOEFL                500 non-null int64\n",
      "University Rating    500 non-null int64\n",
      "SOP                  500 non-null float64\n",
      "LOR                  500 non-null float64\n",
      "CGPA                 500 non-null float64\n",
      "Research             500 non-null int64\n",
      "Chance of Admit      500 non-null float64\n",
      "dtypes: float64(4), int64(4)\n",
      "memory usage: 31.4 KB\n"
     ]
    }
   ],
   "source": [
    "dataset.info()"
   ]
  },
  {
   "cell_type": "markdown",
   "metadata": {},
   "source": [
    "## KMeans Clustering"
   ]
  },
  {
   "cell_type": "code",
   "execution_count": 28,
   "metadata": {},
   "outputs": [],
   "source": [
    "data_df=dataset"
   ]
  },
  {
   "cell_type": "code",
   "execution_count": 29,
   "metadata": {},
   "outputs": [
    {
     "data": {
      "text/html": [
       "<div>\n",
       "<style scoped>\n",
       "    .dataframe tbody tr th:only-of-type {\n",
       "        vertical-align: middle;\n",
       "    }\n",
       "\n",
       "    .dataframe tbody tr th {\n",
       "        vertical-align: top;\n",
       "    }\n",
       "\n",
       "    .dataframe thead th {\n",
       "        text-align: right;\n",
       "    }\n",
       "</style>\n",
       "<table border=\"1\" class=\"dataframe\">\n",
       "  <thead>\n",
       "    <tr style=\"text-align: right;\">\n",
       "      <th></th>\n",
       "      <th>Cluster ID</th>\n",
       "    </tr>\n",
       "    <tr>\n",
       "      <th>SOP</th>\n",
       "      <th></th>\n",
       "    </tr>\n",
       "  </thead>\n",
       "  <tbody>\n",
       "    <tr>\n",
       "      <td>4.5</td>\n",
       "      <td>1</td>\n",
       "    </tr>\n",
       "    <tr>\n",
       "      <td>4.0</td>\n",
       "      <td>1</td>\n",
       "    </tr>\n",
       "    <tr>\n",
       "      <td>3.0</td>\n",
       "      <td>0</td>\n",
       "    </tr>\n",
       "    <tr>\n",
       "      <td>3.5</td>\n",
       "      <td>1</td>\n",
       "    </tr>\n",
       "    <tr>\n",
       "      <td>2.0</td>\n",
       "      <td>0</td>\n",
       "    </tr>\n",
       "    <tr>\n",
       "      <td>...</td>\n",
       "      <td>...</td>\n",
       "    </tr>\n",
       "    <tr>\n",
       "      <td>4.5</td>\n",
       "      <td>1</td>\n",
       "    </tr>\n",
       "    <tr>\n",
       "      <td>5.0</td>\n",
       "      <td>1</td>\n",
       "    </tr>\n",
       "    <tr>\n",
       "      <td>4.5</td>\n",
       "      <td>1</td>\n",
       "    </tr>\n",
       "    <tr>\n",
       "      <td>4.0</td>\n",
       "      <td>0</td>\n",
       "    </tr>\n",
       "    <tr>\n",
       "      <td>4.5</td>\n",
       "      <td>1</td>\n",
       "    </tr>\n",
       "  </tbody>\n",
       "</table>\n",
       "<p>500 rows × 1 columns</p>\n",
       "</div>"
      ],
      "text/plain": [
       "     Cluster ID\n",
       "SOP            \n",
       "4.5           1\n",
       "4.0           1\n",
       "3.0           0\n",
       "3.5           1\n",
       "2.0           0\n",
       "..          ...\n",
       "4.5           1\n",
       "5.0           1\n",
       "4.5           1\n",
       "4.0           0\n",
       "4.5           1\n",
       "\n",
       "[500 rows x 1 columns]"
      ]
     },
     "execution_count": 29,
     "metadata": {},
     "output_type": "execute_result"
    }
   ],
   "source": [
    "from sklearn import cluster\n",
    "\n",
    "#data = data_df.drop('',axis=1)\n",
    "k_means = cluster.KMeans(n_clusters=2, max_iter=50, random_state=1)\n",
    "k_means.fit(data_df) \n",
    "labels = k_means.labels_\n",
    "pd.DataFrame(labels, index=dataset.SOP, columns=['Cluster ID'])"
   ]
  },
  {
   "cell_type": "code",
   "execution_count": 31,
   "metadata": {},
   "outputs": [
    {
     "data": {
      "text/html": [
       "<div>\n",
       "<style scoped>\n",
       "    .dataframe tbody tr th:only-of-type {\n",
       "        vertical-align: middle;\n",
       "    }\n",
       "\n",
       "    .dataframe tbody tr th {\n",
       "        vertical-align: top;\n",
       "    }\n",
       "\n",
       "    .dataframe thead th {\n",
       "        text-align: right;\n",
       "    }\n",
       "</style>\n",
       "<table border=\"1\" class=\"dataframe\">\n",
       "  <thead>\n",
       "    <tr style=\"text-align: right;\">\n",
       "      <th></th>\n",
       "      <th>GRE</th>\n",
       "      <th>TOEFL</th>\n",
       "      <th>University Rating</th>\n",
       "      <th>SOP</th>\n",
       "      <th>LOR</th>\n",
       "      <th>CGPA</th>\n",
       "      <th>Research</th>\n",
       "      <th>Chance of Admit</th>\n",
       "    </tr>\n",
       "  </thead>\n",
       "  <tbody>\n",
       "    <tr>\n",
       "      <td>0</td>\n",
       "      <td>307.766917</td>\n",
       "      <td>102.898496</td>\n",
       "      <td>2.477444</td>\n",
       "      <td>2.860902</td>\n",
       "      <td>3.080827</td>\n",
       "      <td>8.167895</td>\n",
       "      <td>0.293233</td>\n",
       "      <td>0.628910</td>\n",
       "    </tr>\n",
       "    <tr>\n",
       "      <td>1</td>\n",
       "      <td>326.367521</td>\n",
       "      <td>112.072650</td>\n",
       "      <td>3.837607</td>\n",
       "      <td>3.957265</td>\n",
       "      <td>3.942308</td>\n",
       "      <td>9.040855</td>\n",
       "      <td>0.863248</td>\n",
       "      <td>0.827265</td>\n",
       "    </tr>\n",
       "  </tbody>\n",
       "</table>\n",
       "</div>"
      ],
      "text/plain": [
       "          GRE       TOEFL  University Rating       SOP       LOR      CGPA  \\\n",
       "0  307.766917  102.898496           2.477444  2.860902  3.080827  8.167895   \n",
       "1  326.367521  112.072650           3.837607  3.957265  3.942308  9.040855   \n",
       "\n",
       "   Research  Chance of Admit  \n",
       "0  0.293233         0.628910  \n",
       "1  0.863248         0.827265  "
      ]
     },
     "execution_count": 31,
     "metadata": {},
     "output_type": "execute_result"
    }
   ],
   "source": [
    "centroids = k_means.cluster_centers_\n",
    "pd.DataFrame(centroids,columns=data_df.columns)"
   ]
  },
  {
   "cell_type": "markdown",
   "metadata": {},
   "source": [
    "### Splitting dataset"
   ]
  },
  {
   "cell_type": "code",
   "execution_count": 33,
   "metadata": {},
   "outputs": [],
   "source": [
    "from sklearn.model_selection import train_test_split\n",
    "x_train, x_test, y_train, y_test =train_test_split(data_df[['GRE', 'TOEFL', 'University Rating']], data_df['CGPA'], test_size=0.20, random_state=42)\n"
   ]
  },
  {
   "cell_type": "code",
   "execution_count": 34,
   "metadata": {},
   "outputs": [
    {
     "data": {
      "text/plain": [
       "(100, 3)"
      ]
     },
     "execution_count": 34,
     "metadata": {},
     "output_type": "execute_result"
    }
   ],
   "source": [
    "x_test.shape"
   ]
  },
  {
   "cell_type": "code",
   "execution_count": 35,
   "metadata": {},
   "outputs": [
    {
     "data": {
      "text/html": [
       "<div>\n",
       "<style scoped>\n",
       "    .dataframe tbody tr th:only-of-type {\n",
       "        vertical-align: middle;\n",
       "    }\n",
       "\n",
       "    .dataframe tbody tr th {\n",
       "        vertical-align: top;\n",
       "    }\n",
       "\n",
       "    .dataframe thead th {\n",
       "        text-align: right;\n",
       "    }\n",
       "</style>\n",
       "<table border=\"1\" class=\"dataframe\">\n",
       "  <thead>\n",
       "    <tr style=\"text-align: right;\">\n",
       "      <th></th>\n",
       "      <th>GRE</th>\n",
       "      <th>TOEFL</th>\n",
       "      <th>University Rating</th>\n",
       "    </tr>\n",
       "  </thead>\n",
       "  <tbody>\n",
       "    <tr>\n",
       "      <td>361</td>\n",
       "      <td>334</td>\n",
       "      <td>116</td>\n",
       "      <td>4</td>\n",
       "    </tr>\n",
       "    <tr>\n",
       "      <td>73</td>\n",
       "      <td>314</td>\n",
       "      <td>108</td>\n",
       "      <td>4</td>\n",
       "    </tr>\n",
       "    <tr>\n",
       "      <td>374</td>\n",
       "      <td>315</td>\n",
       "      <td>105</td>\n",
       "      <td>2</td>\n",
       "    </tr>\n",
       "    <tr>\n",
       "      <td>155</td>\n",
       "      <td>312</td>\n",
       "      <td>109</td>\n",
       "      <td>3</td>\n",
       "    </tr>\n",
       "    <tr>\n",
       "      <td>104</td>\n",
       "      <td>326</td>\n",
       "      <td>112</td>\n",
       "      <td>3</td>\n",
       "    </tr>\n",
       "    <tr>\n",
       "      <td>...</td>\n",
       "      <td>...</td>\n",
       "      <td>...</td>\n",
       "      <td>...</td>\n",
       "    </tr>\n",
       "    <tr>\n",
       "      <td>347</td>\n",
       "      <td>299</td>\n",
       "      <td>94</td>\n",
       "      <td>1</td>\n",
       "    </tr>\n",
       "    <tr>\n",
       "      <td>86</td>\n",
       "      <td>315</td>\n",
       "      <td>106</td>\n",
       "      <td>3</td>\n",
       "    </tr>\n",
       "    <tr>\n",
       "      <td>75</td>\n",
       "      <td>329</td>\n",
       "      <td>114</td>\n",
       "      <td>2</td>\n",
       "    </tr>\n",
       "    <tr>\n",
       "      <td>438</td>\n",
       "      <td>318</td>\n",
       "      <td>110</td>\n",
       "      <td>1</td>\n",
       "    </tr>\n",
       "    <tr>\n",
       "      <td>15</td>\n",
       "      <td>314</td>\n",
       "      <td>105</td>\n",
       "      <td>3</td>\n",
       "    </tr>\n",
       "  </tbody>\n",
       "</table>\n",
       "<p>100 rows × 3 columns</p>\n",
       "</div>"
      ],
      "text/plain": [
       "     GRE  TOEFL  University Rating\n",
       "361  334    116                  4\n",
       "73   314    108                  4\n",
       "374  315    105                  2\n",
       "155  312    109                  3\n",
       "104  326    112                  3\n",
       "..   ...    ...                ...\n",
       "347  299     94                  1\n",
       "86   315    106                  3\n",
       "75   329    114                  2\n",
       "438  318    110                  1\n",
       "15   314    105                  3\n",
       "\n",
       "[100 rows x 3 columns]"
      ]
     },
     "execution_count": 35,
     "metadata": {},
     "output_type": "execute_result"
    }
   ],
   "source": [
    "x_test"
   ]
  },
  {
   "cell_type": "code",
   "execution_count": null,
   "metadata": {},
   "outputs": [],
   "source": [
    "import numpy as np\n",
    "\n",
    "#testData = np.array([[4,5,1,2],[3,2,4,4],[2,3,4,1],[3,2,3,3],[5,4,1,4]])\n",
    "labels = k_means.predict(x_test)\n",
    "labels = labels.reshape(-1,1)\n",
    "usernames = np.array(['']).reshape(-1,1)\n",
    "cols = movies.columns.tolist()\n",
    "cols.append('Cluster ID')\n",
    "newusers = pd.DataFrame(np.concatenate((usernames, testData, labels), axis=1),columns=cols)\n",
    "newusers"
   ]
  },
  {
   "cell_type": "code",
   "execution_count": 36,
   "metadata": {},
   "outputs": [
    {
     "data": {
      "text/plain": [
       "Text(0, 0.5, 'SSE')"
      ]
     },
     "execution_count": 36,
     "metadata": {},
     "output_type": "execute_result"
    },
    {
     "data": {
      "image/png": "[encoded data removed]",
      "text/plain": [
       "<Figure size 432x288 with 1 Axes>"
      ]
     },
     "metadata": {
      "needs_background": "light"
     },
     "output_type": "display_data"
    }
   ],
   "source": [
    "import matplotlib.pyplot as plt\n",
    "%matplotlib inline\n",
    "\n",
    "numClusters = [1,2,3,4,5,6,7,8,9]\n",
    "SSE = []\n",
    "for k in numClusters:\n",
    "    k_means = cluster.KMeans(n_clusters=k)\n",
    "    k_means.fit(dataset)\n",
    "    SSE.append(k_means.inertia_)\n",
    "\n",
    "plt.plot(numClusters, SSE)\n",
    "plt.xlabel('Number of Clusters')\n",
    "plt.ylabel('SSE')"
   ]
  },
  {
   "cell_type": "markdown",
   "metadata": {},
   "source": [
    "## Hierarchical Clustering"
   ]
  },
  {
   "cell_type": "code",
   "execution_count": 37,
   "metadata": {},
   "outputs": [
    {
     "data": {
      "text/html": [
       "<div>\n",
       "<style scoped>\n",
       "    .dataframe tbody tr th:only-of-type {\n",
       "        vertical-align: middle;\n",
       "    }\n",
       "\n",
       "    .dataframe tbody tr th {\n",
       "        vertical-align: top;\n",
       "    }\n",
       "\n",
       "    .dataframe thead th {\n",
       "        text-align: right;\n",
       "    }\n",
       "</style>\n",
       "<table border=\"1\" class=\"dataframe\">\n",
       "  <thead>\n",
       "    <tr style=\"text-align: right;\">\n",
       "      <th></th>\n",
       "      <th>GRE</th>\n",
       "      <th>TOEFL</th>\n",
       "      <th>University Rating</th>\n",
       "      <th>SOP</th>\n",
       "      <th>LOR</th>\n",
       "      <th>CGPA</th>\n",
       "      <th>Research</th>\n",
       "      <th>Chance of Admit</th>\n",
       "    </tr>\n",
       "  </thead>\n",
       "  <tbody>\n",
       "    <tr>\n",
       "      <td>0</td>\n",
       "      <td>337</td>\n",
       "      <td>118</td>\n",
       "      <td>4</td>\n",
       "      <td>4.5</td>\n",
       "      <td>4.5</td>\n",
       "      <td>9.65</td>\n",
       "      <td>1</td>\n",
       "      <td>0.92</td>\n",
       "    </tr>\n",
       "    <tr>\n",
       "      <td>1</td>\n",
       "      <td>324</td>\n",
       "      <td>107</td>\n",
       "      <td>4</td>\n",
       "      <td>4.0</td>\n",
       "      <td>4.5</td>\n",
       "      <td>8.87</td>\n",
       "      <td>1</td>\n",
       "      <td>0.76</td>\n",
       "    </tr>\n",
       "    <tr>\n",
       "      <td>2</td>\n",
       "      <td>316</td>\n",
       "      <td>104</td>\n",
       "      <td>3</td>\n",
       "      <td>3.0</td>\n",
       "      <td>3.5</td>\n",
       "      <td>8.00</td>\n",
       "      <td>1</td>\n",
       "      <td>0.72</td>\n",
       "    </tr>\n",
       "    <tr>\n",
       "      <td>3</td>\n",
       "      <td>322</td>\n",
       "      <td>110</td>\n",
       "      <td>3</td>\n",
       "      <td>3.5</td>\n",
       "      <td>2.5</td>\n",
       "      <td>8.67</td>\n",
       "      <td>1</td>\n",
       "      <td>0.80</td>\n",
       "    </tr>\n",
       "    <tr>\n",
       "      <td>4</td>\n",
       "      <td>314</td>\n",
       "      <td>103</td>\n",
       "      <td>2</td>\n",
       "      <td>2.0</td>\n",
       "      <td>3.0</td>\n",
       "      <td>8.21</td>\n",
       "      <td>0</td>\n",
       "      <td>0.65</td>\n",
       "    </tr>\n",
       "  </tbody>\n",
       "</table>\n",
       "</div>"
      ],
      "text/plain": [
       "   GRE  TOEFL  University Rating  SOP  LOR  CGPA  Research  Chance of Admit\n",
       "0  337    118                  4  4.5  4.5  9.65         1             0.92\n",
       "1  324    107                  4  4.0  4.5  8.87         1             0.76\n",
       "2  316    104                  3  3.0  3.5  8.00         1             0.72\n",
       "3  322    110                  3  3.5  2.5  8.67         1             0.80\n",
       "4  314    103                  2  2.0  3.0  8.21         0             0.65"
      ]
     },
     "execution_count": 37,
     "metadata": {},
     "output_type": "execute_result"
    }
   ],
   "source": [
    "dataset.head(5)"
   ]
  },
  {
   "cell_type": "code",
   "execution_count": 40,
   "metadata": {},
   "outputs": [
    {
     "data": {
      "image/png": "[encoded data removed]",
      "text/plain": [
       "<Figure size 432x288 with 1 Axes>"
      ]
     },
     "metadata": {
      "needs_background": "light"
     },
     "output_type": "display_data"
    }
   ],
   "source": [
    "from scipy.cluster import hierarchy\n",
    "import matplotlib.pyplot as plt\n",
    "%matplotlib inline\n",
    "\n",
    "names = dataset['Research']\n",
    "Y = dataset['CGPA']\n",
    "X = dataset.drop(['Research','CGPA'],axis=1)\n",
    "Z = hierarchy.linkage(X.as_matrix(), 'single')\n",
    "dn = hierarchy.dendrogram(Z,labels=names.tolist(),orientation='right')"
   ]
  },
  {
   "cell_type": "code",
   "execution_count": 41,
   "metadata": {},
   "outputs": [
    {
     "data": {
      "image/png": "[encoded data removed]",
      "text/plain": [
       "<Figure size 432x288 with 1 Axes>"
      ]
     },
     "metadata": {
      "needs_background": "light"
     },
     "output_type": "display_data"
    }
   ],
   "source": [
    "Z = hierarchy.linkage(X.as_matrix(), 'complete')\n",
    "dn = hierarchy.dendrogram(Z,labels=names.tolist(),orientation='right')"
   ]
  },
  {
   "cell_type": "code",
   "execution_count": 42,
   "metadata": {},
   "outputs": [
    {
     "data": {
      "image/png": "[encoded data removed]",
      "text/plain": [
       "<Figure size 432x288 with 1 Axes>"
      ]
     },
     "metadata": {
      "needs_background": "light"
     },
     "output_type": "display_data"
    }
   ],
   "source": [
    "Z = hierarchy.linkage(X.as_matrix(), 'average')\n",
    "dn = hierarchy.dendrogram(Z,labels=names.tolist(),orientation='right')"
   ]
  },
  {
   "cell_type": "markdown",
   "metadata": {},
   "source": [
    "## ANN"
   ]
  },
  {
   "cell_type": "code",
   "execution_count": 43,
   "metadata": {},
   "outputs": [
    {
     "name": "stderr",
     "output_type": "stream",
     "text": [
      "Using TensorFlow backend.\n"
     ]
    }
   ],
   "source": [
    "from keras.models import Sequential\n",
    "from keras.layers import Dense\n",
    "import numpy as np\n",
    "from sklearn import preprocessing"
   ]
  },
  {
   "cell_type": "code",
   "execution_count": 44,
   "metadata": {},
   "outputs": [],
   "source": [
    "# Encode text values to dummy variables(i.e. [1,0,0],[0,1,0],[0,0,1] for red,green,blue)\n",
    "def encode_text_dummy(df, name):\n",
    "    dummies = pd.get_dummies(df[name])\n",
    "    for x in dummies.columns:\n",
    "        dummy_name = \"{}-{}\".format(name, x)\n",
    "        df[dummy_name] = dummies[x]\n",
    "    df.drop(name, axis=1, inplace=True)\n",
    "\n",
    "# Encode text values to indexes(i.e. [1],[2],[3] for red,green,blue).\n",
    "def encode_text_index(df, name):\n",
    "    le = preprocessing.LabelEncoder()\n",
    "    df[name] = le.fit_transform(df[name])\n",
    "    return le.classes_\n",
    "\n",
    "# Convert a Pandas dataframe to the x,y inputs that TensorFlow needs\n",
    "import collections\n",
    "def to_xy(df, target):\n",
    "    result = []\n",
    "    for x in df.columns:\n",
    "        if x != target:\n",
    "            result.append(x)\n",
    "    # find out the type of the target column. \n",
    "    target_type = df[target].dtypes\n",
    "    target_type = target_type[0] if isinstance(target_type, collections.Sequence) else target_type\n",
    "    # Encode to int for classification, float otherwise. TensorFlow likes 32 bits.\n",
    "    if target_type in (np.int64, np.int32):\n",
    "        # Classification\n",
    "        dummies = pd.get_dummies(df[target])\n",
    "        return df[result].values.astype(np.float32), dummies.values.astype(np.float32)\n",
    "    else:\n",
    "        # Regression\n",
    "        return df[result].values.astype(np.float32), df[target].values.astype(np.float32)"
   ]
  },
  {
   "cell_type": "code",
   "execution_count": 65,
   "metadata": {},
   "outputs": [],
   "source": [
    "df = pd.read_csv('score_dataset.csv',header='infer')"
   ]
  },
  {
   "cell_type": "code",
   "execution_count": 66,
   "metadata": {},
   "outputs": [
    {
     "data": {
      "text/html": [
       "<div>\n",
       "<style scoped>\n",
       "    .dataframe tbody tr th:only-of-type {\n",
       "        vertical-align: middle;\n",
       "    }\n",
       "\n",
       "    .dataframe tbody tr th {\n",
       "        vertical-align: top;\n",
       "    }\n",
       "\n",
       "    .dataframe thead th {\n",
       "        text-align: right;\n",
       "    }\n",
       "</style>\n",
       "<table border=\"1\" class=\"dataframe\">\n",
       "  <thead>\n",
       "    <tr style=\"text-align: right;\">\n",
       "      <th></th>\n",
       "      <th>Serial No.</th>\n",
       "      <th>GRE Score</th>\n",
       "      <th>TOEFL Score</th>\n",
       "      <th>University Rating</th>\n",
       "      <th>SOP</th>\n",
       "      <th>LOR</th>\n",
       "      <th>CGPA</th>\n",
       "      <th>Research</th>\n",
       "      <th>Chance of Admit</th>\n",
       "    </tr>\n",
       "  </thead>\n",
       "  <tbody>\n",
       "    <tr>\n",
       "      <td>0</td>\n",
       "      <td>1</td>\n",
       "      <td>337</td>\n",
       "      <td>118</td>\n",
       "      <td>4</td>\n",
       "      <td>4.5</td>\n",
       "      <td>4.5</td>\n",
       "      <td>9.65</td>\n",
       "      <td>1</td>\n",
       "      <td>0.92</td>\n",
       "    </tr>\n",
       "    <tr>\n",
       "      <td>1</td>\n",
       "      <td>2</td>\n",
       "      <td>324</td>\n",
       "      <td>107</td>\n",
       "      <td>4</td>\n",
       "      <td>4.0</td>\n",
       "      <td>4.5</td>\n",
       "      <td>8.87</td>\n",
       "      <td>1</td>\n",
       "      <td>0.76</td>\n",
       "    </tr>\n",
       "    <tr>\n",
       "      <td>2</td>\n",
       "      <td>3</td>\n",
       "      <td>316</td>\n",
       "      <td>104</td>\n",
       "      <td>3</td>\n",
       "      <td>3.0</td>\n",
       "      <td>3.5</td>\n",
       "      <td>8.00</td>\n",
       "      <td>1</td>\n",
       "      <td>0.72</td>\n",
       "    </tr>\n",
       "    <tr>\n",
       "      <td>3</td>\n",
       "      <td>4</td>\n",
       "      <td>322</td>\n",
       "      <td>110</td>\n",
       "      <td>3</td>\n",
       "      <td>3.5</td>\n",
       "      <td>2.5</td>\n",
       "      <td>8.67</td>\n",
       "      <td>1</td>\n",
       "      <td>0.80</td>\n",
       "    </tr>\n",
       "    <tr>\n",
       "      <td>4</td>\n",
       "      <td>5</td>\n",
       "      <td>314</td>\n",
       "      <td>103</td>\n",
       "      <td>2</td>\n",
       "      <td>2.0</td>\n",
       "      <td>3.0</td>\n",
       "      <td>8.21</td>\n",
       "      <td>0</td>\n",
       "      <td>0.65</td>\n",
       "    </tr>\n",
       "    <tr>\n",
       "      <td>...</td>\n",
       "      <td>...</td>\n",
       "      <td>...</td>\n",
       "      <td>...</td>\n",
       "      <td>...</td>\n",
       "      <td>...</td>\n",
       "      <td>...</td>\n",
       "      <td>...</td>\n",
       "      <td>...</td>\n",
       "      <td>...</td>\n",
       "    </tr>\n",
       "    <tr>\n",
       "      <td>495</td>\n",
       "      <td>496</td>\n",
       "      <td>332</td>\n",
       "      <td>108</td>\n",
       "      <td>5</td>\n",
       "      <td>4.5</td>\n",
       "      <td>4.0</td>\n",
       "      <td>9.02</td>\n",
       "      <td>1</td>\n",
       "      <td>0.87</td>\n",
       "    </tr>\n",
       "    <tr>\n",
       "      <td>496</td>\n",
       "      <td>497</td>\n",
       "      <td>337</td>\n",
       "      <td>117</td>\n",
       "      <td>5</td>\n",
       "      <td>5.0</td>\n",
       "      <td>5.0</td>\n",
       "      <td>9.87</td>\n",
       "      <td>1</td>\n",
       "      <td>0.96</td>\n",
       "    </tr>\n",
       "    <tr>\n",
       "      <td>497</td>\n",
       "      <td>498</td>\n",
       "      <td>330</td>\n",
       "      <td>120</td>\n",
       "      <td>5</td>\n",
       "      <td>4.5</td>\n",
       "      <td>5.0</td>\n",
       "      <td>9.56</td>\n",
       "      <td>1</td>\n",
       "      <td>0.93</td>\n",
       "    </tr>\n",
       "    <tr>\n",
       "      <td>498</td>\n",
       "      <td>499</td>\n",
       "      <td>312</td>\n",
       "      <td>103</td>\n",
       "      <td>4</td>\n",
       "      <td>4.0</td>\n",
       "      <td>5.0</td>\n",
       "      <td>8.43</td>\n",
       "      <td>0</td>\n",
       "      <td>0.73</td>\n",
       "    </tr>\n",
       "    <tr>\n",
       "      <td>499</td>\n",
       "      <td>500</td>\n",
       "      <td>327</td>\n",
       "      <td>113</td>\n",
       "      <td>4</td>\n",
       "      <td>4.5</td>\n",
       "      <td>4.5</td>\n",
       "      <td>9.04</td>\n",
       "      <td>0</td>\n",
       "      <td>0.84</td>\n",
       "    </tr>\n",
       "  </tbody>\n",
       "</table>\n",
       "<p>500 rows × 9 columns</p>\n",
       "</div>"
      ],
      "text/plain": [
       "     Serial No.  GRE Score  TOEFL Score  University Rating  SOP  LOR   CGPA  \\\n",
       "0             1        337          118                  4  4.5   4.5  9.65   \n",
       "1             2        324          107                  4  4.0   4.5  8.87   \n",
       "2             3        316          104                  3  3.0   3.5  8.00   \n",
       "3             4        322          110                  3  3.5   2.5  8.67   \n",
       "4             5        314          103                  2  2.0   3.0  8.21   \n",
       "..          ...        ...          ...                ...  ...   ...   ...   \n",
       "495         496        332          108                  5  4.5   4.0  9.02   \n",
       "496         497        337          117                  5  5.0   5.0  9.87   \n",
       "497         498        330          120                  5  4.5   5.0  9.56   \n",
       "498         499        312          103                  4  4.0   5.0  8.43   \n",
       "499         500        327          113                  4  4.5   4.5  9.04   \n",
       "\n",
       "     Research  Chance of Admit   \n",
       "0           1              0.92  \n",
       "1           1              0.76  \n",
       "2           1              0.72  \n",
       "3           1              0.80  \n",
       "4           0              0.65  \n",
       "..        ...               ...  \n",
       "495         1              0.87  \n",
       "496         1              0.96  \n",
       "497         1              0.93  \n",
       "498         0              0.73  \n",
       "499         0              0.84  \n",
       "\n",
       "[500 rows x 9 columns]"
      ]
     },
     "execution_count": 66,
     "metadata": {},
     "output_type": "execute_result"
    }
   ],
   "source": [
    "df"
   ]
  },
  {
   "cell_type": "code",
   "execution_count": 67,
   "metadata": {},
   "outputs": [],
   "source": [
    "Classes = encode_text_index(df,'Research')"
   ]
  },
  {
   "cell_type": "code",
   "execution_count": 68,
   "metadata": {},
   "outputs": [
    {
     "data": {
      "text/plain": [
       "array([0, 1], dtype=int64)"
      ]
     },
     "execution_count": 68,
     "metadata": {},
     "output_type": "execute_result"
    }
   ],
   "source": [
    "Classes"
   ]
  },
  {
   "cell_type": "code",
   "execution_count": 69,
   "metadata": {},
   "outputs": [],
   "source": [
    "X,Y = to_xy(df,'Research')\n",
    "testX, testY = to_xy(df,'Research')"
   ]
  },
  {
   "cell_type": "code",
   "execution_count": 71,
   "metadata": {},
   "outputs": [
    {
     "data": {
      "text/plain": [
       "array([[  1.  , 337.  , 118.  , ...,   4.5 ,   9.65,   0.92],\n",
       "       [  2.  , 324.  , 107.  , ...,   4.5 ,   8.87,   0.76],\n",
       "       [  3.  , 316.  , 104.  , ...,   3.5 ,   8.  ,   0.72],\n",
       "       ...,\n",
       "       [498.  , 330.  , 120.  , ...,   5.  ,   9.56,   0.93],\n",
       "       [499.  , 312.  , 103.  , ...,   5.  ,   8.43,   0.73],\n",
       "       [500.  , 327.  , 113.  , ...,   4.5 ,   9.04,   0.84]],\n",
       "      dtype=float32)"
      ]
     },
     "execution_count": 71,
     "metadata": {},
     "output_type": "execute_result"
    }
   ],
   "source": [
    "X"
   ]
  },
  {
   "cell_type": "code",
   "execution_count": 72,
   "metadata": {},
   "outputs": [
    {
     "data": {
      "text/plain": [
       "array([[0., 1.],\n",
       "       [0., 1.],\n",
       "       [0., 1.],\n",
       "       [0., 1.],\n",
       "       [1., 0.],\n",
       "       [0., 1.],\n",
       "       [0., 1.],\n",
       "       [1., 0.],\n",
       "       [1., 0.],\n",
       "       [1., 0.],\n",
       "       [0., 1.],\n",
       "       [0., 1.],\n",
       "       [0., 1.],\n",
       "       [0., 1.],\n",
       "       [0., 1.],\n",
       "       [1., 0.],\n",
       "       [1., 0.],\n",
       "       [0., 1.],\n",
       "       [1., 0.],\n",
       "       [1., 0.],\n",
       "       [0., 1.],\n",
       "       [1., 0.],\n",
       "       [0., 1.],\n",
       "       [0., 1.],\n",
       "       [0., 1.],\n",
       "       [0., 1.],\n",
       "       [1., 0.],\n",
       "       [0., 1.],\n",
       "       [1., 0.],\n",
       "       [1., 0.],\n",
       "       [0., 1.],\n",
       "       [0., 1.],\n",
       "       [0., 1.],\n",
       "       [0., 1.],\n",
       "       [0., 1.],\n",
       "       [0., 1.],\n",
       "       [1., 0.],\n",
       "       [1., 0.],\n",
       "       [1., 0.],\n",
       "       [1., 0.],\n",
       "       [0., 1.],\n",
       "       [0., 1.],\n",
       "       [0., 1.],\n",
       "       [1., 0.],\n",
       "       [0., 1.],\n",
       "       [0., 1.],\n",
       "       [0., 1.],\n",
       "       [1., 0.],\n",
       "       [0., 1.],\n",
       "       [0., 1.],\n",
       "       [0., 1.],\n",
       "       [0., 1.],\n",
       "       [0., 1.],\n",
       "       [0., 1.],\n",
       "       [1., 0.],\n",
       "       [1., 0.],\n",
       "       [1., 0.],\n",
       "       [1., 0.],\n",
       "       [0., 1.],\n",
       "       [1., 0.],\n",
       "       [1., 0.],\n",
       "       [1., 0.],\n",
       "       [0., 1.],\n",
       "       [0., 1.],\n",
       "       [1., 0.],\n",
       "       [1., 0.],\n",
       "       [1., 0.],\n",
       "       [0., 1.],\n",
       "       [0., 1.],\n",
       "       [0., 1.],\n",
       "       [0., 1.],\n",
       "       [0., 1.],\n",
       "       [0., 1.],\n",
       "       [0., 1.],\n",
       "       [1., 0.],\n",
       "       [0., 1.],\n",
       "       [0., 1.],\n",
       "       [1., 0.],\n",
       "       [0., 1.],\n",
       "       [1., 0.],\n",
       "       [0., 1.],\n",
       "       [0., 1.],\n",
       "       [0., 1.],\n",
       "       [0., 1.],\n",
       "       [0., 1.],\n",
       "       [1., 0.],\n",
       "       [1., 0.],\n",
       "       [1., 0.],\n",
       "       [1., 0.],\n",
       "       [0., 1.],\n",
       "       [0., 1.],\n",
       "       [1., 0.],\n",
       "       [1., 0.],\n",
       "       [0., 1.],\n",
       "       [1., 0.],\n",
       "       [1., 0.],\n",
       "       [1., 0.],\n",
       "       [0., 1.],\n",
       "       [0., 1.],\n",
       "       [0., 1.],\n",
       "       [0., 1.],\n",
       "       [1., 0.],\n",
       "       [1., 0.],\n",
       "       [1., 0.],\n",
       "       [0., 1.],\n",
       "       [0., 1.],\n",
       "       [0., 1.],\n",
       "       [0., 1.],\n",
       "       [0., 1.],\n",
       "       [1., 0.],\n",
       "       [1., 0.],\n",
       "       [0., 1.],\n",
       "       [0., 1.],\n",
       "       [1., 0.],\n",
       "       [0., 1.],\n",
       "       [0., 1.],\n",
       "       [1., 0.],\n",
       "       [1., 0.],\n",
       "       [1., 0.],\n",
       "       [0., 1.],\n",
       "       [0., 1.],\n",
       "       [0., 1.],\n",
       "       [1., 0.],\n",
       "       [1., 0.],\n",
       "       [1., 0.],\n",
       "       [0., 1.],\n",
       "       [0., 1.],\n",
       "       [0., 1.],\n",
       "       [0., 1.],\n",
       "       [0., 1.],\n",
       "       [0., 1.],\n",
       "       [1., 0.],\n",
       "       [1., 0.],\n",
       "       [1., 0.],\n",
       "       [0., 1.],\n",
       "       [0., 1.],\n",
       "       [1., 0.],\n",
       "       [0., 1.],\n",
       "       [0., 1.],\n",
       "       [1., 0.],\n",
       "       [0., 1.],\n",
       "       [0., 1.],\n",
       "       [0., 1.],\n",
       "       [0., 1.],\n",
       "       [0., 1.],\n",
       "       [0., 1.],\n",
       "       [1., 0.],\n",
       "       [0., 1.],\n",
       "       [0., 1.],\n",
       "       [0., 1.],\n",
       "       [0., 1.],\n",
       "       [0., 1.],\n",
       "       [0., 1.],\n",
       "       [1., 0.],\n",
       "       [1., 0.],\n",
       "       [1., 0.],\n",
       "       [1., 0.],\n",
       "       [1., 0.],\n",
       "       [1., 0.],\n",
       "       [1., 0.],\n",
       "       [1., 0.],\n",
       "       [1., 0.],\n",
       "       [1., 0.],\n",
       "       [1., 0.],\n",
       "       [0., 1.],\n",
       "       [1., 0.],\n",
       "       [1., 0.],\n",
       "       [1., 0.],\n",
       "       [0., 1.],\n",
       "       [1., 0.],\n",
       "       [0., 1.],\n",
       "       [0., 1.],\n",
       "       [0., 1.],\n",
       "       [0., 1.],\n",
       "       [0., 1.],\n",
       "       [0., 1.],\n",
       "       [0., 1.],\n",
       "       [1., 0.],\n",
       "       [1., 0.],\n",
       "       [1., 0.],\n",
       "       [1., 0.],\n",
       "       [1., 0.],\n",
       "       [1., 0.],\n",
       "       [1., 0.],\n",
       "       [1., 0.],\n",
       "       [0., 1.],\n",
       "       [0., 1.],\n",
       "       [0., 1.],\n",
       "       [0., 1.],\n",
       "       [0., 1.],\n",
       "       [0., 1.],\n",
       "       [0., 1.],\n",
       "       [0., 1.],\n",
       "       [0., 1.],\n",
       "       [1., 0.],\n",
       "       [0., 1.],\n",
       "       [1., 0.],\n",
       "       [1., 0.],\n",
       "       [1., 0.],\n",
       "       [1., 0.],\n",
       "       [0., 1.],\n",
       "       [0., 1.],\n",
       "       [0., 1.],\n",
       "       [0., 1.],\n",
       "       [1., 0.],\n",
       "       [1., 0.],\n",
       "       [1., 0.],\n",
       "       [0., 1.],\n",
       "       [1., 0.],\n",
       "       [0., 1.],\n",
       "       [0., 1.],\n",
       "       [0., 1.],\n",
       "       [0., 1.],\n",
       "       [0., 1.],\n",
       "       [0., 1.],\n",
       "       [0., 1.],\n",
       "       [0., 1.],\n",
       "       [0., 1.],\n",
       "       [0., 1.],\n",
       "       [1., 0.],\n",
       "       [1., 0.],\n",
       "       [1., 0.],\n",
       "       [1., 0.],\n",
       "       [1., 0.],\n",
       "       [1., 0.],\n",
       "       [1., 0.],\n",
       "       [1., 0.],\n",
       "       [1., 0.],\n",
       "       [1., 0.],\n",
       "       [0., 1.],\n",
       "       [1., 0.],\n",
       "       [0., 1.],\n",
       "       [1., 0.],\n",
       "       [1., 0.],\n",
       "       [0., 1.],\n",
       "       [0., 1.],\n",
       "       [0., 1.],\n",
       "       [0., 1.],\n",
       "       [1., 0.],\n",
       "       [1., 0.],\n",
       "       [1., 0.],\n",
       "       [1., 0.],\n",
       "       [0., 1.],\n",
       "       [0., 1.],\n",
       "       [1., 0.],\n",
       "       [0., 1.],\n",
       "       [1., 0.],\n",
       "       [1., 0.],\n",
       "       [0., 1.],\n",
       "       [0., 1.],\n",
       "       [0., 1.],\n",
       "       [1., 0.],\n",
       "       [0., 1.],\n",
       "       [0., 1.],\n",
       "       [1., 0.],\n",
       "       [1., 0.],\n",
       "       [1., 0.],\n",
       "       [0., 1.],\n",
       "       [0., 1.],\n",
       "       [0., 1.],\n",
       "       [0., 1.],\n",
       "       [1., 0.],\n",
       "       [0., 1.],\n",
       "       [0., 1.],\n",
       "       [0., 1.],\n",
       "       [1., 0.],\n",
       "       [1., 0.],\n",
       "       [0., 1.],\n",
       "       [1., 0.],\n",
       "       [1., 0.],\n",
       "       [0., 1.],\n",
       "       [1., 0.],\n",
       "       [1., 0.],\n",
       "       [0., 1.],\n",
       "       [1., 0.],\n",
       "       [0., 1.],\n",
       "       [0., 1.],\n",
       "       [1., 0.],\n",
       "       [1., 0.],\n",
       "       [1., 0.],\n",
       "       [0., 1.],\n",
       "       [0., 1.],\n",
       "       [0., 1.],\n",
       "       [0., 1.],\n",
       "       [0., 1.],\n",
       "       [0., 1.],\n",
       "       [0., 1.],\n",
       "       [0., 1.],\n",
       "       [1., 0.],\n",
       "       [1., 0.],\n",
       "       [1., 0.],\n",
       "       [1., 0.],\n",
       "       [1., 0.],\n",
       "       [0., 1.],\n",
       "       [0., 1.],\n",
       "       [1., 0.],\n",
       "       [1., 0.],\n",
       "       [1., 0.],\n",
       "       [0., 1.],\n",
       "       [1., 0.],\n",
       "       [1., 0.],\n",
       "       [1., 0.],\n",
       "       [0., 1.],\n",
       "       [0., 1.],\n",
       "       [1., 0.],\n",
       "       [0., 1.],\n",
       "       [0., 1.],\n",
       "       [0., 1.],\n",
       "       [1., 0.],\n",
       "       [1., 0.],\n",
       "       [0., 1.],\n",
       "       [0., 1.],\n",
       "       [0., 1.],\n",
       "       [1., 0.],\n",
       "       [1., 0.],\n",
       "       [1., 0.],\n",
       "       [1., 0.],\n",
       "       [1., 0.],\n",
       "       [0., 1.],\n",
       "       [0., 1.],\n",
       "       [0., 1.],\n",
       "       [0., 1.],\n",
       "       [1., 0.],\n",
       "       [1., 0.],\n",
       "       [1., 0.],\n",
       "       [0., 1.],\n",
       "       [1., 0.],\n",
       "       [1., 0.],\n",
       "       [0., 1.],\n",
       "       [1., 0.],\n",
       "       [0., 1.],\n",
       "       [0., 1.],\n",
       "       [0., 1.],\n",
       "       [0., 1.],\n",
       "       [0., 1.],\n",
       "       [0., 1.],\n",
       "       [1., 0.],\n",
       "       [0., 1.],\n",
       "       [0., 1.],\n",
       "       [0., 1.],\n",
       "       [0., 1.],\n",
       "       [0., 1.],\n",
       "       [1., 0.],\n",
       "       [1., 0.],\n",
       "       [1., 0.],\n",
       "       [1., 0.],\n",
       "       [1., 0.],\n",
       "       [1., 0.],\n",
       "       [1., 0.],\n",
       "       [1., 0.],\n",
       "       [0., 1.],\n",
       "       [0., 1.],\n",
       "       [0., 1.],\n",
       "       [1., 0.],\n",
       "       [1., 0.],\n",
       "       [1., 0.],\n",
       "       [0., 1.],\n",
       "       [0., 1.],\n",
       "       [1., 0.],\n",
       "       [1., 0.],\n",
       "       [0., 1.],\n",
       "       [0., 1.],\n",
       "       [0., 1.],\n",
       "       [1., 0.],\n",
       "       [0., 1.],\n",
       "       [0., 1.],\n",
       "       [0., 1.],\n",
       "       [1., 0.],\n",
       "       [1., 0.],\n",
       "       [0., 1.],\n",
       "       [1., 0.],\n",
       "       [0., 1.],\n",
       "       [0., 1.],\n",
       "       [0., 1.],\n",
       "       [1., 0.],\n",
       "       [1., 0.],\n",
       "       [1., 0.],\n",
       "       [1., 0.],\n",
       "       [1., 0.],\n",
       "       [0., 1.],\n",
       "       [0., 1.],\n",
       "       [0., 1.],\n",
       "       [0., 1.],\n",
       "       [1., 0.],\n",
       "       [0., 1.],\n",
       "       [0., 1.],\n",
       "       [1., 0.],\n",
       "       [1., 0.],\n",
       "       [1., 0.],\n",
       "       [0., 1.],\n",
       "       [1., 0.],\n",
       "       [1., 0.],\n",
       "       [0., 1.],\n",
       "       [1., 0.],\n",
       "       [0., 1.],\n",
       "       [0., 1.],\n",
       "       [0., 1.],\n",
       "       [0., 1.],\n",
       "       [1., 0.],\n",
       "       [0., 1.],\n",
       "       [1., 0.],\n",
       "       [1., 0.],\n",
       "       [0., 1.],\n",
       "       [0., 1.],\n",
       "       [0., 1.],\n",
       "       [1., 0.],\n",
       "       [0., 1.],\n",
       "       [0., 1.],\n",
       "       [0., 1.],\n",
       "       [1., 0.],\n",
       "       [1., 0.],\n",
       "       [1., 0.],\n",
       "       [0., 1.],\n",
       "       [0., 1.],\n",
       "       [0., 1.],\n",
       "       [0., 1.],\n",
       "       [1., 0.],\n",
       "       [1., 0.],\n",
       "       [1., 0.],\n",
       "       [0., 1.],\n",
       "       [1., 0.],\n",
       "       [0., 1.],\n",
       "       [0., 1.],\n",
       "       [0., 1.],\n",
       "       [0., 1.],\n",
       "       [0., 1.],\n",
       "       [1., 0.],\n",
       "       [0., 1.],\n",
       "       [1., 0.],\n",
       "       [0., 1.],\n",
       "       [0., 1.],\n",
       "       [0., 1.],\n",
       "       [0., 1.],\n",
       "       [1., 0.],\n",
       "       [1., 0.],\n",
       "       [1., 0.],\n",
       "       [0., 1.],\n",
       "       [0., 1.],\n",
       "       [0., 1.],\n",
       "       [1., 0.],\n",
       "       [1., 0.],\n",
       "       [0., 1.],\n",
       "       [0., 1.],\n",
       "       [0., 1.],\n",
       "       [0., 1.],\n",
       "       [0., 1.],\n",
       "       [0., 1.],\n",
       "       [0., 1.],\n",
       "       [1., 0.],\n",
       "       [1., 0.],\n",
       "       [0., 1.],\n",
       "       [0., 1.],\n",
       "       [0., 1.],\n",
       "       [0., 1.],\n",
       "       [1., 0.],\n",
       "       [1., 0.],\n",
       "       [1., 0.],\n",
       "       [1., 0.],\n",
       "       [0., 1.],\n",
       "       [0., 1.],\n",
       "       [0., 1.],\n",
       "       [0., 1.],\n",
       "       [1., 0.],\n",
       "       [1., 0.],\n",
       "       [1., 0.],\n",
       "       [1., 0.],\n",
       "       [0., 1.],\n",
       "       [0., 1.],\n",
       "       [0., 1.],\n",
       "       [0., 1.],\n",
       "       [0., 1.],\n",
       "       [1., 0.],\n",
       "       [0., 1.],\n",
       "       [1., 0.],\n",
       "       [0., 1.],\n",
       "       [1., 0.],\n",
       "       [1., 0.],\n",
       "       [1., 0.],\n",
       "       [0., 1.],\n",
       "       [0., 1.],\n",
       "       [0., 1.],\n",
       "       [0., 1.],\n",
       "       [0., 1.],\n",
       "       [1., 0.],\n",
       "       [0., 1.],\n",
       "       [0., 1.],\n",
       "       [1., 0.],\n",
       "       [1., 0.],\n",
       "       [0., 1.],\n",
       "       [1., 0.],\n",
       "       [0., 1.],\n",
       "       [1., 0.],\n",
       "       [0., 1.],\n",
       "       [0., 1.],\n",
       "       [0., 1.],\n",
       "       [0., 1.],\n",
       "       [0., 1.],\n",
       "       [0., 1.],\n",
       "       [1., 0.],\n",
       "       [1., 0.]], dtype=float32)"
      ]
     },
     "execution_count": 72,
     "metadata": {},
     "output_type": "execute_result"
    }
   ],
   "source": [
    "Y"
   ]
  },
  {
   "cell_type": "markdown",
   "metadata": {},
   "source": [
    "### Binarization"
   ]
  },
  {
   "cell_type": "code",
   "execution_count": 70,
   "metadata": {},
   "outputs": [],
   "source": [
    "from sklearn.preprocessing import Binarizer"
   ]
  },
  {
   "cell_type": "code",
   "execution_count": 80,
   "metadata": {},
   "outputs": [],
   "source": [
    "transformer = Binarizer().fit(X) "
   ]
  },
  {
   "cell_type": "code",
   "execution_count": 81,
   "metadata": {},
   "outputs": [],
   "source": [
    "X=transformer.transform(X)"
   ]
  },
  {
   "cell_type": "code",
   "execution_count": 82,
   "metadata": {},
   "outputs": [
    {
     "data": {
      "text/plain": [
       "array([[1., 1., 1., ..., 1., 1., 1.],\n",
       "       [1., 1., 1., ..., 1., 1., 1.],\n",
       "       [1., 1., 1., ..., 1., 1., 1.],\n",
       "       ...,\n",
       "       [1., 1., 1., ..., 1., 1., 1.],\n",
       "       [1., 1., 1., ..., 1., 1., 1.],\n",
       "       [1., 1., 1., ..., 1., 1., 1.]], dtype=float32)"
      ]
     },
     "execution_count": 82,
     "metadata": {},
     "output_type": "execute_result"
    }
   ],
   "source": [
    "X"
   ]
  },
  {
   "cell_type": "code",
   "execution_count": 83,
   "metadata": {},
   "outputs": [
    {
     "name": "stdout",
     "output_type": "stream",
     "text": [
      "(500, 8)\n",
      "(500, 2)\n"
     ]
    }
   ],
   "source": [
    "print(X.shape)\n",
    "print(Y.shape)\n"
   ]
  },
  {
   "cell_type": "code",
   "execution_count": 86,
   "metadata": {},
   "outputs": [],
   "source": [
    "import keras\n",
    "from keras.models import Sequential\n",
    "from keras.layers import Dense, Dropout, Activation\n",
    "from keras.optimizers import SGD\n",
    "\n",
    "model = Sequential()\n",
    "model.add(Dense(32, activation='relu', input_dim=X.shape[1]))\n",
    "model.add(Dense(2, activation='softmax'))\n",
    "model.compile(optimizer='rmsprop',\n",
    "              loss='categorical_crossentropy',\n",
    "              metrics=['accuracy'])"
   ]
  },
  {
   "cell_type": "code",
   "execution_count": 87,
   "metadata": {},
   "outputs": [
    {
     "name": "stdout",
     "output_type": "stream",
     "text": [
      "Epoch 1/10\n",
      "500/500 [==============================] - 0s 909us/step - loss: 0.7703 - accuracy: 0.4400\n",
      "Epoch 2/10\n",
      "500/500 [==============================] - 0s 87us/step - loss: 0.6965 - accuracy: 0.4840\n",
      "Epoch 3/10\n",
      "500/500 [==============================] - 0s 78us/step - loss: 0.6867 - accuracy: 0.5600\n",
      "Epoch 4/10\n",
      "500/500 [==============================] - 0s 66us/step - loss: 0.6880 - accuracy: 0.5600\n",
      "Epoch 5/10\n",
      "500/500 [==============================] - 0s 74us/step - loss: 0.6874 - accuracy: 0.5600\n",
      "Epoch 6/10\n",
      "500/500 [==============================] - 0s 60us/step - loss: 0.6880 - accuracy: 0.5600\n",
      "Epoch 7/10\n",
      "500/500 [==============================] - 0s 62us/step - loss: 0.6871 - accuracy: 0.5600\n",
      "Epoch 8/10\n",
      "500/500 [==============================] - 0s 62us/step - loss: 0.6865 - accuracy: 0.5600\n",
      "Epoch 9/10\n",
      "500/500 [==============================] - 0s 62us/step - loss: 0.6890 - accuracy: 0.5600\n",
      "Epoch 10/10\n",
      "500/500 [==============================] - 0s 60us/step - loss: 0.6877 - accuracy: 0.5600\n"
     ]
    },
    {
     "data": {
      "text/plain": [
       "<keras.callbacks.callbacks.History at 0x20475042208>"
      ]
     },
     "execution_count": 87,
     "metadata": {},
     "output_type": "execute_result"
    }
   ],
   "source": [
    "model.fit(X, Y, epochs=10)"
   ]
  },
  {
   "cell_type": "code",
   "execution_count": 88,
   "metadata": {},
   "outputs": [
    {
     "data": {
      "text/plain": [
       "array([[9.98738110e-01, 1.26195792e-03],\n",
       "       [9.94191706e-01, 5.80829522e-03],\n",
       "       [9.92538631e-01, 7.46134948e-03],\n",
       "       [9.96453762e-01, 3.54624516e-03],\n",
       "       [9.85321820e-01, 1.46782137e-02],\n",
       "       [9.97840643e-01, 2.15934636e-03],\n",
       "       [9.91282821e-01, 8.71721655e-03],\n",
       "       [9.65329468e-01, 3.46705019e-02],\n",
       "       [9.80319440e-01, 1.96805242e-02],\n",
       "       [9.84535515e-01, 1.54645182e-02],\n",
       "       [9.64340746e-01, 3.56592573e-02],\n",
       "       [9.79158342e-01, 2.08416693e-02],\n",
       "       [9.78490293e-01, 2.15097405e-02],\n",
       "       [9.86521244e-01, 1.34787308e-02],\n",
       "       [9.59291518e-01, 4.07084413e-02],\n",
       "       [9.49897110e-01, 5.01028337e-02],\n",
       "       [9.39604580e-01, 6.03954755e-02],\n",
       "       [9.23269749e-01, 7.67302737e-02],\n",
       "       [9.47755575e-01, 5.22444509e-02],\n",
       "       [8.60578060e-01, 1.39422014e-01],\n",
       "       [9.33800578e-01, 6.61994144e-02],\n",
       "       [9.68694210e-01, 3.13058458e-02],\n",
       "       [9.36404169e-01, 6.35958463e-02],\n",
       "       [9.48217928e-01, 5.17821163e-02],\n",
       "       [9.44561601e-01, 5.54383546e-02],\n",
       "       [9.26260531e-01, 7.37395063e-02],\n",
       "       [8.07096303e-01, 1.92903757e-01],\n",
       "       [4.83463585e-01, 5.16536415e-01],\n",
       "       [2.31127098e-01, 7.68872917e-01],\n",
       "       [3.58360052e-01, 6.41639948e-01],\n",
       "       [2.16818839e-01, 7.83181190e-01],\n",
       "       [2.00100571e-01, 7.99899399e-01],\n",
       "       [6.67376339e-01, 3.32623661e-01],\n",
       "       [4.98983413e-01, 5.01016617e-01],\n",
       "       [3.68332893e-01, 6.31667137e-01],\n",
       "       [3.77131939e-01, 6.22868061e-01],\n",
       "       [2.81294525e-01, 7.18705475e-01],\n",
       "       [2.72921383e-01, 7.27078557e-01],\n",
       "       [2.49981835e-01, 7.50018179e-01],\n",
       "       [2.62320310e-01, 7.37679601e-01],\n",
       "       [3.65283281e-01, 6.34716690e-01],\n",
       "       [9.54073742e-02, 9.04592574e-01],\n",
       "       [1.27374202e-01, 8.72625768e-01],\n",
       "       [2.45237514e-01, 7.54762590e-01],\n",
       "       [1.56745195e-01, 8.43254805e-01],\n",
       "       [9.94845554e-02, 9.00515437e-01],\n",
       "       [1.03965200e-01, 8.96034837e-01],\n",
       "       [1.60656586e-01, 8.39343429e-01],\n",
       "       [3.18499133e-02, 9.68150079e-01],\n",
       "       [4.81685847e-02, 9.51831400e-01],\n",
       "       [4.01112763e-03, 9.95988905e-01],\n",
       "       [5.93519257e-03, 9.94064867e-01],\n",
       "       [7.53574744e-02, 9.24642503e-01],\n",
       "       [4.85072657e-02, 9.51492727e-01],\n",
       "       [1.90097354e-02, 9.80990291e-01],\n",
       "       [5.55677945e-03, 9.94443238e-01],\n",
       "       [4.81957430e-03, 9.95180488e-01],\n",
       "       [4.30784281e-03, 9.95692194e-01],\n",
       "       [3.29088373e-03, 9.96709108e-01],\n",
       "       [3.99707071e-03, 9.96002972e-01],\n",
       "       [1.34852901e-03, 9.98651445e-01],\n",
       "       [1.88651960e-03, 9.98113513e-01],\n",
       "       [2.78897653e-03, 9.97211039e-01],\n",
       "       [2.03661504e-03, 9.97963428e-01],\n",
       "       [2.85184430e-03, 9.97148216e-01],\n",
       "       [3.51152965e-03, 9.96488452e-01],\n",
       "       [3.18651414e-03, 9.96813476e-01],\n",
       "       [7.91032333e-04, 9.99208987e-01],\n",
       "       [8.52885016e-04, 9.99147058e-01],\n",
       "       [1.97790028e-03, 9.98022079e-01],\n",
       "       [2.14867108e-03, 9.97851372e-01],\n",
       "       [4.58019407e-04, 9.99541998e-01],\n",
       "       [6.12478063e-04, 9.99387503e-01],\n",
       "       [4.11814661e-04, 9.99588192e-01],\n",
       "       [1.52486216e-04, 9.99847531e-01],\n",
       "       [3.55544180e-04, 9.99644399e-01],\n",
       "       [3.38513375e-04, 9.99661446e-01],\n",
       "       [6.94741830e-05, 9.99930501e-01],\n",
       "       [4.26139486e-05, 9.99957442e-01],\n",
       "       [2.04340722e-05, 9.99979615e-01],\n",
       "       [9.92458445e-05, 9.99900699e-01],\n",
       "       [2.30257196e-04, 9.99769747e-01],\n",
       "       [9.60306279e-05, 9.99903917e-01],\n",
       "       [1.79451308e-04, 9.99820530e-01],\n",
       "       [7.54424109e-05, 9.99924541e-01],\n",
       "       [1.74938450e-05, 9.99982476e-01],\n",
       "       [2.53911167e-05, 9.99974608e-01],\n",
       "       [2.28733134e-05, 9.99977112e-01],\n",
       "       [3.27237103e-05, 9.99967217e-01],\n",
       "       [3.23876666e-05, 9.99967575e-01],\n",
       "       [9.43658324e-06, 9.99990582e-01],\n",
       "       [5.74104888e-06, 9.99994278e-01],\n",
       "       [5.08039238e-06, 9.99994874e-01],\n",
       "       [3.11919393e-06, 9.99996901e-01],\n",
       "       [6.16417810e-06, 9.99993801e-01],\n",
       "       [7.51491007e-06, 9.99992490e-01],\n",
       "       [2.64163714e-06, 9.99997377e-01],\n",
       "       [2.45340107e-05, 9.99975443e-01],\n",
       "       [1.66048630e-05, 9.99983430e-01],\n",
       "       [6.67391669e-06, 9.99993324e-01],\n",
       "       [2.39441783e-06, 9.99997616e-01],\n",
       "       [2.21197547e-06, 9.99997735e-01],\n",
       "       [1.73151761e-06, 9.99998212e-01],\n",
       "       [7.11982125e-07, 9.99999285e-01],\n",
       "       [2.70356054e-06, 9.99997258e-01],\n",
       "       [1.83845805e-06, 9.99998212e-01],\n",
       "       [1.09457483e-06, 9.99998927e-01],\n",
       "       [1.89561604e-06, 9.99998093e-01],\n",
       "       [2.08138636e-06, 9.99997973e-01],\n",
       "       [8.34254024e-07, 9.99999166e-01],\n",
       "       [2.74571653e-06, 9.99997258e-01],\n",
       "       [6.96795610e-07, 9.99999285e-01],\n",
       "       [1.02247679e-06, 9.99998927e-01],\n",
       "       [4.35003784e-07, 9.99999523e-01],\n",
       "       [3.44003496e-07, 9.99999642e-01],\n",
       "       [2.66755677e-07, 9.99999762e-01],\n",
       "       [2.01353132e-07, 9.99999762e-01],\n",
       "       [1.04508831e-06, 9.99998927e-01],\n",
       "       [1.10609669e-07, 9.99999881e-01],\n",
       "       [7.62340306e-08, 9.99999881e-01],\n",
       "       [2.89646692e-07, 9.99999762e-01],\n",
       "       [4.57099020e-07, 9.99999523e-01],\n",
       "       [1.98832765e-07, 9.99999762e-01],\n",
       "       [1.59884848e-07, 9.99999881e-01],\n",
       "       [1.83773849e-07, 9.99999762e-01],\n",
       "       [3.41538673e-08, 1.00000000e+00],\n",
       "       [9.64188089e-08, 9.99999881e-01],\n",
       "       [1.34592383e-07, 9.99999881e-01],\n",
       "       [5.37270388e-08, 1.00000000e+00],\n",
       "       [9.87572903e-08, 9.99999881e-01],\n",
       "       [2.84587891e-08, 1.00000000e+00],\n",
       "       [3.21303979e-08, 1.00000000e+00],\n",
       "       [2.91817219e-08, 1.00000000e+00],\n",
       "       [3.63552140e-08, 1.00000000e+00],\n",
       "       [2.20456791e-08, 1.00000000e+00],\n",
       "       [1.90113845e-08, 1.00000000e+00],\n",
       "       [4.38428449e-09, 1.00000000e+00],\n",
       "       [2.00222550e-09, 1.00000000e+00],\n",
       "       [1.84750313e-08, 1.00000000e+00],\n",
       "       [3.79801879e-09, 1.00000000e+00],\n",
       "       [3.34765060e-09, 1.00000000e+00],\n",
       "       [9.91766935e-09, 1.00000000e+00],\n",
       "       [1.07570877e-08, 1.00000000e+00],\n",
       "       [9.20508292e-09, 1.00000000e+00],\n",
       "       [3.09857517e-09, 1.00000000e+00],\n",
       "       [5.93296390e-09, 1.00000000e+00],\n",
       "       [1.79971982e-09, 1.00000000e+00],\n",
       "       [3.86377907e-09, 1.00000000e+00],\n",
       "       [2.30387931e-09, 1.00000000e+00],\n",
       "       [1.11043275e-09, 1.00000000e+00],\n",
       "       [1.40523160e-09, 1.00000000e+00],\n",
       "       [2.03933403e-09, 1.00000000e+00],\n",
       "       [1.44442835e-09, 1.00000000e+00],\n",
       "       [2.29285660e-10, 1.00000000e+00],\n",
       "       [3.54312496e-10, 1.00000000e+00],\n",
       "       [8.79256112e-10, 1.00000000e+00],\n",
       "       [3.85892845e-10, 1.00000000e+00],\n",
       "       [3.45959678e-10, 1.00000000e+00],\n",
       "       [5.27465072e-10, 1.00000000e+00],\n",
       "       [3.20314691e-10, 1.00000000e+00],\n",
       "       [1.54665045e-10, 1.00000000e+00],\n",
       "       [1.80714096e-10, 1.00000000e+00],\n",
       "       [2.68491868e-10, 1.00000000e+00],\n",
       "       [1.37570330e-10, 1.00000000e+00],\n",
       "       [1.26844077e-10, 1.00000000e+00],\n",
       "       [1.92036262e-10, 1.00000000e+00],\n",
       "       [8.80717166e-11, 1.00000000e+00],\n",
       "       [7.81976983e-11, 1.00000000e+00],\n",
       "       [5.56411722e-11, 1.00000000e+00],\n",
       "       [3.30755909e-11, 1.00000000e+00],\n",
       "       [3.31197812e-11, 1.00000000e+00],\n",
       "       [1.18275889e-10, 1.00000000e+00],\n",
       "       [5.20646685e-11, 1.00000000e+00],\n",
       "       [7.60739319e-11, 1.00000000e+00],\n",
       "       [6.93316585e-11, 1.00000000e+00],\n",
       "       [7.78827350e-11, 1.00000000e+00],\n",
       "       [9.80990358e-11, 1.00000000e+00],\n",
       "       [4.38267964e-11, 1.00000000e+00],\n",
       "       [7.34319133e-11, 1.00000000e+00],\n",
       "       [2.27302448e-11, 1.00000000e+00],\n",
       "       [4.38642629e-11, 1.00000000e+00],\n",
       "       [4.34469370e-11, 1.00000000e+00],\n",
       "       [1.24218422e-11, 1.00000000e+00],\n",
       "       [2.49210895e-11, 1.00000000e+00],\n",
       "       [8.48830294e-12, 1.00000000e+00],\n",
       "       [1.55415420e-11, 1.00000000e+00],\n",
       "       [1.12607094e-11, 1.00000000e+00],\n",
       "       [2.77224858e-11, 1.00000000e+00],\n",
       "       [1.98299190e-11, 1.00000000e+00],\n",
       "       [1.01181728e-11, 1.00000000e+00],\n",
       "       [9.88499300e-12, 1.00000000e+00],\n",
       "       [5.98590622e-12, 1.00000000e+00],\n",
       "       [1.59002689e-11, 1.00000000e+00],\n",
       "       [8.15957198e-12, 1.00000000e+00],\n",
       "       [6.12720335e-12, 1.00000000e+00],\n",
       "       [4.36190363e-12, 1.00000000e+00],\n",
       "       [4.15660388e-12, 1.00000000e+00],\n",
       "       [3.41446337e-12, 1.00000000e+00],\n",
       "       [1.32478631e-12, 1.00000000e+00],\n",
       "       [1.69405245e-12, 1.00000000e+00],\n",
       "       [9.62323320e-13, 1.00000000e+00],\n",
       "       [2.66637862e-12, 1.00000000e+00],\n",
       "       [3.07146517e-12, 1.00000000e+00],\n",
       "       [3.29776657e-12, 1.00000000e+00],\n",
       "       [1.75768297e-12, 1.00000000e+00],\n",
       "       [8.49454675e-13, 1.00000000e+00],\n",
       "       [2.19699896e-13, 1.00000000e+00],\n",
       "       [4.03362782e-13, 1.00000000e+00],\n",
       "       [1.01122583e-12, 1.00000000e+00],\n",
       "       [7.20961268e-13, 1.00000000e+00],\n",
       "       [3.31089214e-13, 1.00000000e+00],\n",
       "       [3.41135486e-13, 1.00000000e+00],\n",
       "       [6.60703642e-13, 1.00000000e+00],\n",
       "       [9.33121419e-13, 1.00000000e+00],\n",
       "       [4.67545111e-13, 1.00000000e+00],\n",
       "       [5.51407281e-13, 1.00000000e+00],\n",
       "       [2.92555585e-13, 1.00000000e+00],\n",
       "       [1.94670018e-13, 1.00000000e+00],\n",
       "       [2.15713677e-13, 1.00000000e+00],\n",
       "       [1.12406930e-13, 1.00000000e+00],\n",
       "       [6.01965106e-14, 1.00000000e+00],\n",
       "       [1.72228795e-13, 1.00000000e+00],\n",
       "       [2.00500451e-13, 1.00000000e+00],\n",
       "       [1.40798533e-13, 1.00000000e+00],\n",
       "       [1.39592019e-13, 1.00000000e+00],\n",
       "       [6.25658176e-14, 1.00000000e+00],\n",
       "       [1.30950602e-13, 1.00000000e+00],\n",
       "       [1.09276520e-13, 1.00000000e+00],\n",
       "       [1.02400781e-13, 1.00000000e+00],\n",
       "       [7.24006426e-14, 1.00000000e+00],\n",
       "       [1.75572346e-14, 1.00000000e+00],\n",
       "       [3.22110502e-14, 1.00000000e+00],\n",
       "       [3.00602167e-14, 1.00000000e+00],\n",
       "       [1.22154746e-14, 1.00000000e+00],\n",
       "       [3.21006513e-14, 1.00000000e+00],\n",
       "       [2.54177410e-14, 1.00000000e+00],\n",
       "       [1.94581239e-14, 1.00000000e+00],\n",
       "       [2.14988092e-14, 1.00000000e+00],\n",
       "       [1.12709516e-14, 1.00000000e+00],\n",
       "       [9.89619170e-15, 1.00000000e+00],\n",
       "       [9.36681051e-15, 1.00000000e+00],\n",
       "       [5.62630370e-15, 1.00000000e+00],\n",
       "       [2.38529933e-14, 1.00000000e+00],\n",
       "       [1.50120005e-14, 1.00000000e+00],\n",
       "       [4.60622488e-15, 1.00000000e+00],\n",
       "       [6.92490939e-15, 1.00000000e+00],\n",
       "       [3.04973599e-15, 1.00000000e+00],\n",
       "       [2.45839349e-15, 1.00000000e+00],\n",
       "       [3.00007275e-15, 1.00000000e+00],\n",
       "       [3.82820437e-15, 1.00000000e+00],\n",
       "       [1.69890849e-15, 1.00000000e+00],\n",
       "       [4.52045496e-16, 1.00000000e+00],\n",
       "       [4.09168741e-16, 1.00000000e+00],\n",
       "       [1.79585681e-15, 1.00000000e+00],\n",
       "       [2.95207415e-15, 1.00000000e+00],\n",
       "       [3.92982588e-15, 1.00000000e+00],\n",
       "       [3.53895342e-16, 1.00000000e+00],\n",
       "       [1.14994847e-16, 1.00000000e+00],\n",
       "       [1.61519482e-16, 1.00000000e+00],\n",
       "       [2.35320068e-15, 1.00000000e+00],\n",
       "       [6.42202963e-16, 1.00000000e+00],\n",
       "       [4.54209665e-16, 1.00000000e+00],\n",
       "       [3.06131498e-16, 1.00000000e+00],\n",
       "       [1.20208364e-15, 1.00000000e+00],\n",
       "       [4.61615910e-16, 1.00000000e+00],\n",
       "       [2.46498314e-16, 1.00000000e+00],\n",
       "       [3.27449623e-16, 1.00000000e+00],\n",
       "       [3.70833857e-16, 1.00000000e+00],\n",
       "       [2.83142627e-16, 1.00000000e+00],\n",
       "       [3.60110711e-16, 1.00000000e+00],\n",
       "       [2.45544793e-16, 1.00000000e+00],\n",
       "       [9.89156738e-17, 1.00000000e+00],\n",
       "       [9.29113285e-17, 1.00000000e+00],\n",
       "       [5.64042548e-17, 1.00000000e+00],\n",
       "       [3.60376487e-17, 1.00000000e+00],\n",
       "       [1.35377173e-16, 1.00000000e+00],\n",
       "       [1.21340209e-16, 1.00000000e+00],\n",
       "       [1.96736157e-17, 1.00000000e+00],\n",
       "       [4.35931429e-17, 1.00000000e+00],\n",
       "       [3.20144209e-17, 1.00000000e+00],\n",
       "       [2.43939665e-17, 1.00000000e+00],\n",
       "       [4.89824330e-17, 1.00000000e+00],\n",
       "       [4.01500863e-17, 1.00000000e+00],\n",
       "       [6.25196143e-17, 1.00000000e+00],\n",
       "       [1.38659872e-17, 1.00000000e+00],\n",
       "       [7.19761085e-17, 1.00000000e+00],\n",
       "       [6.98788285e-17, 1.00000000e+00],\n",
       "       [5.08653277e-17, 1.00000000e+00],\n",
       "       [8.56580762e-18, 1.00000000e+00],\n",
       "       [2.53904958e-17, 1.00000000e+00],\n",
       "       [2.10642420e-17, 1.00000000e+00],\n",
       "       [1.93948989e-17, 1.00000000e+00],\n",
       "       [9.26396708e-18, 1.00000000e+00],\n",
       "       [1.92884126e-18, 1.00000000e+00],\n",
       "       [4.11934663e-18, 1.00000000e+00],\n",
       "       [2.21007791e-18, 1.00000000e+00],\n",
       "       [9.29483416e-18, 1.00000000e+00],\n",
       "       [3.19841461e-17, 1.00000000e+00],\n",
       "       [5.01992877e-18, 1.00000000e+00],\n",
       "       [1.49228660e-17, 1.00000000e+00],\n",
       "       [5.63278606e-18, 1.00000000e+00],\n",
       "       [3.28087397e-18, 1.00000000e+00],\n",
       "       [1.50861469e-18, 1.00000000e+00],\n",
       "       [1.88352727e-18, 1.00000000e+00],\n",
       "       [2.87923601e-18, 1.00000000e+00],\n",
       "       [2.19656281e-18, 1.00000000e+00],\n",
       "       [1.86943997e-18, 1.00000000e+00],\n",
       "       [2.40330379e-18, 1.00000000e+00],\n",
       "       [1.71201675e-18, 1.00000000e+00],\n",
       "       [2.68378440e-18, 1.00000000e+00],\n",
       "       [4.70309150e-19, 1.00000000e+00],\n",
       "       [5.40027241e-19, 1.00000000e+00],\n",
       "       [4.64780275e-19, 1.00000000e+00],\n",
       "       [2.02107469e-19, 1.00000000e+00],\n",
       "       [2.12243585e-19, 1.00000000e+00],\n",
       "       [2.16485858e-19, 1.00000000e+00],\n",
       "       [1.77783163e-19, 1.00000000e+00],\n",
       "       [6.42112715e-20, 1.00000000e+00],\n",
       "       [6.09750036e-19, 1.00000000e+00],\n",
       "       [6.62633709e-19, 1.00000000e+00],\n",
       "       [1.10233501e-19, 1.00000000e+00],\n",
       "       [5.51891286e-20, 1.00000000e+00],\n",
       "       [6.68588763e-20, 1.00000000e+00],\n",
       "       [4.32589869e-20, 1.00000000e+00],\n",
       "       [5.99785689e-20, 1.00000000e+00],\n",
       "       [1.78754260e-19, 1.00000000e+00],\n",
       "       [2.97205122e-20, 1.00000000e+00],\n",
       "       [2.20571071e-20, 1.00000000e+00],\n",
       "       [8.86237625e-20, 1.00000000e+00],\n",
       "       [8.20137460e-21, 1.00000000e+00],\n",
       "       [6.76820955e-20, 1.00000000e+00],\n",
       "       [1.84564658e-20, 1.00000000e+00],\n",
       "       [1.97993402e-20, 1.00000000e+00],\n",
       "       [1.55170197e-20, 1.00000000e+00],\n",
       "       [1.12356524e-20, 1.00000000e+00],\n",
       "       [1.35923417e-20, 1.00000000e+00],\n",
       "       [1.67525723e-20, 1.00000000e+00],\n",
       "       [2.96521114e-20, 1.00000000e+00],\n",
       "       [8.25297000e-21, 1.00000000e+00],\n",
       "       [6.04537681e-21, 1.00000000e+00],\n",
       "       [4.45582445e-21, 1.00000000e+00],\n",
       "       [4.54301446e-21, 1.00000000e+00],\n",
       "       [2.93354818e-21, 1.00000000e+00],\n",
       "       [9.71135384e-22, 1.00000000e+00],\n",
       "       [5.45524150e-22, 1.00000000e+00],\n",
       "       [4.40426067e-22, 1.00000000e+00],\n",
       "       [4.09627473e-22, 1.00000000e+00],\n",
       "       [2.41576371e-22, 1.00000000e+00],\n",
       "       [3.13057948e-22, 1.00000000e+00],\n",
       "       [3.64335725e-22, 1.00000000e+00],\n",
       "       [6.34306469e-22, 1.00000000e+00],\n",
       "       [8.76919492e-22, 1.00000000e+00],\n",
       "       [1.10753572e-22, 1.00000000e+00],\n",
       "       [2.35667210e-22, 1.00000000e+00],\n",
       "       [7.52168460e-23, 1.00000000e+00],\n",
       "       [1.76603553e-22, 1.00000000e+00],\n",
       "       [2.11486187e-22, 1.00000000e+00],\n",
       "       [9.00488699e-23, 1.00000000e+00],\n",
       "       [1.59372849e-22, 1.00000000e+00],\n",
       "       [1.78467322e-22, 1.00000000e+00],\n",
       "       [8.67711024e-23, 1.00000000e+00],\n",
       "       [3.45894832e-22, 1.00000000e+00],\n",
       "       [2.04920024e-22, 1.00000000e+00],\n",
       "       [2.79636329e-23, 1.00000000e+00],\n",
       "       [1.49504824e-23, 1.00000000e+00],\n",
       "       [1.54419989e-22, 1.00000000e+00],\n",
       "       [1.40861023e-23, 1.00000000e+00],\n",
       "       [6.93684837e-24, 1.00000000e+00],\n",
       "       [2.19389751e-24, 1.00000000e+00],\n",
       "       [3.35238906e-24, 1.00000000e+00],\n",
       "       [9.38794885e-24, 1.00000000e+00],\n",
       "       [2.03477961e-23, 1.00000000e+00],\n",
       "       [6.30632699e-23, 1.00000000e+00],\n",
       "       [1.49977794e-23, 1.00000000e+00],\n",
       "       [8.33328837e-24, 1.00000000e+00],\n",
       "       [3.58617627e-24, 1.00000000e+00],\n",
       "       [1.58433365e-24, 1.00000000e+00],\n",
       "       [1.96668684e-24, 1.00000000e+00],\n",
       "       [8.76407308e-25, 1.00000000e+00],\n",
       "       [5.52430417e-25, 1.00000000e+00],\n",
       "       [1.14635186e-24, 1.00000000e+00],\n",
       "       [1.47531978e-24, 1.00000000e+00],\n",
       "       [2.61263632e-24, 1.00000000e+00],\n",
       "       [5.20022483e-25, 1.00000000e+00],\n",
       "       [1.68576834e-24, 1.00000000e+00],\n",
       "       [3.74831519e-24, 1.00000000e+00],\n",
       "       [3.08945861e-25, 1.00000000e+00],\n",
       "       [4.93287346e-25, 1.00000000e+00],\n",
       "       [1.97095862e-25, 1.00000000e+00],\n",
       "       [4.99269623e-25, 1.00000000e+00],\n",
       "       [2.18855407e-25, 1.00000000e+00],\n",
       "       [3.62209749e-25, 1.00000000e+00],\n",
       "       [7.29266112e-25, 1.00000000e+00],\n",
       "       [1.20736061e-25, 1.00000000e+00],\n",
       "       [3.33708723e-25, 1.00000000e+00],\n",
       "       [2.36375637e-25, 1.00000000e+00],\n",
       "       [1.17379076e-25, 1.00000000e+00],\n",
       "       [3.55637823e-25, 1.00000000e+00],\n",
       "       [3.97903320e-26, 1.00000000e+00],\n",
       "       [3.24316323e-25, 1.00000000e+00],\n",
       "       [2.03999338e-26, 1.00000000e+00],\n",
       "       [3.87779554e-26, 1.00000000e+00],\n",
       "       [6.86435637e-26, 1.00000000e+00],\n",
       "       [1.86820271e-25, 1.00000000e+00],\n",
       "       [2.28806825e-26, 1.00000000e+00],\n",
       "       [1.22948771e-26, 1.00000000e+00],\n",
       "       [2.54428118e-26, 1.00000000e+00],\n",
       "       [6.37481618e-27, 1.00000000e+00],\n",
       "       [6.98770448e-27, 1.00000000e+00],\n",
       "       [2.87879207e-27, 1.00000000e+00],\n",
       "       [1.10580051e-27, 1.00000000e+00],\n",
       "       [1.75459305e-27, 1.00000000e+00],\n",
       "       [9.32509163e-27, 1.00000000e+00],\n",
       "       [4.79115672e-27, 1.00000000e+00],\n",
       "       [1.05038555e-26, 1.00000000e+00],\n",
       "       [3.18046068e-27, 1.00000000e+00],\n",
       "       [3.44236289e-27, 1.00000000e+00],\n",
       "       [3.37789431e-27, 1.00000000e+00],\n",
       "       [4.10490859e-27, 1.00000000e+00],\n",
       "       [8.95695802e-28, 1.00000000e+00],\n",
       "       [1.10701596e-27, 1.00000000e+00],\n",
       "       [2.29559352e-27, 1.00000000e+00],\n",
       "       [4.88654803e-27, 1.00000000e+00],\n",
       "       [5.97626192e-27, 1.00000000e+00],\n",
       "       [2.27213704e-27, 1.00000000e+00],\n",
       "       [1.02601183e-27, 1.00000000e+00],\n",
       "       [3.17281093e-28, 1.00000000e+00],\n",
       "       [1.07843783e-28, 1.00000000e+00],\n",
       "       [1.16784985e-28, 1.00000000e+00],\n",
       "       [1.28012769e-27, 1.00000000e+00],\n",
       "       [1.89098804e-28, 1.00000000e+00],\n",
       "       [4.03265584e-28, 1.00000000e+00],\n",
       "       [4.14021012e-28, 1.00000000e+00],\n",
       "       [2.68648786e-28, 1.00000000e+00],\n",
       "       [1.06064958e-28, 1.00000000e+00],\n",
       "       [7.84500118e-29, 1.00000000e+00],\n",
       "       [1.26332506e-28, 1.00000000e+00],\n",
       "       [5.48383575e-29, 1.00000000e+00],\n",
       "       [6.84048728e-29, 1.00000000e+00],\n",
       "       [4.57199880e-29, 1.00000000e+00],\n",
       "       [6.90835344e-29, 1.00000000e+00],\n",
       "       [6.31050747e-29, 1.00000000e+00],\n",
       "       [1.04034113e-28, 1.00000000e+00],\n",
       "       [9.20047068e-29, 1.00000000e+00],\n",
       "       [5.34716634e-29, 1.00000000e+00],\n",
       "       [7.54918677e-29, 1.00000000e+00],\n",
       "       [5.58159415e-29, 1.00000000e+00],\n",
       "       [8.48885897e-30, 1.00000000e+00],\n",
       "       [1.05404160e-29, 1.00000000e+00],\n",
       "       [2.51539315e-30, 1.00000000e+00],\n",
       "       [1.61637056e-29, 1.00000000e+00],\n",
       "       [1.30391340e-29, 1.00000000e+00],\n",
       "       [2.24068979e-29, 1.00000000e+00],\n",
       "       [2.31379136e-30, 1.00000000e+00],\n",
       "       [3.15428825e-30, 1.00000000e+00],\n",
       "       [3.11649338e-30, 1.00000000e+00],\n",
       "       [2.32518782e-30, 1.00000000e+00],\n",
       "       [1.77652123e-30, 1.00000000e+00],\n",
       "       [5.63700370e-31, 1.00000000e+00],\n",
       "       [4.22807526e-30, 1.00000000e+00],\n",
       "       [1.00393894e-30, 1.00000000e+00],\n",
       "       [1.53113001e-30, 1.00000000e+00],\n",
       "       [1.86146565e-30, 1.00000000e+00],\n",
       "       [1.69266127e-30, 1.00000000e+00],\n",
       "       [3.26817193e-31, 1.00000000e+00],\n",
       "       [1.62334982e-31, 1.00000000e+00],\n",
       "       [1.58434222e-31, 1.00000000e+00],\n",
       "       [1.87932994e-31, 1.00000000e+00],\n",
       "       [4.25574141e-31, 1.00000000e+00],\n",
       "       [9.79157454e-31, 1.00000000e+00],\n",
       "       [5.26991468e-31, 1.00000000e+00],\n",
       "       [1.54697995e-31, 1.00000000e+00],\n",
       "       [5.21010788e-31, 1.00000000e+00],\n",
       "       [6.71818943e-32, 1.00000000e+00],\n",
       "       [2.80999926e-31, 1.00000000e+00],\n",
       "       [1.08172928e-31, 1.00000000e+00],\n",
       "       [1.62505981e-31, 1.00000000e+00],\n",
       "       [1.81981431e-31, 1.00000000e+00],\n",
       "       [2.84396135e-32, 1.00000000e+00],\n",
       "       [8.61969201e-32, 1.00000000e+00],\n",
       "       [1.74309811e-32, 1.00000000e+00],\n",
       "       [8.08856017e-32, 1.00000000e+00],\n",
       "       [1.40150935e-31, 1.00000000e+00],\n",
       "       [4.69671207e-32, 1.00000000e+00],\n",
       "       [3.27512856e-32, 1.00000000e+00],\n",
       "       [8.48221809e-33, 1.00000000e+00],\n",
       "       [1.38421660e-32, 1.00000000e+00],\n",
       "       [4.83989022e-32, 1.00000000e+00],\n",
       "       [2.43803200e-32, 1.00000000e+00],\n",
       "       [1.69802334e-32, 1.00000000e+00],\n",
       "       [5.49679121e-33, 1.00000000e+00],\n",
       "       [5.61959291e-33, 1.00000000e+00],\n",
       "       [4.87791879e-33, 1.00000000e+00],\n",
       "       [2.00834404e-33, 1.00000000e+00],\n",
       "       [3.37373087e-33, 1.00000000e+00],\n",
       "       [4.89148436e-33, 1.00000000e+00],\n",
       "       [8.65479536e-33, 1.00000000e+00],\n",
       "       [1.45038091e-32, 1.00000000e+00],\n",
       "       [1.20114153e-33, 1.00000000e+00],\n",
       "       [3.73842726e-33, 1.00000000e+00]], dtype=float32)"
      ]
     },
     "execution_count": 88,
     "metadata": {},
     "output_type": "execute_result"
    }
   ],
   "source": [
    "pred = model.predict(testX)\n",
    "pred"
   ]
  },
  {
   "cell_type": "code",
   "execution_count": 89,
   "metadata": {},
   "outputs": [],
   "source": [
    "pred = np.argmax(pred, axis=1)"
   ]
  },
  {
   "cell_type": "code",
   "execution_count": 90,
   "metadata": {},
   "outputs": [],
   "source": [
    "true = np.argmax(testY, axis=1)"
   ]
  },
  {
   "cell_type": "code",
   "execution_count": 91,
   "metadata": {},
   "outputs": [
    {
     "data": {
      "text/plain": [
       "array([0, 0, 0, 0, 0, 0, 0, 0, 0, 0, 0, 0, 0, 0, 0, 0, 0, 0, 0, 0, 0, 0,\n",
       "       0, 0, 0, 0, 0, 1, 1, 1, 1, 1, 0, 1, 1, 1, 1, 1, 1, 1, 1, 1, 1, 1,\n",
       "       1, 1, 1, 1, 1, 1, 1, 1, 1, 1, 1, 1, 1, 1, 1, 1, 1, 1, 1, 1, 1, 1,\n",
       "       1, 1, 1, 1, 1, 1, 1, 1, 1, 1, 1, 1, 1, 1, 1, 1, 1, 1, 1, 1, 1, 1,\n",
       "       1, 1, 1, 1, 1, 1, 1, 1, 1, 1, 1, 1, 1, 1, 1, 1, 1, 1, 1, 1, 1, 1,\n",
       "       1, 1, 1, 1, 1, 1, 1, 1, 1, 1, 1, 1, 1, 1, 1, 1, 1, 1, 1, 1, 1, 1,\n",
       "       1, 1, 1, 1, 1, 1, 1, 1, 1, 1, 1, 1, 1, 1, 1, 1, 1, 1, 1, 1, 1, 1,\n",
       "       1, 1, 1, 1, 1, 1, 1, 1, 1, 1, 1, 1, 1, 1, 1, 1, 1, 1, 1, 1, 1, 1,\n",
       "       1, 1, 1, 1, 1, 1, 1, 1, 1, 1, 1, 1, 1, 1, 1, 1, 1, 1, 1, 1, 1, 1,\n",
       "       1, 1, 1, 1, 1, 1, 1, 1, 1, 1, 1, 1, 1, 1, 1, 1, 1, 1, 1, 1, 1, 1,\n",
       "       1, 1, 1, 1, 1, 1, 1, 1, 1, 1, 1, 1, 1, 1, 1, 1, 1, 1, 1, 1, 1, 1,\n",
       "       1, 1, 1, 1, 1, 1, 1, 1, 1, 1, 1, 1, 1, 1, 1, 1, 1, 1, 1, 1, 1, 1,\n",
       "       1, 1, 1, 1, 1, 1, 1, 1, 1, 1, 1, 1, 1, 1, 1, 1, 1, 1, 1, 1, 1, 1,\n",
       "       1, 1, 1, 1, 1, 1, 1, 1, 1, 1, 1, 1, 1, 1, 1, 1, 1, 1, 1, 1, 1, 1,\n",
       "       1, 1, 1, 1, 1, 1, 1, 1, 1, 1, 1, 1, 1, 1, 1, 1, 1, 1, 1, 1, 1, 1,\n",
       "       1, 1, 1, 1, 1, 1, 1, 1, 1, 1, 1, 1, 1, 1, 1, 1, 1, 1, 1, 1, 1, 1,\n",
       "       1, 1, 1, 1, 1, 1, 1, 1, 1, 1, 1, 1, 1, 1, 1, 1, 1, 1, 1, 1, 1, 1,\n",
       "       1, 1, 1, 1, 1, 1, 1, 1, 1, 1, 1, 1, 1, 1, 1, 1, 1, 1, 1, 1, 1, 1,\n",
       "       1, 1, 1, 1, 1, 1, 1, 1, 1, 1, 1, 1, 1, 1, 1, 1, 1, 1, 1, 1, 1, 1,\n",
       "       1, 1, 1, 1, 1, 1, 1, 1, 1, 1, 1, 1, 1, 1, 1, 1, 1, 1, 1, 1, 1, 1,\n",
       "       1, 1, 1, 1, 1, 1, 1, 1, 1, 1, 1, 1, 1, 1, 1, 1, 1, 1, 1, 1, 1, 1,\n",
       "       1, 1, 1, 1, 1, 1, 1, 1, 1, 1, 1, 1, 1, 1, 1, 1, 1, 1, 1, 1, 1, 1,\n",
       "       1, 1, 1, 1, 1, 1, 1, 1, 1, 1, 1, 1, 1, 1, 1, 1], dtype=int64)"
      ]
     },
     "execution_count": 91,
     "metadata": {},
     "output_type": "execute_result"
    }
   ],
   "source": [
    "Classes[pred]"
   ]
  },
  {
   "cell_type": "code",
   "execution_count": 92,
   "metadata": {},
   "outputs": [
    {
     "data": {
      "text/plain": [
       "array([1, 1, 1, 1, 0, 1, 1, 0, 0, 0, 1, 1, 1, 1, 1, 0, 0, 1, 0, 0, 1, 0,\n",
       "       1, 1, 1, 1, 0, 1, 0, 0, 1, 1, 1, 1, 1, 1, 0, 0, 0, 0, 1, 1, 1, 0,\n",
       "       1, 1, 1, 0, 1, 1, 1, 1, 1, 1, 0, 0, 0, 0, 1, 0, 0, 0, 1, 1, 0, 0,\n",
       "       0, 1, 1, 1, 1, 1, 1, 1, 0, 1, 1, 0, 1, 0, 1, 1, 1, 1, 1, 0, 0, 0,\n",
       "       0, 1, 1, 0, 0, 1, 0, 0, 0, 1, 1, 1, 1, 0, 0, 0, 1, 1, 1, 1, 1, 0,\n",
       "       0, 1, 1, 0, 1, 1, 0, 0, 0, 1, 1, 1, 0, 0, 0, 1, 1, 1, 1, 1, 1, 0,\n",
       "       0, 0, 1, 1, 0, 1, 1, 0, 1, 1, 1, 1, 1, 1, 0, 1, 1, 1, 1, 1, 1, 0,\n",
       "       0, 0, 0, 0, 0, 0, 0, 0, 0, 0, 1, 0, 0, 0, 1, 0, 1, 1, 1, 1, 1, 1,\n",
       "       1, 0, 0, 0, 0, 0, 0, 0, 0, 1, 1, 1, 1, 1, 1, 1, 1, 1, 0, 1, 0, 0,\n",
       "       0, 0, 1, 1, 1, 1, 0, 0, 0, 1, 0, 1, 1, 1, 1, 1, 1, 1, 1, 1, 1, 0,\n",
       "       0, 0, 0, 0, 0, 0, 0, 0, 0, 1, 0, 1, 0, 0, 1, 1, 1, 1, 0, 0, 0, 0,\n",
       "       1, 1, 0, 1, 0, 0, 1, 1, 1, 0, 1, 1, 0, 0, 0, 1, 1, 1, 1, 0, 1, 1,\n",
       "       1, 0, 0, 1, 0, 0, 1, 0, 0, 1, 0, 1, 1, 0, 0, 0, 1, 1, 1, 1, 1, 1,\n",
       "       1, 1, 0, 0, 0, 0, 0, 1, 1, 0, 0, 0, 1, 0, 0, 0, 1, 1, 0, 1, 1, 1,\n",
       "       0, 0, 1, 1, 1, 0, 0, 0, 0, 0, 1, 1, 1, 1, 0, 0, 0, 1, 0, 0, 1, 0,\n",
       "       1, 1, 1, 1, 1, 1, 0, 1, 1, 1, 1, 1, 0, 0, 0, 0, 0, 0, 0, 0, 1, 1,\n",
       "       1, 0, 0, 0, 1, 1, 0, 0, 1, 1, 1, 0, 1, 1, 1, 0, 0, 1, 0, 1, 1, 1,\n",
       "       0, 0, 0, 0, 0, 1, 1, 1, 1, 0, 1, 1, 0, 0, 0, 1, 0, 0, 1, 0, 1, 1,\n",
       "       1, 1, 0, 1, 0, 0, 1, 1, 1, 0, 1, 1, 1, 0, 0, 0, 1, 1, 1, 1, 0, 0,\n",
       "       0, 1, 0, 1, 1, 1, 1, 1, 0, 1, 0, 1, 1, 1, 1, 0, 0, 0, 1, 1, 1, 0,\n",
       "       0, 1, 1, 1, 1, 1, 1, 1, 0, 0, 1, 1, 1, 1, 0, 0, 0, 0, 1, 1, 1, 1,\n",
       "       0, 0, 0, 0, 1, 1, 1, 1, 1, 0, 1, 0, 1, 0, 0, 0, 1, 1, 1, 1, 1, 0,\n",
       "       1, 1, 0, 0, 1, 0, 1, 0, 1, 1, 1, 1, 1, 1, 0, 0], dtype=int64)"
      ]
     },
     "execution_count": 92,
     "metadata": {},
     "output_type": "execute_result"
    }
   ],
   "source": [
    "Classes[true]"
   ]
  },
  {
   "cell_type": "code",
   "execution_count": 93,
   "metadata": {},
   "outputs": [
    {
     "name": "stdout",
     "output_type": "stream",
     "text": [
      "Accuracy on test data is 0.54\n"
     ]
    }
   ],
   "source": [
    "from sklearn.metrics import accuracy_score, confusion_matrix, f1_score, precision_score,recall_score,classification_report\n",
    "\n",
    "\n",
    "print('Accuracy on test data is %.2f' % (accuracy_score(true, pred)))"
   ]
  },
  {
   "cell_type": "code",
   "execution_count": 94,
   "metadata": {},
   "outputs": [
    {
     "name": "stdout",
     "output_type": "stream",
     "text": [
      "              precision    recall  f1-score   support\n",
      "\n",
      "           0       0.36      0.05      0.08       220\n",
      "           1       0.56      0.94      0.70       280\n",
      "\n",
      "    accuracy                           0.54       500\n",
      "   macro avg       0.46      0.49      0.39       500\n",
      "weighted avg       0.47      0.54      0.43       500\n",
      "\n"
     ]
    }
   ],
   "source": [
    "print(classification_report(true,pred))"
   ]
  },
  {
   "cell_type": "code",
   "execution_count": null,
   "metadata": {},
   "outputs": [],
   "source": []
  },
  {
   "cell_type": "markdown",
   "metadata": {},
   "source": [
    "## Text Mining"
   ]
  },
  {
   "cell_type": "code",
   "execution_count": 95,
   "metadata": {},
   "outputs": [],
   "source": [
    "import pandas as pd\n",
    "import numpy as np\n",
    "import matplotlib.pyplot as plt\n",
    "%matplotlib inline\n",
    "import seaborn as sns\n",
    "import re\n",
    "\n",
    "import pickle \n",
    "#import mglearn\n",
    "import time\n",
    "\n",
    "\n",
    "from nltk.tokenize import TweetTokenizer # doesn't split at apostrophes\n",
    "import nltk\n",
    "from nltk import Text\n",
    "from nltk.tokenize import regexp_tokenize\n",
    "from nltk.tokenize import word_tokenize  \n",
    "from nltk.tokenize import sent_tokenize \n",
    "from nltk.corpus import stopwords\n",
    "from nltk.stem import WordNetLemmatizer\n",
    "from nltk.stem import PorterStemmer\n",
    "\n",
    "\n",
    "from sklearn.feature_extraction.text import CountVectorizer\n",
    "from sklearn.feature_extraction.text import TfidfVectorizer\n",
    "from sklearn.linear_model import LogisticRegression \n",
    "from sklearn.naive_bayes import MultinomialNB\n",
    "from sklearn.multiclass import OneVsRestClassifier\n",
    "\n",
    "\n",
    "from sklearn.model_selection import cross_val_score\n",
    "from sklearn.model_selection import train_test_split\n",
    "from sklearn import metrics\n",
    "from sklearn.metrics import classification_report\n",
    "from sklearn.metrics import confusion_matrix\n",
    "from sklearn.model_selection import GridSearchCV\n",
    "from sklearn.pipeline import make_pipeline"
   ]
  },
  {
   "cell_type": "code",
   "execution_count": 99,
   "metadata": {},
   "outputs": [],
   "source": [
    "txt = [\"This is :: a pleasent day, for playing with friends\",\n",
    "       \"he, unlike most of them, is a better person to hang out with.\",\n",
    "       \"she can't be going this to me\"]"
   ]
  },
  {
   "cell_type": "code",
   "execution_count": 100,
   "metadata": {},
   "outputs": [
    {
     "name": "stdout",
     "output_type": "stream",
     "text": [
      "Every feature:\n",
      "['better', 'day', 'friends', 'going', 'hang', 'person', 'playing', 'pleasent', 'unlike']\n",
      "\n",
      "Every 3rd feature:\n",
      "['better', 'going', 'playing']\n"
     ]
    }
   ],
   "source": [
    "# Initialize a CountVectorizer object: count_vectorizer\n",
    "count_vec = CountVectorizer(stop_words=\"english\", analyzer='word', \n",
    "                            ngram_range=(1, 1), max_df=1.0, min_df=1, max_features=None)\n",
    "\n",
    "# Transforms the data into a bag of words\n",
    "count_train = count_vec.fit(txt)\n",
    "bag_of_words = count_vec.transform(txt)\n",
    "\n",
    "# Print the first 10 features of the count_vec\n",
    "print(\"Every feature:\\n{}\".format(count_vec.get_feature_names()))\n",
    "print(\"\\nEvery 3rd feature:\\n{}\".format(count_vec.get_feature_names()[::3]))"
   ]
  },
  {
   "cell_type": "code",
   "execution_count": 101,
   "metadata": {},
   "outputs": [
    {
     "name": "stdout",
     "output_type": "stream",
     "text": [
      " size: 9\n",
      " content:\n",
      " {'pleasent': 7, 'day': 1, 'playing': 6, 'friends': 2, 'unlike': 8, 'better': 0, 'person': 5, 'hang': 4, 'going': 3}\n"
     ]
    }
   ],
   "source": [
    "print(\" size: {}\".format(len(count_train.vocabulary_)))\n",
    "print(\" content:\\n {}\".format(count_train.vocabulary_))"
   ]
  },
  {
   "cell_type": "code",
   "execution_count": 104,
   "metadata": {},
   "outputs": [
    {
     "name": "stdout",
     "output_type": "stream",
     "text": [
      "['better', 'better person', 'day', 'day playing', 'friends', 'going', 'hang', 'person', 'person hang', 'playing', 'playing friends', 'pleasent', 'pleasent day', 'unlike', 'unlike better']\n"
     ]
    }
   ],
   "source": [
    "count_vec = CountVectorizer(stop_words=\"english\", analyzer='word', \n",
    "                            ngram_range=(1, 2), max_df=1.0, min_df=1, max_features=None)\n",
    "\n",
    "count_train = count_vec.fit(txt)\n",
    "bag_of_words = count_vec.transform(txt)\n",
    "\n",
    "print(count_vec.get_feature_names())"
   ]
  },
  {
   "cell_type": "code",
   "execution_count": 106,
   "metadata": {},
   "outputs": [
    {
     "name": "stdout",
     "output_type": "stream",
     "text": [
      "['better', 'better person', 'better person hang', 'day', 'day playing', 'day playing friends', 'friends', 'going', 'hang', 'person', 'person hang', 'playing', 'playing friends', 'pleasent', 'pleasent day', 'pleasent day playing', 'unlike', 'unlike better', 'unlike better person']\n"
     ]
    }
   ],
   "source": [
    "count_vec = CountVectorizer(stop_words=\"english\", analyzer='word', \n",
    "                            ngram_range=(1, 3), max_df=1.0, min_df=1, max_features=None)\n",
    "\n",
    "count_train = count_vec.fit(txt)\n",
    "bag_of_words = count_vec.transform(txt)\n",
    "\n",
    "print(count_vec.get_feature_names())"
   ]
  },
  {
   "cell_type": "code",
   "execution_count": 109,
   "metadata": {},
   "outputs": [
    {
     "name": "stdout",
     "output_type": "stream",
     "text": [
      "['better', 'day', 'friends', 'going', 'hang', 'person', 'playing', 'pleasent', 'unlike']\n",
      "\n",
      "Only 'park' is ignored because it appears in 2 out of 3 documents, meaning 0.66% of the time.\n"
     ]
    }
   ],
   "source": [
    "count_vec = CountVectorizer(stop_words=\"english\", analyzer='word', \n",
    "                            ngram_range=(1, 1), max_df=0.50, min_df=1, max_features=None)\n",
    "\n",
    "count_train = count_vec.fit(txt)\n",
    "bag_of_words = count_vec.transform(txt)\n",
    "\n",
    "print(count_vec.get_feature_names())\n"
   ]
  },
  {
   "cell_type": "code",
   "execution_count": 110,
   "metadata": {},
   "outputs": [
    {
     "name": "stdout",
     "output_type": "stream",
     "text": [
      "['better', 'day', 'friends', 'going']\n"
     ]
    }
   ],
   "source": [
    "#maxfeatures\n",
    "count_vec = CountVectorizer(stop_words=\"english\", analyzer='word', \n",
    "                            ngram_range=(1, 1), max_df=1.0, min_df=1, max_features=4)\n",
    "\n",
    "count_train = count_vec.fit(txt)\n",
    "bag_of_words = count_vec.transform(txt)\n",
    "\n",
    "print(count_vec.get_feature_names())"
   ]
  },
  {
   "cell_type": "code",
   "execution_count": 129,
   "metadata": {},
   "outputs": [
    {
     "name": "stdout",
     "output_type": "stream",
     "text": [
      "The text:  ['Hi  a good day', ' not a good time', 'good']\n"
     ]
    }
   ],
   "source": [
    "#tfidf\n",
    "txt1 = ['Hi  a good day', ' not a good time','good']\n",
    "tf = TfidfVectorizer(smooth_idf=False, sublinear_tf=False, norm=None, analyzer='word')\n",
    "txt_fitted = tf.fit(txt1)\n",
    "txt_transformed = txt_fitted.transform(txt1)\n",
    "print (\"The text: \", txt1)"
   ]
  },
  {
   "cell_type": "code",
   "execution_count": 130,
   "metadata": {},
   "outputs": [
    {
     "data": {
      "text/plain": [
       "{'hi': 2, 'good': 1, 'day': 0, 'not': 3, 'time': 4}"
      ]
     },
     "execution_count": 130,
     "metadata": {},
     "output_type": "execute_result"
    }
   ],
   "source": [
    "tf.vocabulary_"
   ]
  },
  {
   "cell_type": "code",
   "execution_count": 131,
   "metadata": {},
   "outputs": [
    {
     "name": "stdout",
     "output_type": "stream",
     "text": [
      "{'day': 2.09861228866811, 'good': 1.0, 'hi': 2.09861228866811, 'not': 2.09861228866811, 'time': 2.09861228866811}\n"
     ]
    }
   ],
   "source": [
    "idf = tf.idf_\n",
    "print(dict(zip(txt_fitted.get_feature_names(), idf)))\n",
    "\n"
   ]
  },
  {
   "cell_type": "code",
   "execution_count": 132,
   "metadata": {},
   "outputs": [],
   "source": [
    "rr = dict(zip(txt_fitted.get_feature_names(), idf))"
   ]
  },
  {
   "cell_type": "code",
   "execution_count": 133,
   "metadata": {},
   "outputs": [
    {
     "data": {
      "image/png": "[encoded data removed]",
      "text/plain": [
       "<Figure size 720x360 with 1 Axes>"
      ]
     },
     "metadata": {
      "needs_background": "light"
     },
     "output_type": "display_data"
    }
   ],
   "source": [
    "token_weight = pd.DataFrame.from_dict(rr, orient='index').reset_index()\n",
    "token_weight.columns=('token','weight')\n",
    "token_weight = token_weight.sort_values(by='weight', ascending=False)\n",
    "token_weight \n",
    "\n",
    "sns.barplot(x='token', y='weight', data=token_weight)            \n",
    "plt.title(\"Inverse Document Frequency(idf) per token\")\n",
    "fig=plt.gcf()\n",
    "fig.set_size_inches(10,5)\n",
    "plt.show()"
   ]
  },
  {
   "cell_type": "markdown",
   "metadata": {},
   "source": [
    "Let us compute the tf-idf\n",
    "Term Frequency = tf\n",
    "Inverse Document Frequency = idf\n",
    "idf = log(total_docs/number of documents that contain the word)\n",
    "\n",
    "tf-idf = tf . idf"
   ]
  },
  {
   "cell_type": "code",
   "execution_count": 134,
   "metadata": {},
   "outputs": [
    {
     "name": "stdout",
     "output_type": "stream",
     "text": [
      "Features with lowest idf:\n",
      "['good' 'day' 'hi']\n",
      "\n",
      "Features with highest idf:\n",
      "['hi' 'not' 'time']\n"
     ]
    }
   ],
   "source": [
    "# get feature names\n",
    "feature_names = np.array(tf.get_feature_names())\n",
    "sorted_by_idf = np.argsort(tf.idf_)\n",
    "print(\"Features with lowest idf:\\n{}\".format(\n",
    "       feature_names[sorted_by_idf[:3]]))\n",
    "print(\"\\nFeatures with highest idf:\\n{}\".format(\n",
    "       feature_names[sorted_by_idf[-3:]]))"
   ]
  },
  {
   "cell_type": "code",
   "execution_count": 135,
   "metadata": {},
   "outputs": [
    {
     "name": "stdout",
     "output_type": "stream",
     "text": [
      "The token 'not' has  the largest weight in document #2 because it appears 3 times there. But in document #1 its weight is 0 because it does not appear there.\n"
     ]
    },
    {
     "data": {
      "text/plain": [
       "array([[2.09861229, 1.        , 2.09861229, 0.        , 0.        ],\n",
       "       [0.        , 1.        , 0.        , 2.09861229, 2.09861229],\n",
       "       [0.        , 1.        , 0.        , 0.        , 0.        ]])"
      ]
     },
     "execution_count": 135,
     "metadata": {},
     "output_type": "execute_result"
    }
   ],
   "source": [
    "print(\"The token 'not' has  the largest weight in document #2 because it appears 3 times there. But in document #1\\\n",
    " its weight is 0 because it does not appear there.\")\n",
    "txt_transformed.toarray()"
   ]
  },
  {
   "cell_type": "code",
   "execution_count": 137,
   "metadata": {},
   "outputs": [
    {
     "name": "stdout",
     "output_type": "stream",
     "text": [
      "Features with lowest tfidf:\n",
      "['good' 'day' 'hi']\n",
      "\n",
      "Features with highest tfidf: \n",
      "['hi' 'not' 'time']\n"
     ]
    }
   ],
   "source": [
    "new1 = tf.transform(txt1)\n",
    "\n",
    "# find maximum value for each of the features over all of dataset:\n",
    "max_val = new1.max(axis=0).toarray().ravel()\n",
    "\n",
    "#sort weights from smallest to biggest and extract their indices \n",
    "sort_by_tfidf = max_val.argsort()\n",
    "\n",
    "print(\"Features with lowest tfidf:\\n{}\".format(\n",
    "      feature_names[sort_by_tfidf[:3]]))\n",
    "\n",
    "print(\"\\nFeatures with highest tfidf: \\n{}\".format(\n",
    "      feature_names[sort_by_tfidf[-3:]]))"
   ]
  },
  {
   "cell_type": "markdown",
   "metadata": {},
   "source": [
    "<b>Term Frequency and Inverse Document Frequency</b>\n",
    "tf–idf, short for term frequency–inverse document frequency, is a numerical statistic that is intended to reflect how important a word is to a document in a collection or corpus.[1]:8 It is often used as a weighting factor in information retrieval and text mining. The tf-idf value increases proportionally to the number of times a word appears in the document, but is offset by the frequency of the word in the corpus, which helps to adjust for the fact that some words appear more frequently in general.\n",
    "\n",
    "Variations of the tf–idf weighting scheme are often used by search engines as a central tool in scoring and ranking a document's relevance given a user query. tf–idf can be successfully used for stop-words filtering in various subject fields including text summarization and classification.\n",
    "\n",
    "Let us start with the \"Term Frequency\" - TF"
   ]
  },
  {
   "cell_type": "code",
   "execution_count": null,
   "metadata": {},
   "outputs": [],
   "source": []
  }
 ],
 "metadata": {
  "kernelspec": {
   "display_name": "Python 3",
   "language": "python",
   "name": "python3"
  },
  "language_info": {
   "codemirror_mode": {
    "name": "ipython",
    "version": 3
   },
   "file_extension": ".py",
   "mimetype": "text/x-python",
   "name": "python",
   "nbconvert_exporter": "python",
   "pygments_lexer": "ipython3",
   "version": "3.7.3"
  }
 },
 "nbformat": 4,
 "nbformat_minor": 2
}
