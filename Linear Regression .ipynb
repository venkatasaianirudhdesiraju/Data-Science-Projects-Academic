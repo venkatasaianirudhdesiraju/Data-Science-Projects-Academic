{
 "cells": [
  {
   "cell_type": "markdown",
   "metadata": {},
   "source": [
    "### Linear Regression"
   ]
  },
  {
   "cell_type": "markdown",
   "metadata": {},
   "source": [
    "### (A) Using the data in previous assignment"
   ]
  },
  {
   "cell_type": "markdown",
   "metadata": {},
   "source": [
    "##### Implementing Pre-Processing prior to applying linear regression modeling."
   ]
  },
  {
   "cell_type": "code",
   "execution_count": 86,
   "metadata": {},
   "outputs": [
    {
     "data": {
      "text/html": [
       "<div>\n",
       "<style scoped>\n",
       "    .dataframe tbody tr th:only-of-type {\n",
       "        vertical-align: middle;\n",
       "    }\n",
       "\n",
       "    .dataframe tbody tr th {\n",
       "        vertical-align: top;\n",
       "    }\n",
       "\n",
       "    .dataframe thead th {\n",
       "        text-align: right;\n",
       "    }\n",
       "</style>\n",
       "<table border=\"1\" class=\"dataframe\">\n",
       "  <thead>\n",
       "    <tr style=\"text-align: right;\">\n",
       "      <th></th>\n",
       "      <th>wsid</th>\n",
       "      <th>wsnm</th>\n",
       "      <th>elvt</th>\n",
       "      <th>lat</th>\n",
       "      <th>lon</th>\n",
       "      <th>inme</th>\n",
       "      <th>city</th>\n",
       "      <th>prov</th>\n",
       "      <th>mdct</th>\n",
       "      <th>date</th>\n",
       "      <th>...</th>\n",
       "      <th>tmax</th>\n",
       "      <th>dmax</th>\n",
       "      <th>tmin</th>\n",
       "      <th>dmin</th>\n",
       "      <th>hmdy</th>\n",
       "      <th>hmax</th>\n",
       "      <th>hmin</th>\n",
       "      <th>wdsp</th>\n",
       "      <th>wdct</th>\n",
       "      <th>gust</th>\n",
       "    </tr>\n",
       "  </thead>\n",
       "  <tbody>\n",
       "    <tr>\n",
       "      <td>0</td>\n",
       "      <td>178</td>\n",
       "      <td>SÃO GONÇALO</td>\n",
       "      <td>237.0</td>\n",
       "      <td>-6.835777</td>\n",
       "      <td>-38.311583</td>\n",
       "      <td>A333</td>\n",
       "      <td>São Gonçalo</td>\n",
       "      <td>RJ</td>\n",
       "      <td>2007-11-06 00:00:00</td>\n",
       "      <td>2007-11-06</td>\n",
       "      <td>...</td>\n",
       "      <td>29.7</td>\n",
       "      <td>16.8</td>\n",
       "      <td>25.5</td>\n",
       "      <td>10.8</td>\n",
       "      <td>35.0</td>\n",
       "      <td>58.0</td>\n",
       "      <td>32.0</td>\n",
       "      <td>3.2</td>\n",
       "      <td>101.0</td>\n",
       "      <td>6.5</td>\n",
       "    </tr>\n",
       "    <tr>\n",
       "      <td>1</td>\n",
       "      <td>178</td>\n",
       "      <td>SÃO GONÇALO</td>\n",
       "      <td>237.0</td>\n",
       "      <td>-6.835777</td>\n",
       "      <td>-38.311583</td>\n",
       "      <td>A333</td>\n",
       "      <td>São Gonçalo</td>\n",
       "      <td>RJ</td>\n",
       "      <td>2007-11-06 01:00:00</td>\n",
       "      <td>2007-11-06</td>\n",
       "      <td>...</td>\n",
       "      <td>29.9</td>\n",
       "      <td>13.6</td>\n",
       "      <td>29.0</td>\n",
       "      <td>12.2</td>\n",
       "      <td>39.0</td>\n",
       "      <td>39.0</td>\n",
       "      <td>35.0</td>\n",
       "      <td>3.6</td>\n",
       "      <td>94.0</td>\n",
       "      <td>6.4</td>\n",
       "    </tr>\n",
       "    <tr>\n",
       "      <td>2</td>\n",
       "      <td>178</td>\n",
       "      <td>SÃO GONÇALO</td>\n",
       "      <td>237.0</td>\n",
       "      <td>-6.835777</td>\n",
       "      <td>-38.311583</td>\n",
       "      <td>A333</td>\n",
       "      <td>São Gonçalo</td>\n",
       "      <td>RJ</td>\n",
       "      <td>2007-11-06 02:00:00</td>\n",
       "      <td>2007-11-06</td>\n",
       "      <td>...</td>\n",
       "      <td>29.0</td>\n",
       "      <td>14.0</td>\n",
       "      <td>27.4</td>\n",
       "      <td>13.6</td>\n",
       "      <td>44.0</td>\n",
       "      <td>44.0</td>\n",
       "      <td>39.0</td>\n",
       "      <td>2.5</td>\n",
       "      <td>93.0</td>\n",
       "      <td>6.9</td>\n",
       "    </tr>\n",
       "    <tr>\n",
       "      <td>3</td>\n",
       "      <td>178</td>\n",
       "      <td>SÃO GONÇALO</td>\n",
       "      <td>237.0</td>\n",
       "      <td>-6.835777</td>\n",
       "      <td>-38.311583</td>\n",
       "      <td>A333</td>\n",
       "      <td>São Gonçalo</td>\n",
       "      <td>RJ</td>\n",
       "      <td>2007-11-06 03:00:00</td>\n",
       "      <td>2007-11-06</td>\n",
       "      <td>...</td>\n",
       "      <td>27.4</td>\n",
       "      <td>16.9</td>\n",
       "      <td>25.8</td>\n",
       "      <td>14.1</td>\n",
       "      <td>58.0</td>\n",
       "      <td>58.0</td>\n",
       "      <td>44.0</td>\n",
       "      <td>1.7</td>\n",
       "      <td>96.0</td>\n",
       "      <td>5.8</td>\n",
       "    </tr>\n",
       "    <tr>\n",
       "      <td>4</td>\n",
       "      <td>178</td>\n",
       "      <td>SÃO GONÇALO</td>\n",
       "      <td>237.0</td>\n",
       "      <td>-6.835777</td>\n",
       "      <td>-38.311583</td>\n",
       "      <td>A333</td>\n",
       "      <td>São Gonçalo</td>\n",
       "      <td>RJ</td>\n",
       "      <td>2007-11-06 04:00:00</td>\n",
       "      <td>2007-11-06</td>\n",
       "      <td>...</td>\n",
       "      <td>26.3</td>\n",
       "      <td>17.0</td>\n",
       "      <td>25.3</td>\n",
       "      <td>16.4</td>\n",
       "      <td>57.0</td>\n",
       "      <td>58.0</td>\n",
       "      <td>56.0</td>\n",
       "      <td>3.1</td>\n",
       "      <td>110.0</td>\n",
       "      <td>7.5</td>\n",
       "    </tr>\n",
       "  </tbody>\n",
       "</table>\n",
       "<p>5 rows × 31 columns</p>\n",
       "</div>"
      ],
      "text/plain": [
       "   wsid         wsnm   elvt       lat        lon  inme         city prov  \\\n",
       "0   178  SÃO GONÇALO  237.0 -6.835777 -38.311583  A333  São Gonçalo   RJ   \n",
       "1   178  SÃO GONÇALO  237.0 -6.835777 -38.311583  A333  São Gonçalo   RJ   \n",
       "2   178  SÃO GONÇALO  237.0 -6.835777 -38.311583  A333  São Gonçalo   RJ   \n",
       "3   178  SÃO GONÇALO  237.0 -6.835777 -38.311583  A333  São Gonçalo   RJ   \n",
       "4   178  SÃO GONÇALO  237.0 -6.835777 -38.311583  A333  São Gonçalo   RJ   \n",
       "\n",
       "                  mdct        date  ...  tmax  dmax  tmin  dmin  hmdy  hmax  \\\n",
       "0  2007-11-06 00:00:00  2007-11-06  ...  29.7  16.8  25.5  10.8  35.0  58.0   \n",
       "1  2007-11-06 01:00:00  2007-11-06  ...  29.9  13.6  29.0  12.2  39.0  39.0   \n",
       "2  2007-11-06 02:00:00  2007-11-06  ...  29.0  14.0  27.4  13.6  44.0  44.0   \n",
       "3  2007-11-06 03:00:00  2007-11-06  ...  27.4  16.9  25.8  14.1  58.0  58.0   \n",
       "4  2007-11-06 04:00:00  2007-11-06  ...  26.3  17.0  25.3  16.4  57.0  58.0   \n",
       "\n",
       "   hmin  wdsp   wdct  gust  \n",
       "0  32.0   3.2  101.0   6.5  \n",
       "1  35.0   3.6   94.0   6.4  \n",
       "2  39.0   2.5   93.0   6.9  \n",
       "3  44.0   1.7   96.0   5.8  \n",
       "4  56.0   3.1  110.0   7.5  \n",
       "\n",
       "[5 rows x 31 columns]"
      ]
     },
     "execution_count": 86,
     "metadata": {},
     "output_type": "execute_result"
    }
   ],
   "source": [
    "%matplotlib inline\n",
    "import numpy as np\n",
    "import pandas as pd\n",
    "from sklearn import linear_model\n",
    "import matplotlib.pyplot\n",
    "import matplotlib.pyplot as plt\n",
    "import seaborn as sns\n",
    "import os\n",
    "\n",
    "df_weather = pd.read_csv('sudeste.csv',sep=',')\n",
    "df_weather.head()"
   ]
  },
  {
   "cell_type": "code",
   "execution_count": 87,
   "metadata": {},
   "outputs": [
    {
     "data": {
      "text/plain": [
       "(977917, 31)"
      ]
     },
     "execution_count": 87,
     "metadata": {},
     "output_type": "execute_result"
    }
   ],
   "source": [
    "# Randomly sample 10% of your dataframe\n",
    "df_w = df_weather.sample(frac=0.1)\n",
    "df_w.shape"
   ]
  },
  {
   "cell_type": "code",
   "execution_count": 88,
   "metadata": {},
   "outputs": [],
   "source": [
    "# Checking for any Missing Values In the Data Set is a pre-processing step to applying Linear regression on to our data set. "
   ]
  },
  {
   "cell_type": "markdown",
   "metadata": {},
   "source": [
    "##### Find all the NAN values withing the dataset"
   ]
  },
  {
   "cell_type": "code",
   "execution_count": 89,
   "metadata": {},
   "outputs": [
    {
     "data": {
      "text/plain": [
       "wsid         0\n",
       "wsnm         0\n",
       "elvt         0\n",
       "lat          0\n",
       "lon          0\n",
       "inme         0\n",
       "city         0\n",
       "prov         0\n",
       "mdct         0\n",
       "date         0\n",
       "yr           0\n",
       "mo           0\n",
       "da           0\n",
       "hr           0\n",
       "prcp    836643\n",
       "stp          0\n",
       "smax         0\n",
       "smin         0\n",
       "gbrd    411831\n",
       "temp         5\n",
       "dewp        51\n",
       "tmax         1\n",
       "dmax        28\n",
       "tmin         4\n",
       "dmin        84\n",
       "hmdy         0\n",
       "hmax         0\n",
       "hmin         2\n",
       "wdsp     92691\n",
       "wdct         0\n",
       "gust     31587\n",
       "dtype: int64"
      ]
     },
     "execution_count": 89,
     "metadata": {},
     "output_type": "execute_result"
    }
   ],
   "source": [
    "#Find all the NAN values withing the dataset PRCP, GBRD, TMAX, DMAX, TMIN, DMIN, TEMO, WDSP, GUST, HMIN all columns that include some NAN values \n",
    "df_w.isna().sum()"
   ]
  },
  {
   "cell_type": "markdown",
   "metadata": {},
   "source": [
    "##### Set the follwoing NAN values found in the columns below to the columns mean"
   ]
  },
  {
   "cell_type": "code",
   "execution_count": 90,
   "metadata": {},
   "outputs": [
    {
     "data": {
      "text/plain": [
       "wsid     0\n",
       "wsnm     0\n",
       "elvt     0\n",
       "lat      0\n",
       "lon      0\n",
       "inme     0\n",
       "city     0\n",
       "prov     0\n",
       "mdct     0\n",
       "date     0\n",
       "yr       0\n",
       "mo       0\n",
       "da       0\n",
       "hr       0\n",
       "prcp     0\n",
       "stp      0\n",
       "smax     0\n",
       "smin     0\n",
       "gbrd     0\n",
       "temp     0\n",
       "dewp    51\n",
       "tmax     0\n",
       "dmax    28\n",
       "tmin     0\n",
       "dmin    84\n",
       "hmdy     0\n",
       "hmax     0\n",
       "hmin     2\n",
       "wdsp     0\n",
       "wdct     0\n",
       "gust     0\n",
       "dtype: int64"
      ]
     },
     "execution_count": 90,
     "metadata": {},
     "output_type": "execute_result"
    }
   ],
   "source": [
    "# Set the follwoing NAN values found in the columns below to the columns mean\n",
    "# And we need to replace NaN values with mean values of each column:\n",
    "df_w['prcp'] = df_w['prcp'].fillna(df_w['prcp'].mean())\n",
    "df_w['gbrd'] = df_w['gbrd'].fillna(df_w['gbrd'].mean())\n",
    "df_w['tmin'] = df_w['tmin'].fillna(df_w['tmin'].mean())\n",
    "df_w['tmax'] = df_w['tmax'].fillna(df_w['tmax'].mean())\n",
    "df_w['temp'] = df_w['temp'].fillna(df_w['temp'].mean())\n",
    "df_w['gust'] = df_w['gust'].fillna(df_w['gust'].mean())\n",
    "df_w['wdsp'] = df_w['wdsp'].fillna(df_w['wdsp'].mean())\n",
    "\n",
    "df_w.isna().sum()"
   ]
  },
  {
   "cell_type": "markdown",
   "metadata": {},
   "source": [
    "##### Dropping columns that are unecessary to our predictions"
   ]
  },
  {
   "cell_type": "code",
   "execution_count": 91,
   "metadata": {},
   "outputs": [
    {
     "data": {
      "text/plain": [
       "(977917, 12)"
      ]
     },
     "execution_count": 91,
     "metadata": {},
     "output_type": "execute_result"
    }
   ],
   "source": [
    "# Dropping attributes with very little correlation\n",
    "df_w = df_w.drop(['elvt','lat','lon','inme','inme','mdct','dewp','dmax','dmin','wdct','prov','stp','smin','smax','city','da','hr','gbrd','hmin','hmax',],axis=1)\n",
    "df_w.shape"
   ]
  },
  {
   "cell_type": "markdown",
   "metadata": {},
   "source": [
    "Output the result if any NAN values"
   ]
  },
  {
   "cell_type": "code",
   "execution_count": 92,
   "metadata": {},
   "outputs": [
    {
     "data": {
      "text/plain": [
       "wsid    False\n",
       "wsnm    False\n",
       "date    False\n",
       "yr      False\n",
       "mo      False\n",
       "prcp    False\n",
       "temp    False\n",
       "tmax    False\n",
       "tmin    False\n",
       "hmdy    False\n",
       "wdsp    False\n",
       "gust    False\n",
       "dtype: bool"
      ]
     },
     "execution_count": 92,
     "metadata": {},
     "output_type": "execute_result"
    }
   ],
   "source": [
    "#check for any null values false means there are none to be found in the dataset\n",
    "df_w.isnull().any()"
   ]
  },
  {
   "cell_type": "markdown",
   "metadata": {},
   "source": [
    "Temperature - the measure of warmth or coldness\n",
    "\n",
    "Humidity - the amount of moisture in the atmosphere\n",
    "\n",
    "Precipitation - the amount of moisture (usually rain or snow) which falls on the ground\n",
    "\n",
    "Wind Speed -  the speed at which air flows through the environment\n",
    "\n",
    "Pressure - the force the atmosphere applies on the environment"
   ]
  },
  {
   "cell_type": "markdown",
   "metadata": {},
   "source": [
    "### Clean Data Analysis before Linear Regression model applied."
   ]
  },
  {
   "cell_type": "markdown",
   "metadata": {},
   "source": [
    "#### Analyzig Data and choosing a weather station from wsid attribute to visualize a year worth of rain precipitation for that station"
   ]
  },
  {
   "cell_type": "code",
   "execution_count": 93,
   "metadata": {},
   "outputs": [
    {
     "data": {
      "text/plain": [
       "<matplotlib.axes._subplots.AxesSubplot at 0x1e9d6ff2ac8>"
      ]
     },
     "execution_count": 93,
     "metadata": {},
     "output_type": "execute_result"
    },
    {
     "data": {
      "image/png": "[encoded data removed]",
      "text/plain": [
       "<Figure size 432x288 with 1 Axes>"
      ]
     },
     "metadata": {
      "needs_background": "light"
     },
     "output_type": "display_data"
    }
   ],
   "source": [
    "station = df_w['wsid'] == 371\n",
    "station_name = df_w[station]\n",
    "station_name_year = station_name.tail(224)\n",
    "\n",
    "station_rain = station_name_year[['mo','prcp']].fillna(0)\n",
    "\n",
    "total_rainfall = station_rain.groupby('mo').sum().reset_index()\n",
    "average_rainfall = station_rain.groupby('mo').mean().reset_index()\n",
    "\n",
    "\n",
    "average_rainfall.plot( x='mo', y='prcp', kind='bar')"
   ]
  },
  {
   "cell_type": "markdown",
   "metadata": {},
   "source": [
    "#### Seaborn plot for better visualization of average rain precipitaiton"
   ]
  },
  {
   "cell_type": "code",
   "execution_count": 94,
   "metadata": {},
   "outputs": [
    {
     "data": {
      "text/plain": [
       "<matplotlib.axes._subplots.AxesSubplot at 0x1ea1836f3c8>"
      ]
     },
     "execution_count": 94,
     "metadata": {},
     "output_type": "execute_result"
    },
    {
     "data": {
      "image/png": "[encoded data removed]",
      "text/plain": [
       "<Figure size 432x288 with 1 Axes>"
      ]
     },
     "metadata": {
      "needs_background": "light"
     },
     "output_type": "display_data"
    }
   ],
   "source": [
    "sns.barplot(x=average_rainfall.mo, y=average_rainfall.prcp)"
   ]
  },
  {
   "cell_type": "markdown",
   "metadata": {},
   "source": [
    "Plot graph of entire data set 'tmin' and 'tmax' which entails the minimum temperature recorded and maximum temperatures recorded."
   ]
  },
  {
   "cell_type": "code",
   "execution_count": 95,
   "metadata": {
    "scrolled": true
   },
   "outputs": [
    {
     "data": {
      "image/png": "[encoded data removed]",
      "text/plain": [
       "<Figure size 432x288 with 1 Axes>"
      ]
     },
     "metadata": {
      "needs_background": "light"
     },
     "output_type": "display_data"
    }
   ],
   "source": [
    "\n",
    "df_w.plot(x='tmin', y='tmax', style='o')  \n",
    "plt.title('MinTemp vs MaxTemp')\n",
    "plt.xlabel('MinTemp')  \n",
    "plt.ylabel('MaxTemp')  \n",
    "plt.show()"
   ]
  },
  {
   "cell_type": "markdown",
   "metadata": {},
   "source": [
    "#### Average Maximum Temperature is Between 20 and 30 degrees celsius based on the distrubution graph below.\n",
    "Allows us to determine visually the highest recording of temperature across dataset."
   ]
  },
  {
   "cell_type": "code",
   "execution_count": 96,
   "metadata": {},
   "outputs": [
    {
     "data": {
      "text/plain": [
       "<matplotlib.axes._subplots.AxesSubplot at 0x1e9d70bf388>"
      ]
     },
     "execution_count": 96,
     "metadata": {},
     "output_type": "execute_result"
    },
    {
     "data": {
      "image/png": "[encoded data removed]",
      "text/plain": [
       "<Figure size 1080x720 with 1 Axes>"
      ]
     },
     "metadata": {
      "needs_background": "light"
     },
     "output_type": "display_data"
    }
   ],
   "source": [
    "import seaborn as seabornInstance \n",
    "\n",
    "plt.figure(figsize=(15,10))\n",
    "plt.tight_layout()\n",
    "seabornInstance.distplot(df_w['tmax'])\n"
   ]
  },
  {
   "cell_type": "markdown",
   "metadata": {},
   "source": [
    "#### #Average Minimum Temperature is Between 20 and 30 degrees celsius based on the distrubution graph below.\n",
    "Allows us to determine visually the highest recording of temperature across dataset."
   ]
  },
  {
   "cell_type": "code",
   "execution_count": 97,
   "metadata": {
    "scrolled": true
   },
   "outputs": [
    {
     "data": {
      "text/plain": [
       "<matplotlib.axes._subplots.AxesSubplot at 0x1e9d6f7cbc8>"
      ]
     },
     "execution_count": 97,
     "metadata": {},
     "output_type": "execute_result"
    },
    {
     "data": {
      "image/png": "[encoded data removed]",
      "text/plain": [
       "<Figure size 1080x720 with 1 Axes>"
      ]
     },
     "metadata": {
      "needs_background": "light"
     },
     "output_type": "display_data"
    }
   ],
   "source": [
    "import seaborn as seabornInstance \n",
    "df_w['tmin'] = df_w['tmin'].fillna(df_w['tmin'].mean())\n",
    "plt.figure(figsize=(15,10))\n",
    "plt.tight_layout()\n",
    "seabornInstance.distplot(df_w['tmin'])"
   ]
  },
  {
   "cell_type": "markdown",
   "metadata": {},
   "source": [
    "###### a summarized collection of total weather stations in our dataset. A total of 122 weather station Id's"
   ]
  },
  {
   "cell_type": "code",
   "execution_count": 98,
   "metadata": {},
   "outputs": [
    {
     "name": "stdout",
     "output_type": "stream",
     "text": [
      "Total Number of Weather Stations: 122\n"
     ]
    },
    {
     "data": {
      "text/plain": [
       "array([347, 384, 336, 358, 312, 421, 341, 419, 315, 399, 310, 351, 345,\n",
       "       316, 401, 410, 313, 330, 378, 361, 379, 418, 334, 397, 327, 305,\n",
       "       324, 303, 329, 321, 393, 402, 359, 318, 398, 376, 340, 309, 360,\n",
       "       411, 406, 353, 392, 417, 364, 380, 355, 346, 394, 389, 388, 317,\n",
       "       319, 335, 354, 382, 306, 385, 332, 395, 412, 400, 414, 311, 349,\n",
       "       348, 322, 350, 339, 371, 381, 416, 413, 420, 403, 383, 370, 320,\n",
       "       343, 405, 331, 328, 373, 326, 333, 363, 338, 325, 365, 308, 337,\n",
       "       314, 356, 372, 377, 374, 367, 362, 357, 352, 408, 375, 344, 323,\n",
       "       307, 407, 404, 396, 415, 422, 409, 178, 366, 342, 390, 304, 423,\n",
       "       386, 368, 391, 369, 387], dtype=int64)"
      ]
     },
     "execution_count": 98,
     "metadata": {},
     "output_type": "execute_result"
    }
   ],
   "source": [
    "#total station weather station id's\n",
    "station = df_w['wsid'].unique()\n",
    "station_name = station.size\n",
    "print('Total Number of Weather Stations: ' + str(station_name))\n",
    "station"
   ]
  },
  {
   "cell_type": "markdown",
   "metadata": {},
   "source": [
    "###### Determing a weather station with high records."
   ]
  },
  {
   "cell_type": "markdown",
   "metadata": {},
   "source": [
    "using the value_counts() method we are allowed to see the number of records each weather station id holds. \n",
    "The stations with the lowest records do not hold consistent monthly temperature or precipitation. Which entails that sepcific\n",
    "station was not in service at the time. Therefore proven to be unuseful for our modeling. Therefore we will use a weather station \n",
    "that holds more records and can allow us to have close to accurate modeling results for linear regression"
   ]
  },
  {
   "cell_type": "code",
   "execution_count": 99,
   "metadata": {},
   "outputs": [
    {
     "data": {
      "text/plain": [
       "371    14279\n",
       "393    13182\n",
       "394    12898\n",
       "312    12294\n",
       "372    12262\n",
       "       ...  \n",
       "391      949\n",
       "386      305\n",
       "387      269\n",
       "369      252\n",
       "366      252\n",
       "Name: wsid, Length: 122, dtype: int64"
      ]
     },
     "execution_count": 99,
     "metadata": {},
     "output_type": "execute_result"
    }
   ],
   "source": [
    "df_w['wsid'].value_counts()"
   ]
  },
  {
   "cell_type": "markdown",
   "metadata": {},
   "source": [
    "### choosing one weather station to predict its temperature records "
   ]
  },
  {
   "cell_type": "markdown",
   "metadata": {},
   "source": [
    "weather station id wsid = 371 holds 14327 records meaning its operation as a station is a ideal model for applying regresssion."
   ]
  },
  {
   "cell_type": "code",
   "execution_count": 100,
   "metadata": {},
   "outputs": [],
   "source": [
    "#choosing one weather station to predict its temperature.\n",
    "weatherstationdf = df_w[df_w['wsid']==371]"
   ]
  },
  {
   "cell_type": "code",
   "execution_count": 101,
   "metadata": {},
   "outputs": [
    {
     "data": {
      "text/html": [
       "<div>\n",
       "<style scoped>\n",
       "    .dataframe tbody tr th:only-of-type {\n",
       "        vertical-align: middle;\n",
       "    }\n",
       "\n",
       "    .dataframe tbody tr th {\n",
       "        vertical-align: top;\n",
       "    }\n",
       "\n",
       "    .dataframe thead th {\n",
       "        text-align: right;\n",
       "    }\n",
       "</style>\n",
       "<table border=\"1\" class=\"dataframe\">\n",
       "  <thead>\n",
       "    <tr style=\"text-align: right;\">\n",
       "      <th></th>\n",
       "      <th>wsid</th>\n",
       "      <th>wsnm</th>\n",
       "      <th>date</th>\n",
       "      <th>yr</th>\n",
       "      <th>mo</th>\n",
       "      <th>prcp</th>\n",
       "      <th>temp</th>\n",
       "      <th>tmax</th>\n",
       "      <th>tmin</th>\n",
       "      <th>hmdy</th>\n",
       "      <th>wdsp</th>\n",
       "      <th>gust</th>\n",
       "    </tr>\n",
       "  </thead>\n",
       "  <tbody>\n",
       "    <tr>\n",
       "      <td>5523969</td>\n",
       "      <td>371</td>\n",
       "      <td>ECOLOGIA AGRÍCOLA</td>\n",
       "      <td>2003-11-29</td>\n",
       "      <td>2003</td>\n",
       "      <td>11</td>\n",
       "      <td>5.600000</td>\n",
       "      <td>23.5</td>\n",
       "      <td>23.5</td>\n",
       "      <td>23.3</td>\n",
       "      <td>94.0</td>\n",
       "      <td>0.9</td>\n",
       "      <td>3.2</td>\n",
       "    </tr>\n",
       "    <tr>\n",
       "      <td>5500388</td>\n",
       "      <td>371</td>\n",
       "      <td>ECOLOGIA AGRÍCOLA</td>\n",
       "      <td>2001-03-21</td>\n",
       "      <td>2001</td>\n",
       "      <td>3</td>\n",
       "      <td>0.930511</td>\n",
       "      <td>27.4</td>\n",
       "      <td>27.4</td>\n",
       "      <td>25.8</td>\n",
       "      <td>71.0</td>\n",
       "      <td>2.6</td>\n",
       "      <td>5.0</td>\n",
       "    </tr>\n",
       "    <tr>\n",
       "      <td>5552994</td>\n",
       "      <td>371</td>\n",
       "      <td>ECOLOGIA AGRÍCOLA</td>\n",
       "      <td>2007-03-22</td>\n",
       "      <td>2007</td>\n",
       "      <td>3</td>\n",
       "      <td>0.930511</td>\n",
       "      <td>22.9</td>\n",
       "      <td>22.9</td>\n",
       "      <td>22.1</td>\n",
       "      <td>84.0</td>\n",
       "      <td>1.3</td>\n",
       "      <td>2.6</td>\n",
       "    </tr>\n",
       "    <tr>\n",
       "      <td>5634296</td>\n",
       "      <td>371</td>\n",
       "      <td>ECOLOGIA AGRÍCOLA</td>\n",
       "      <td>2016-06-30</td>\n",
       "      <td>2016</td>\n",
       "      <td>6</td>\n",
       "      <td>0.930511</td>\n",
       "      <td>17.2</td>\n",
       "      <td>18.7</td>\n",
       "      <td>17.2</td>\n",
       "      <td>97.0</td>\n",
       "      <td>0.1</td>\n",
       "      <td>1.2</td>\n",
       "    </tr>\n",
       "    <tr>\n",
       "      <td>5547991</td>\n",
       "      <td>371</td>\n",
       "      <td>ECOLOGIA AGRÍCOLA</td>\n",
       "      <td>2006-08-25</td>\n",
       "      <td>2006</td>\n",
       "      <td>8</td>\n",
       "      <td>0.930511</td>\n",
       "      <td>20.8</td>\n",
       "      <td>22.5</td>\n",
       "      <td>20.7</td>\n",
       "      <td>90.0</td>\n",
       "      <td>0.1</td>\n",
       "      <td>2.5</td>\n",
       "    </tr>\n",
       "    <tr>\n",
       "      <td>5611203</td>\n",
       "      <td>371</td>\n",
       "      <td>ECOLOGIA AGRÍCOLA</td>\n",
       "      <td>2013-11-10</td>\n",
       "      <td>2013</td>\n",
       "      <td>11</td>\n",
       "      <td>0.930511</td>\n",
       "      <td>26.9</td>\n",
       "      <td>28.1</td>\n",
       "      <td>26.7</td>\n",
       "      <td>73.0</td>\n",
       "      <td>7.0</td>\n",
       "      <td>11.7</td>\n",
       "    </tr>\n",
       "    <tr>\n",
       "      <td>5537647</td>\n",
       "      <td>371</td>\n",
       "      <td>ECOLOGIA AGRÍCOLA</td>\n",
       "      <td>2005-06-20</td>\n",
       "      <td>2005</td>\n",
       "      <td>6</td>\n",
       "      <td>0.930511</td>\n",
       "      <td>19.7</td>\n",
       "      <td>19.9</td>\n",
       "      <td>19.7</td>\n",
       "      <td>98.0</td>\n",
       "      <td>0.8</td>\n",
       "      <td>2.4</td>\n",
       "    </tr>\n",
       "    <tr>\n",
       "      <td>5540926</td>\n",
       "      <td>371</td>\n",
       "      <td>ECOLOGIA AGRÍCOLA</td>\n",
       "      <td>2005-11-04</td>\n",
       "      <td>2005</td>\n",
       "      <td>11</td>\n",
       "      <td>0.000000</td>\n",
       "      <td>0.0</td>\n",
       "      <td>0.0</td>\n",
       "      <td>0.0</td>\n",
       "      <td>0.0</td>\n",
       "      <td>0.0</td>\n",
       "      <td>0.0</td>\n",
       "    </tr>\n",
       "    <tr>\n",
       "      <td>5604787</td>\n",
       "      <td>371</td>\n",
       "      <td>ECOLOGIA AGRÍCOLA</td>\n",
       "      <td>2013-02-16</td>\n",
       "      <td>2013</td>\n",
       "      <td>2</td>\n",
       "      <td>0.930511</td>\n",
       "      <td>29.0</td>\n",
       "      <td>29.1</td>\n",
       "      <td>26.9</td>\n",
       "      <td>70.0</td>\n",
       "      <td>2.4</td>\n",
       "      <td>6.1</td>\n",
       "    </tr>\n",
       "    <tr>\n",
       "      <td>5511982</td>\n",
       "      <td>371</td>\n",
       "      <td>ECOLOGIA AGRÍCOLA</td>\n",
       "      <td>2002-07-17</td>\n",
       "      <td>2002</td>\n",
       "      <td>7</td>\n",
       "      <td>0.930511</td>\n",
       "      <td>21.6</td>\n",
       "      <td>21.7</td>\n",
       "      <td>20.9</td>\n",
       "      <td>74.0</td>\n",
       "      <td>5.6</td>\n",
       "      <td>9.3</td>\n",
       "    </tr>\n",
       "  </tbody>\n",
       "</table>\n",
       "</div>"
      ],
      "text/plain": [
       "         wsid               wsnm        date    yr  mo      prcp  temp  tmax  \\\n",
       "5523969   371  ECOLOGIA AGRÍCOLA  2003-11-29  2003  11  5.600000  23.5  23.5   \n",
       "5500388   371  ECOLOGIA AGRÍCOLA  2001-03-21  2001   3  0.930511  27.4  27.4   \n",
       "5552994   371  ECOLOGIA AGRÍCOLA  2007-03-22  2007   3  0.930511  22.9  22.9   \n",
       "5634296   371  ECOLOGIA AGRÍCOLA  2016-06-30  2016   6  0.930511  17.2  18.7   \n",
       "5547991   371  ECOLOGIA AGRÍCOLA  2006-08-25  2006   8  0.930511  20.8  22.5   \n",
       "5611203   371  ECOLOGIA AGRÍCOLA  2013-11-10  2013  11  0.930511  26.9  28.1   \n",
       "5537647   371  ECOLOGIA AGRÍCOLA  2005-06-20  2005   6  0.930511  19.7  19.9   \n",
       "5540926   371  ECOLOGIA AGRÍCOLA  2005-11-04  2005  11  0.000000   0.0   0.0   \n",
       "5604787   371  ECOLOGIA AGRÍCOLA  2013-02-16  2013   2  0.930511  29.0  29.1   \n",
       "5511982   371  ECOLOGIA AGRÍCOLA  2002-07-17  2002   7  0.930511  21.6  21.7   \n",
       "\n",
       "         tmin  hmdy  wdsp  gust  \n",
       "5523969  23.3  94.0   0.9   3.2  \n",
       "5500388  25.8  71.0   2.6   5.0  \n",
       "5552994  22.1  84.0   1.3   2.6  \n",
       "5634296  17.2  97.0   0.1   1.2  \n",
       "5547991  20.7  90.0   0.1   2.5  \n",
       "5611203  26.7  73.0   7.0  11.7  \n",
       "5537647  19.7  98.0   0.8   2.4  \n",
       "5540926   0.0   0.0   0.0   0.0  \n",
       "5604787  26.9  70.0   2.4   6.1  \n",
       "5511982  20.9  74.0   5.6   9.3  "
      ]
     },
     "execution_count": 101,
     "metadata": {},
     "output_type": "execute_result"
    }
   ],
   "source": [
    "weatherstationdf.head(10)"
   ]
  },
  {
   "cell_type": "markdown",
   "metadata": {},
   "source": [
    "###### Correlation amoungst the attributes for the selected weather station records. "
   ]
  },
  {
   "cell_type": "markdown",
   "metadata": {},
   "source": [
    ".corr() allows us to gain some insight on the correlation patterns amouogst all attributes. we can see those with a 0.8 or higher \n",
    "correlate greatlty. Our data determines temp, tmin, tmax have higher correlation. "
   ]
  },
  {
   "cell_type": "code",
   "execution_count": 102,
   "metadata": {},
   "outputs": [
    {
     "data": {
      "text/plain": [
       "<matplotlib.axes._subplots.AxesSubplot at 0x1e9d6ba8d08>"
      ]
     },
     "execution_count": 102,
     "metadata": {},
     "output_type": "execute_result"
    },
    {
     "data": {
      "image/png": "[encoded data removed]",
      "text/plain": [
       "<Figure size 864x864 with 2 Axes>"
      ]
     },
     "metadata": {
      "needs_background": "light"
     },
     "output_type": "display_data"
    }
   ],
   "source": [
    "plt.figure(figsize=(12,12))\n",
    "sns.color_palette(\"BuGn_r\")\n",
    "\n",
    "sns.heatmap(weatherstationdf.corr(), annot = True)"
   ]
  },
  {
   "cell_type": "markdown",
   "metadata": {},
   "source": [
    " We want to predict the Maximum Temperature dependent from the Minimum Temperature records. Therfore our \"tmin\" column will \n",
    " be selected as our X variable and \"tmax\" will be choosen as our y variable. "
   ]
  },
  {
   "cell_type": "code",
   "execution_count": 103,
   "metadata": {},
   "outputs": [],
   "source": [
    "X = weatherstationdf['tmin'].values.reshape(-1,1)\n",
    "y = weatherstationdf['tmax'].values.reshape(-1,1)"
   ]
  },
  {
   "cell_type": "markdown",
   "metadata": {},
   "source": [
    "###### Splitting data for Training and Testing "
   ]
  },
  {
   "cell_type": "markdown",
   "metadata": {},
   "source": [
    "Next, we split 80% of the data as our training data and the other 20% of the data to be used as our test data set.\n",
    "The test_size variable is the selected proportion in our case we will use 0.2 for 20%. "
   ]
  },
  {
   "cell_type": "code",
   "execution_count": 104,
   "metadata": {},
   "outputs": [
    {
     "data": {
      "text/plain": [
       "LinearRegression(copy_X=True, fit_intercept=True, n_jobs=None, normalize=False)"
      ]
     },
     "execution_count": 104,
     "metadata": {},
     "output_type": "execute_result"
    }
   ],
   "source": [
    "from sklearn.model_selection import train_test_split \n",
    "from sklearn.linear_model import LinearRegression\n",
    "\n",
    "#train and test data for the selected weather station\n",
    "X_train, X_test, y_train, y_test = train_test_split(X, y, test_size=0.2, random_state=0)\n",
    "\n",
    "linear_reg = LinearRegression()  \n",
    "linear_reg.fit(X_train, y_train) "
   ]
  },
  {
   "cell_type": "markdown",
   "metadata": {},
   "source": [
    "#### Making prediction using our X_test containing tmin records for the selected staion id."
   ]
  },
  {
   "cell_type": "code",
   "execution_count": 105,
   "metadata": {},
   "outputs": [],
   "source": [
    "y_pred = linear_reg.predict(X_test)"
   ]
  },
  {
   "cell_type": "markdown",
   "metadata": {},
   "source": [
    "###### Our finding show for the predicteddf after applying a random sample of 5 to the data set very close prediction values to those of our original given dataset. "
   ]
  },
  {
   "cell_type": "code",
   "execution_count": 106,
   "metadata": {},
   "outputs": [
    {
     "data": {
      "text/html": [
       "<div>\n",
       "<style scoped>\n",
       "    .dataframe tbody tr th:only-of-type {\n",
       "        vertical-align: middle;\n",
       "    }\n",
       "\n",
       "    .dataframe tbody tr th {\n",
       "        vertical-align: top;\n",
       "    }\n",
       "\n",
       "    .dataframe thead th {\n",
       "        text-align: right;\n",
       "    }\n",
       "</style>\n",
       "<table border=\"1\" class=\"dataframe\">\n",
       "  <thead>\n",
       "    <tr style=\"text-align: right;\">\n",
       "      <th></th>\n",
       "      <th>Actual</th>\n",
       "      <th>Predicted</th>\n",
       "    </tr>\n",
       "  </thead>\n",
       "  <tbody>\n",
       "    <tr>\n",
       "      <td>2484</td>\n",
       "      <td>18.3</td>\n",
       "      <td>17.750191</td>\n",
       "    </tr>\n",
       "    <tr>\n",
       "      <td>1823</td>\n",
       "      <td>0.0</td>\n",
       "      <td>0.028595</td>\n",
       "    </tr>\n",
       "    <tr>\n",
       "      <td>918</td>\n",
       "      <td>25.1</td>\n",
       "      <td>24.146744</td>\n",
       "    </tr>\n",
       "    <tr>\n",
       "      <td>2836</td>\n",
       "      <td>16.3</td>\n",
       "      <td>16.806437</td>\n",
       "    </tr>\n",
       "    <tr>\n",
       "      <td>183</td>\n",
       "      <td>28.1</td>\n",
       "      <td>28.655789</td>\n",
       "    </tr>\n",
       "  </tbody>\n",
       "</table>\n",
       "</div>"
      ],
      "text/plain": [
       "      Actual  Predicted\n",
       "2484    18.3  17.750191\n",
       "1823     0.0   0.028595\n",
       "918     25.1  24.146744\n",
       "2836    16.3  16.806437\n",
       "183     28.1  28.655789"
      ]
     },
     "execution_count": 106,
     "metadata": {},
     "output_type": "execute_result"
    }
   ],
   "source": [
    "predicteddf = pd.DataFrame({'Actual': y_test.flatten(), 'Predicted': y_pred.flatten()})\n",
    "predicteddf.sample(5)"
   ]
  },
  {
   "cell_type": "markdown",
   "metadata": {},
   "source": [
    "#### Regression Analysis Visualization of our predictions\n",
    "using a bar gaph we can pin our predictions and orignal values side by side and determine most if not all predicted values. Were close to actual accurate prediction of tmax records."
   ]
  },
  {
   "cell_type": "code",
   "execution_count": 107,
   "metadata": {
    "scrolled": true
   },
   "outputs": [
    {
     "data": {
      "image/png": "[encoded data removed]",
      "text/plain": [
       "<Figure size 1152x720 with 1 Axes>"
      ]
     },
     "metadata": {
      "needs_background": "light"
     },
     "output_type": "display_data"
    }
   ],
   "source": [
    "plotresult = predicteddf.head(25)\n",
    "plotresult.plot(kind='bar',figsize=(16,10))\n",
    "plt.grid(which='major', linestyle='-', linewidth='0.5', color='green')\n",
    "plt.grid(which='minor', linestyle=':', linewidth='0.5', color='black')\n",
    "plt.show()"
   ]
  },
  {
   "cell_type": "code",
   "execution_count": 108,
   "metadata": {},
   "outputs": [
    {
     "data": {
      "image/png": "[encoded data removed]",
      "text/plain": [
       "<Figure size 432x288 with 1 Axes>"
      ]
     },
     "metadata": {
      "needs_background": "light"
     },
     "output_type": "display_data"
    }
   ],
   "source": [
    "plt.scatter(X_test, y_test, color = 'grey')\n",
    "plt.plot(X_test, y_pred, color='red', linewidth=2)\n",
    "plt.show()"
   ]
  },
  {
   "cell_type": "code",
   "execution_count": 109,
   "metadata": {},
   "outputs": [
    {
     "name": "stdout",
     "output_type": "stream",
     "text": [
      "Root mean squared error =  0.8546898274891934\n",
      "R-squared =  0.9884211847560831\n"
     ]
    },
    {
     "data": {
      "image/png": "[encoded data removed]",
      "text/plain": [
       "<Figure size 432x288 with 1 Axes>"
      ]
     },
     "metadata": {
      "needs_background": "light"
     },
     "output_type": "display_data"
    }
   ],
   "source": [
    "# Comparing true versus predicted values\n",
    "plt.scatter(y_test, y_pred, color='black')\n",
    "plt.title('Comparing true and predicted values for test set')\n",
    "plt.xlabel('True values for y')\n",
    "plt.ylabel('Predicted values for y')\n",
    "\n",
    "# Model evaluation\n",
    "print(\"Root mean squared error = \", np.sqrt(metrics.mean_squared_error(y_test, y_pred)))\n",
    "print(\"R-squared = \", metrics.r2_score(y_test, y_pred))"
   ]
  },
  {
   "cell_type": "code",
   "execution_count": 111,
   "metadata": {},
   "outputs": [
    {
     "data": {
      "image/png": "[encoded data removed]",
      "text/plain": [
       "<Figure size 432x288 with 1 Axes>"
      ]
     },
     "metadata": {
      "needs_background": "light"
     },
     "output_type": "display_data"
    }
   ],
   "source": [
    "# Regression chart.\n",
    "def chart_regression(pred,y,sort=True):\n",
    "    t = pd.DataFrame({'pred' : pred, 'y' : y.flatten()})\n",
    "    if sort:\n",
    "        t.sort_values(by=['y'],inplace=True)\n",
    "    a = plt.plot(t['y'].tolist(),label='expected')\n",
    "    b = plt.plot(t['pred'].tolist(),label='prediction')\n",
    "    plt.ylabel('output')\n",
    "    plt.legend()\n",
    "    plt.show()\n",
    "    \n",
    "    #Regression lift Chart\n",
    "chart_regression(y_pred.flatten(),y_test)"
   ]
  },
  {
   "cell_type": "markdown",
   "metadata": {},
   "source": [
    "Regression algorithms and three evaluation metrics "
   ]
  },
  {
   "cell_type": "markdown",
   "metadata": {},
   "source": [
    "###### Mean Absolute Error (MAE) \n",
    "\n",
    "###### Mean Squared Error (MSE)\n",
    "\n",
    "###### Root Mean Squared Error (RMSE)"
   ]
  },
  {
   "cell_type": "code",
   "execution_count": 112,
   "metadata": {},
   "outputs": [
    {
     "name": "stdout",
     "output_type": "stream",
     "text": [
      "Mean Absolute Error: 0.6008708017231362\n",
      "Mean Squared Error: 0.7304947012135072\n",
      "Root Mean Squared Error: 0.8546898274891934\n"
     ]
    }
   ],
   "source": [
    "from sklearn import metrics\n",
    "print('Mean Absolute Error:', metrics.mean_absolute_error(y_test, y_pred))  \n",
    "print('Mean Squared Error:', metrics.mean_squared_error(y_test, y_pred))  \n",
    "print('Root Mean Squared Error:', np.sqrt(metrics.mean_squared_error(y_test, y_pred)))"
   ]
  },
  {
   "cell_type": "markdown",
   "metadata": {},
   "source": [
    "## Continued Part A) Multiple Regression on weather dataset"
   ]
  },
  {
   "cell_type": "markdown",
   "metadata": {},
   "source": [
    "Applying Multiple Linear Regression: Using the data in previous assignment"
   ]
  },
  {
   "cell_type": "code",
   "execution_count": 113,
   "metadata": {},
   "outputs": [
    {
     "data": {
      "text/html": [
       "<div>\n",
       "<style scoped>\n",
       "    .dataframe tbody tr th:only-of-type {\n",
       "        vertical-align: middle;\n",
       "    }\n",
       "\n",
       "    .dataframe tbody tr th {\n",
       "        vertical-align: top;\n",
       "    }\n",
       "\n",
       "    .dataframe thead th {\n",
       "        text-align: right;\n",
       "    }\n",
       "</style>\n",
       "<table border=\"1\" class=\"dataframe\">\n",
       "  <thead>\n",
       "    <tr style=\"text-align: right;\">\n",
       "      <th></th>\n",
       "      <th>wsid</th>\n",
       "      <th>wsnm</th>\n",
       "      <th>date</th>\n",
       "      <th>yr</th>\n",
       "      <th>mo</th>\n",
       "      <th>prcp</th>\n",
       "      <th>temp</th>\n",
       "      <th>tmax</th>\n",
       "      <th>tmin</th>\n",
       "      <th>hmdy</th>\n",
       "      <th>wdsp</th>\n",
       "      <th>gust</th>\n",
       "    </tr>\n",
       "  </thead>\n",
       "  <tbody>\n",
       "    <tr>\n",
       "      <td>5523969</td>\n",
       "      <td>371</td>\n",
       "      <td>ECOLOGIA AGRÍCOLA</td>\n",
       "      <td>2003-11-29</td>\n",
       "      <td>2003</td>\n",
       "      <td>11</td>\n",
       "      <td>5.600000</td>\n",
       "      <td>23.5</td>\n",
       "      <td>23.5</td>\n",
       "      <td>23.3</td>\n",
       "      <td>94.0</td>\n",
       "      <td>0.9</td>\n",
       "      <td>3.2</td>\n",
       "    </tr>\n",
       "    <tr>\n",
       "      <td>5500388</td>\n",
       "      <td>371</td>\n",
       "      <td>ECOLOGIA AGRÍCOLA</td>\n",
       "      <td>2001-03-21</td>\n",
       "      <td>2001</td>\n",
       "      <td>3</td>\n",
       "      <td>0.930511</td>\n",
       "      <td>27.4</td>\n",
       "      <td>27.4</td>\n",
       "      <td>25.8</td>\n",
       "      <td>71.0</td>\n",
       "      <td>2.6</td>\n",
       "      <td>5.0</td>\n",
       "    </tr>\n",
       "  </tbody>\n",
       "</table>\n",
       "</div>"
      ],
      "text/plain": [
       "         wsid               wsnm        date    yr  mo      prcp  temp  tmax  \\\n",
       "5523969   371  ECOLOGIA AGRÍCOLA  2003-11-29  2003  11  5.600000  23.5  23.5   \n",
       "5500388   371  ECOLOGIA AGRÍCOLA  2001-03-21  2001   3  0.930511  27.4  27.4   \n",
       "\n",
       "         tmin  hmdy  wdsp  gust  \n",
       "5523969  23.3  94.0   0.9   3.2  \n",
       "5500388  25.8  71.0   2.6   5.0  "
      ]
     },
     "execution_count": 113,
     "metadata": {},
     "output_type": "execute_result"
    }
   ],
   "source": [
    "weatherstationdf.head(2)"
   ]
  },
  {
   "cell_type": "markdown",
   "metadata": {},
   "source": [
    "###### Detemring our X and Y values for Multiple Regression"
   ]
  },
  {
   "cell_type": "code",
   "execution_count": 114,
   "metadata": {},
   "outputs": [],
   "source": [
    "X_mr = weatherstationdf[['prcp', 'tmax', 'tmin', 'hmdy', 'wdsp','gust']].values\n",
    "y_mr = weatherstationdf['temp'].values"
   ]
  },
  {
   "cell_type": "markdown",
   "metadata": {},
   "source": [
    "Distibution plot graph to determing the average temperature intervals in our weather station data frame. This also demonstrated normalization in our data set."
   ]
  },
  {
   "cell_type": "code",
   "execution_count": 115,
   "metadata": {
    "scrolled": true
   },
   "outputs": [
    {
     "data": {
      "text/plain": [
       "<matplotlib.axes._subplots.AxesSubplot at 0x1e9d5e83848>"
      ]
     },
     "execution_count": 115,
     "metadata": {},
     "output_type": "execute_result"
    },
    {
     "data": {
      "image/png": "[encoded data removed]",
      "text/plain": [
       "<Figure size 1080x720 with 1 Axes>"
      ]
     },
     "metadata": {
      "needs_background": "light"
     },
     "output_type": "display_data"
    }
   ],
   "source": [
    "plt.figure(figsize=(15,10))\n",
    "plt.tight_layout()\n",
    "seabornInstance.distplot(weatherstationdf['temp'], color = 'darkgreen')"
   ]
  },
  {
   "cell_type": "markdown",
   "metadata": {},
   "source": [
    "### Splitting our data set in multi regression modeling "
   ]
  },
  {
   "cell_type": "markdown",
   "metadata": {},
   "source": [
    "Next, we split 80% of the data as our training data and the other 20% of the data to be used as our test data set.\n",
    "The test_size variable is the selected proportion in our case we will use 0.2 for 20%. "
   ]
  },
  {
   "cell_type": "code",
   "execution_count": 116,
   "metadata": {},
   "outputs": [],
   "source": [
    "X_train, X_test, y_train, y_test = train_test_split(X_mr, y_mr, test_size=0.2, random_state=0)"
   ]
  },
  {
   "cell_type": "markdown",
   "metadata": {},
   "source": [
    "###### Applying and Training our model for multiple regression"
   ]
  },
  {
   "cell_type": "code",
   "execution_count": 117,
   "metadata": {},
   "outputs": [
    {
     "data": {
      "text/plain": [
       "LinearRegression(copy_X=True, fit_intercept=True, n_jobs=None, normalize=False)"
      ]
     },
     "execution_count": 117,
     "metadata": {},
     "output_type": "execute_result"
    }
   ],
   "source": [
    "regression = LinearRegression()  \n",
    "regression.fit(X_train, y_train)"
   ]
  },
  {
   "cell_type": "code",
   "execution_count": 118,
   "metadata": {},
   "outputs": [
    {
     "data": {
      "text/html": [
       "<div>\n",
       "<style scoped>\n",
       "    .dataframe tbody tr th:only-of-type {\n",
       "        vertical-align: middle;\n",
       "    }\n",
       "\n",
       "    .dataframe tbody tr th {\n",
       "        vertical-align: top;\n",
       "    }\n",
       "\n",
       "    .dataframe thead th {\n",
       "        text-align: right;\n",
       "    }\n",
       "</style>\n",
       "<table border=\"1\" class=\"dataframe\">\n",
       "  <thead>\n",
       "    <tr style=\"text-align: right;\">\n",
       "      <th></th>\n",
       "      <th>Coefficient</th>\n",
       "    </tr>\n",
       "  </thead>\n",
       "  <tbody>\n",
       "    <tr>\n",
       "      <td>prcp</td>\n",
       "      <td>-0.002827</td>\n",
       "    </tr>\n",
       "    <tr>\n",
       "      <td>tmax</td>\n",
       "      <td>0.410919</td>\n",
       "    </tr>\n",
       "    <tr>\n",
       "      <td>tmin</td>\n",
       "      <td>0.579694</td>\n",
       "    </tr>\n",
       "    <tr>\n",
       "      <td>hmdy</td>\n",
       "      <td>-0.001664</td>\n",
       "    </tr>\n",
       "    <tr>\n",
       "      <td>wdsp</td>\n",
       "      <td>0.082111</td>\n",
       "    </tr>\n",
       "    <tr>\n",
       "      <td>gust</td>\n",
       "      <td>-0.040959</td>\n",
       "    </tr>\n",
       "  </tbody>\n",
       "</table>\n",
       "</div>"
      ],
      "text/plain": [
       "      Coefficient\n",
       "prcp    -0.002827\n",
       "tmax     0.410919\n",
       "tmin     0.579694\n",
       "hmdy    -0.001664\n",
       "wdsp     0.082111\n",
       "gust    -0.040959"
      ]
     },
     "execution_count": 118,
     "metadata": {},
     "output_type": "execute_result"
    }
   ],
   "source": [
    "coeff_df = pd.DataFrame(regression.coef_, ['prcp', 'tmax', 'tmin', 'hmdy', 'wdsp','gust'], columns=['Coefficient'])\n",
    "coeff_df\n"
   ]
  },
  {
   "cell_type": "markdown",
   "metadata": {},
   "source": [
    "###### Predicted values once applying regression modeling "
   ]
  },
  {
   "cell_type": "code",
   "execution_count": 119,
   "metadata": {},
   "outputs": [
    {
     "data": {
      "text/html": [
       "<div>\n",
       "<style scoped>\n",
       "    .dataframe tbody tr th:only-of-type {\n",
       "        vertical-align: middle;\n",
       "    }\n",
       "\n",
       "    .dataframe tbody tr th {\n",
       "        vertical-align: top;\n",
       "    }\n",
       "\n",
       "    .dataframe thead th {\n",
       "        text-align: right;\n",
       "    }\n",
       "</style>\n",
       "<table border=\"1\" class=\"dataframe\">\n",
       "  <thead>\n",
       "    <tr style=\"text-align: right;\">\n",
       "      <th></th>\n",
       "      <th>Actual</th>\n",
       "      <th>Predicted</th>\n",
       "    </tr>\n",
       "  </thead>\n",
       "  <tbody>\n",
       "    <tr>\n",
       "      <td>0</td>\n",
       "      <td>19.0</td>\n",
       "      <td>18.116454</td>\n",
       "    </tr>\n",
       "    <tr>\n",
       "      <td>1</td>\n",
       "      <td>22.5</td>\n",
       "      <td>22.792134</td>\n",
       "    </tr>\n",
       "    <tr>\n",
       "      <td>2</td>\n",
       "      <td>28.8</td>\n",
       "      <td>28.419249</td>\n",
       "    </tr>\n",
       "    <tr>\n",
       "      <td>3</td>\n",
       "      <td>22.8</td>\n",
       "      <td>22.941834</td>\n",
       "    </tr>\n",
       "    <tr>\n",
       "      <td>4</td>\n",
       "      <td>22.6</td>\n",
       "      <td>22.610014</td>\n",
       "    </tr>\n",
       "    <tr>\n",
       "      <td>5</td>\n",
       "      <td>21.7</td>\n",
       "      <td>21.937373</td>\n",
       "    </tr>\n",
       "    <tr>\n",
       "      <td>6</td>\n",
       "      <td>29.1</td>\n",
       "      <td>27.178866</td>\n",
       "    </tr>\n",
       "    <tr>\n",
       "      <td>7</td>\n",
       "      <td>24.5</td>\n",
       "      <td>24.094648</td>\n",
       "    </tr>\n",
       "    <tr>\n",
       "      <td>8</td>\n",
       "      <td>26.2</td>\n",
       "      <td>25.322181</td>\n",
       "    </tr>\n",
       "    <tr>\n",
       "      <td>9</td>\n",
       "      <td>0.0</td>\n",
       "      <td>0.436114</td>\n",
       "    </tr>\n",
       "  </tbody>\n",
       "</table>\n",
       "</div>"
      ],
      "text/plain": [
       "   Actual  Predicted\n",
       "0    19.0  18.116454\n",
       "1    22.5  22.792134\n",
       "2    28.8  28.419249\n",
       "3    22.8  22.941834\n",
       "4    22.6  22.610014\n",
       "5    21.7  21.937373\n",
       "6    29.1  27.178866\n",
       "7    24.5  24.094648\n",
       "8    26.2  25.322181\n",
       "9     0.0   0.436114"
      ]
     },
     "execution_count": 119,
     "metadata": {},
     "output_type": "execute_result"
    }
   ],
   "source": [
    "y_predict = regression.predict(X_test)\n",
    "\n",
    "y_df = pd.DataFrame({'Actual': y_test, 'Predicted': y_predict})\n",
    "y_df.head(10)"
   ]
  },
  {
   "cell_type": "markdown",
   "metadata": {},
   "source": [
    "##### Regression Analysis : Visualization after applying mulit regression to our predicted findings"
   ]
  },
  {
   "cell_type": "code",
   "execution_count": 120,
   "metadata": {},
   "outputs": [
    {
     "data": {
      "image/png": "[encoded data removed]",
      "text/plain": [
       "<Figure size 1152x720 with 1 Axes>"
      ]
     },
     "metadata": {
      "needs_background": "light"
     },
     "output_type": "display_data"
    }
   ],
   "source": [
    "y_df = y_df.head(25)\n",
    "y_df.plot(kind='bar',figsize=(16,10))\n",
    "plt.grid(which='major', linestyle='-', linewidth='0.5', color='green')\n",
    "plt.grid(which='minor', linestyle=':', linewidth='0.5', color='black')\n",
    "plt.show()"
   ]
  },
  {
   "cell_type": "code",
   "execution_count": 121,
   "metadata": {},
   "outputs": [
    {
     "name": "stdout",
     "output_type": "stream",
     "text": [
      "Mean Absolute Error: 0.5139944707668125\n",
      "Mean Squared Error: 1.640419229734148\n",
      "Root Mean Squared Error: 1.2807885187391976\n"
     ]
    }
   ],
   "source": [
    "print('Mean Absolute Error:', metrics.mean_absolute_error(y_test, y_predict))  \n",
    "print('Mean Squared Error:', metrics.mean_squared_error(y_test, y_predict))  \n",
    "print('Root Mean Squared Error:', np.sqrt(metrics.mean_squared_error(y_test, y_predict)))"
   ]
  },
  {
   "cell_type": "code",
   "execution_count": 122,
   "metadata": {},
   "outputs": [
    {
     "name": "stdout",
     "output_type": "stream",
     "text": [
      "Root mean squared error =  1.2807885187391976\n",
      "R-squared =  0.9721228415677579\n"
     ]
    },
    {
     "data": {
      "image/png": "[encoded data removed]",
      "text/plain": [
       "<Figure size 432x288 with 1 Axes>"
      ]
     },
     "metadata": {
      "needs_background": "light"
     },
     "output_type": "display_data"
    }
   ],
   "source": [
    "# Comparing true versus predicted values\n",
    "plt.scatter(y_test, y_predict, color='black')\n",
    "plt.title('Comparing true and predicted values for test set')\n",
    "plt.xlabel('True values for y')\n",
    "plt.ylabel('Predicted values for y')\n",
    "\n",
    "# Model evaluation\n",
    "print(\"Root mean squared error = \", np.sqrt(metrics.mean_squared_error(y_test, y_predict)))\n",
    "print(\"R-squared = \", metrics.r2_score(y_test, y_predict))"
   ]
  },
  {
   "cell_type": "code",
   "execution_count": 123,
   "metadata": {},
   "outputs": [],
   "source": [
    "# Regression chart.\n",
    "def chart_regression(pred,y,sort=True):\n",
    "    t = pd.DataFrame({'pred' : pred, 'y' : y.flatten()})\n",
    "    if sort:\n",
    "        t.sort_values(by=['y'],inplace=True)\n",
    "    a = plt.plot(t['y'].tolist(),label='expected')\n",
    "    b = plt.plot(t['pred'].tolist(),label='prediction')\n",
    "    plt.ylabel('output')\n",
    "    plt.legend()\n",
    "    plt.show()\n"
   ]
  },
  {
   "cell_type": "code",
   "execution_count": 124,
   "metadata": {},
   "outputs": [
    {
     "data": {
      "image/png": "[encoded data removed]",
      "text/plain": [
       "<Figure size 432x288 with 1 Axes>"
      ]
     },
     "metadata": {
      "needs_background": "light"
     },
     "output_type": "display_data"
    }
   ],
   "source": [
    "chart_regression(y_predict,y_test)"
   ]
  },
  {
   "cell_type": "code",
   "execution_count": null,
   "metadata": {},
   "outputs": [],
   "source": []
  }
 ],
 "metadata": {
  "kernelspec": {
   "display_name": "Python 3",
   "language": "python",
   "name": "python3"
  },
  "language_info": {
   "codemirror_mode": {
    "name": "ipython",
    "version": 3
   },
   "file_extension": ".py",
   "mimetype": "text/x-python",
   "name": "python",
   "nbconvert_exporter": "python",
   "pygments_lexer": "ipython3",
   "version": "3.7.4"
  }
 },
 "nbformat": 4,
 "nbformat_minor": 2
}
